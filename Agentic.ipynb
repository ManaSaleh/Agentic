{
 "cells": [
  {
   "cell_type": "markdown",
   "id": "d3fa16b9-503b-46ab-bfa1-0dce73b63d85",
   "metadata": {
    "jp-MarkdownHeadingCollapsed": true
   },
   "source": [
    "### Data Downloading and File Setup"
   ]
  },
  {
   "cell_type": "code",
   "execution_count": 2,
   "id": "d3bfcdc9-5036-44ce-8836-46aaf9609e51",
   "metadata": {},
   "outputs": [],
   "source": [
    "import os\n",
    "import requests"
   ]
  },
  {
   "cell_type": "code",
   "execution_count": 2,
   "id": "61b5afa2-1471-4c4c-8140-f3fc79dd73d1",
   "metadata": {},
   "outputs": [
    {
     "name": "stdout",
     "output_type": "stream",
     "text": [
      "Downloaded the file to: Data/paul_graham/paul_graham_essay.txt\n",
      "Downloaded expedia_10k_2023.pdf to Data/10k/expedia_10k_2023.pdf\n",
      "Downloaded booking_10k_2023.pdf to Data/10k/booking_10k_2023.pdf\n",
      "Downloaded uber_10k_2023.pdf to Data/10k/uber_10k_2023.pdf\n",
      "Downloaded lyft_10k_2023.pdf to Data/10k/lyft_10k_2023.pdf\n"
     ]
    }
   ],
   "source": [
    "os.makedirs('Data/paul_graham/', exist_ok=True)\n",
    "os.makedirs('Data/10k/', exist_ok=True)\n",
    "\n",
    "url = 'https://raw.githubusercontent.com/run-llama/llama_index/main/docs/docs/examples/data/paul_graham/paul_graham_essay.txt'\n",
    "output_path = 'Data/paul_graham/paul_graham_essay.txt'\n",
    "\n",
    "response = requests.get(url)\n",
    "\n",
    "with open(output_path, 'wb') as file:\n",
    "    file.write(response.content)\n",
    "print(f\"Downloaded the file to: {output_path}\")\n",
    "\n",
    "files = {\n",
    "    'https://d18rn0p25nwr6d.cloudfront.net/CIK-0001324424/1d1b7ef4-fd87-4efa-a8fd-f728746142d1.pdf': 'expedia_10k_2023.pdf',\n",
    "    'https://d18rn0p25nwr6d.cloudfront.net/CIK-0001075531/31c876e5-f44f-4645-8757-e2b828c23357.pdf': 'booking_10k_2023.pdf',\n",
    "    'https://d18rn0p25nwr6d.cloudfront.net/CIK-0001543151/6fabd79a-baa9-4b08-84fe-deab4ef8415f.pdf': 'uber_10k_2023.pdf',\n",
    "    'https://d18rn0p25nwr6d.cloudfront.net/CIK-0001759509/d576a7f4-780c-4f39-86a6-aa54b03fa2ec.pdf': 'lyft_10k_2023.pdf'\n",
    "}\n",
    "\n",
    "for url, filename in files.items():\n",
    "    output_path = f'Data/10k/{filename}'\n",
    "    response = requests.get(url)\n",
    "    with open(output_path, 'wb') as file:\n",
    "        file.write(response.content)\n",
    "    print(f\"Downloaded {filename} to {output_path}\")"
   ]
  },
  {
   "cell_type": "markdown",
   "id": "1c60b4d8-afa8-48e8-aed1-299b10c01bde",
   "metadata": {
    "jp-MarkdownHeadingCollapsed": true
   },
   "source": [
    "### OpenAI"
   ]
  },
  {
   "cell_type": "code",
   "execution_count": 3,
   "id": "2069aa91-36a9-414d-96b5-efaef1a43473",
   "metadata": {},
   "outputs": [],
   "source": [
    "from llama_index.llms.openai import OpenAI\n",
    "from llama_index.embeddings.openai import OpenAIEmbedding\n",
    "from llama_index.core import Settings\n",
    "\n",
    "os.environ[\"OPENAI_API_KEY\"] = \"#\"\n",
    "\n",
    "Settings.llm = OpenAI(model='gpt-4o-mini', temperature=0.2)\n",
    "Settings.embed_model = OpenAIEmbedding(model='text-embedding-3-small')\n",
    "Settings.chunk_size = 1024"
   ]
  },
  {
   "cell_type": "markdown",
   "id": "9871f7da-02ba-46a1-8f8a-62c09ad050b3",
   "metadata": {
    "jp-MarkdownHeadingCollapsed": true
   },
   "source": [
    "### Indexing, Saving, and Loading "
   ]
  },
  {
   "cell_type": "markdown",
   "id": "20916c10-ee8c-4255-8300-78ffcd339bc7",
   "metadata": {},
   "source": [
    "- `SimpleDirectoryReader`: Reads the content of files from given paths.\n",
    "- `VectorStoreIndex.from_documents`: Creates an index from the loaded documents for querying.\n",
    "- `StorageContext.persist`: Saves the indices to a specified directory.\n",
    "- `load_index_from_storage`: Reloads indices from storage for use."
   ]
  },
  {
   "cell_type": "code",
   "execution_count": 4,
   "id": "bea745c2-3aa2-47d8-a7ed-61be039292ca",
   "metadata": {},
   "outputs": [],
   "source": [
    "from llama_index.core import SimpleDirectoryReader, VectorStoreIndex\n",
    "from llama_index.core import StorageContext, load_index_from_storage\n",
    "import os\n",
    "\n",
    "def index_and_load_data(paul_graham_path, tenk_paths, storage_dir):\n",
    "    \"\"\"\n",
    "    Indexes, saves, and loads data for the Paul Graham essay and 10k filings.\n",
    "    \n",
    "    :param paul_graham_path: Path to the Paul Graham essay file.\n",
    "    :param tenk_paths: Dictionary with names and paths to 10k filing PDF files.\n",
    "    :param storage_dir: Directory where indices will be stored.\n",
    "    :return: Indexed Paul Graham essay and 10k indices.\n",
    "    \"\"\"\n",
    "    # Load and index the Paul Graham essay\n",
    "    paul_graham_documents = SimpleDirectoryReader(input_files=[paul_graham_path]).load_data()\n",
    "    paul_graham_index = VectorStoreIndex.from_documents(paul_graham_documents)\n",
    "    print(\"Indexed Paul Graham essay.\")\n",
    "\n",
    "    # Load and index the 10k filings\n",
    "    tenk_indices = {}\n",
    "    for name, path in tenk_paths.items():\n",
    "        documents = SimpleDirectoryReader(input_files=[path]).load_data()\n",
    "        index = VectorStoreIndex.from_documents(documents)\n",
    "        tenk_indices[name] = index\n",
    "        print(f\"Indexed {name}.\")\n",
    "\n",
    "    # Save indices to disk\n",
    "    os.makedirs(storage_dir, exist_ok=True)\n",
    "    paul_graham_index.storage_context.persist(persist_dir=f'{storage_dir}/paul_graham_index')\n",
    "    print(\"Indexed and saved Paul Graham essay.\")\n",
    "\n",
    "    for name, index in tenk_indices.items():\n",
    "        index.storage_context.persist(persist_dir=f'{storage_dir}/{name}_index')\n",
    "        print(f\"Saved {name} index to disk.\")\n",
    "\n",
    "    # load indices from storage\n",
    "    paul_graham_index = load_index_from_storage(StorageContext.from_defaults(persist_dir=f'{storage_dir}/paul_graham_index'))\n",
    "    print(\"Loaded Paul Graham essay index.\")\n",
    "\n",
    "    tenk_indices_paths = {name: f'{storage_dir}/{name}_index' for name in tenk_paths.keys()}\n",
    "    tenk_indices = {name: load_index_from_storage(StorageContext.from_defaults(persist_dir=path)) for name, path in tenk_indices_paths.items()}\n",
    "    print(\"Loaded all 10k indices.\")\n",
    "\n",
    "    return paul_graham_index, tenk_indices"
   ]
  },
  {
   "cell_type": "code",
   "execution_count": 5,
   "id": "ce8d2863-9cb4-4713-aed7-81ad73cb7153",
   "metadata": {},
   "outputs": [],
   "source": [
    "paul_graham_path = 'Data/paul_graham/paul_graham_essay.txt'\n",
    "tenk_paths = {\n",
    "    'expedia_10k_2023': 'Data/10k/expedia_10k_2023.pdf',\n",
    "    'booking_10k_2023': 'Data/10k/booking_10k_2023.pdf',\n",
    "    'uber_10k_2023': 'Data/10k/uber_10k_2023.pdf',\n",
    "    'lyft_10k_2023': 'Data/10k/lyft_10k_2023.pdf'\n",
    "}\n",
    "storage_dir = 'Data/storage'"
   ]
  },
  {
   "cell_type": "code",
   "execution_count": 6,
   "id": "835d6a51-4f54-40b2-8f42-3482780ca8a6",
   "metadata": {},
   "outputs": [
    {
     "name": "stdout",
     "output_type": "stream",
     "text": [
      "Indexed Paul Graham essay.\n",
      "Indexed expedia_10k_2023.\n",
      "Indexed booking_10k_2023.\n",
      "Indexed uber_10k_2023.\n",
      "Indexed lyft_10k_2023.\n",
      "Indexed and saved Paul Graham essay.\n",
      "Saved expedia_10k_2023 index to disk.\n",
      "Saved booking_10k_2023 index to disk.\n",
      "Saved uber_10k_2023 index to disk.\n",
      "Saved lyft_10k_2023 index to disk.\n",
      "Loaded Paul Graham essay index.\n",
      "Loaded all 10k indices.\n"
     ]
    }
   ],
   "source": [
    "paul_graham_index, tenk_indices = index_and_load_data(paul_graham_path, tenk_paths, storage_dir)"
   ]
  },
  {
   "cell_type": "code",
   "execution_count": 62,
   "id": "6b7cbdb8-6377-4a54-9668-af1f5f46128d",
   "metadata": {},
   "outputs": [
    {
     "data": {
      "text/plain": [
       "{'expedia_10k_2023': <llama_index.core.indices.vector_store.base.VectorStoreIndex at 0x75c707ddedb0>,\n",
       " 'booking_10k_2023': <llama_index.core.indices.vector_store.base.VectorStoreIndex at 0x75c7084420f0>,\n",
       " 'uber_10k_2023': <llama_index.core.indices.vector_store.base.VectorStoreIndex at 0x75c707806060>,\n",
       " 'lyft_10k_2023': <llama_index.core.indices.vector_store.base.VectorStoreIndex at 0x75c7053d9f40>}"
      ]
     },
     "execution_count": 62,
     "metadata": {},
     "output_type": "execute_result"
    }
   ],
   "source": [
    "tenk_indices"
   ]
  },
  {
   "cell_type": "markdown",
   "id": "39f29e6f-16bc-431f-8e04-188bd77142be",
   "metadata": {
    "jp-MarkdownHeadingCollapsed": true
   },
   "source": [
    "### Creating Tools and Router Engines for Query Handling"
   ]
  },
  {
   "cell_type": "markdown",
   "id": "6fd3f292-f71e-4a0e-9cc5-ffb811523b2a",
   "metadata": {},
   "source": [
    "- `QueryEngineTool`: Configures each tool with its corresponding query engine and metadata.\n",
    "- `RouterQueryEngine`: Manages multiple tools, directing queries to the appropriate tool based on context.\n",
    "- `LLMSingleSelector`: Automatically selects the right tool for the task based on the nature of the query."
   ]
  },
  {
   "cell_type": "code",
   "execution_count": 7,
   "id": "531b9e79-df35-43d6-983a-8acb38a3a67f",
   "metadata": {},
   "outputs": [],
   "source": [
    "from llama_index.core.tools import QueryEngineTool, ToolMetadata\n",
    "from llama_index.core.query_engine import RouterQueryEngine\n",
    "from llama_index.core.selectors import LLMSingleSelector"
   ]
  },
  {
   "cell_type": "code",
   "execution_count": 9,
   "id": "cccbeea0-10fc-4d58-a1be-65a48f45e198",
   "metadata": {},
   "outputs": [
    {
     "name": "stdout",
     "output_type": "stream",
     "text": [
      "Created QA tool for Paul Graham essay.\n"
     ]
    }
   ],
   "source": [
    "# Create QA tool for Paul Graham essay\n",
    "paul_graham_qa_tool = QueryEngineTool(\n",
    "    query_engine=paul_graham_index.as_query_engine(),\n",
    "    metadata=ToolMetadata(\n",
    "        name=\"paul_graham_qa\",\n",
    "        description=\"A question-answering tool that handles queries related to Paul Graham's essay, providing precise and relevant answers.\",\n",
    "    )\n",
    ")\n",
    "print(\"Created QA tool for Paul Graham essay.\")"
   ]
  },
  {
   "cell_type": "code",
   "execution_count": 10,
   "id": "c5e23338-8bac-43d2-93ca-31edbe36005a",
   "metadata": {},
   "outputs": [
    {
     "name": "stdout",
     "output_type": "stream",
     "text": [
      "Created Summarization tool for Paul Graham essay.\n"
     ]
    }
   ],
   "source": [
    "# Create Summarization tool for Paul Graham essay\n",
    "paul_graham_summarization_tool = QueryEngineTool(\n",
    "    query_engine=paul_graham_index.as_query_engine(response_mode=\"tree_summarize\"),\n",
    "    metadata=ToolMetadata(\n",
    "        name=\"paul_graham_summarization\",\n",
    "        description=\"A summarization tool that provides concise summaries of Paul Graham's essay.\",\n",
    "    )\n",
    ")\n",
    "print(\"Created Summarization tool for Paul Graham essay.\")"
   ]
  },
  {
   "cell_type": "code",
   "execution_count": 11,
   "id": "566db89f-9451-4614-9668-63b1f329f124",
   "metadata": {},
   "outputs": [],
   "source": [
    "tools_pg = [paul_graham_qa_tool, paul_graham_summarization_tool]"
   ]
  },
  {
   "cell_type": "code",
   "execution_count": 12,
   "id": "7dbb5eca-8cbe-4b6d-822e-1a3b4f28f0f2",
   "metadata": {},
   "outputs": [
    {
     "name": "stdout",
     "output_type": "stream",
     "text": [
      "Created tool for expedia_10k_2023.\n",
      "Created tool for booking_10k_2023.\n",
      "Created tool for uber_10k_2023.\n",
      "Created tool for lyft_10k_2023.\n"
     ]
    }
   ],
   "source": [
    "# Create tools for 10k filings\n",
    "tools_tenk = []\n",
    "for name, index in tenk_indices.items():\n",
    "    tool = QueryEngineTool(\n",
    "        query_engine=index.as_query_engine(similarity_top_k=3),\n",
    "        metadata=ToolMetadata(\n",
    "            name=name,\n",
    "            description=f\"Provides information from {name.replace('_', ' ')} filing for the year 2023.\",\n",
    "        )\n",
    "    )\n",
    "    tools_tenk.append(tool)\n",
    "    print(f\"Created tool for {name}.\")"
   ]
  },
  {
   "cell_type": "code",
   "execution_count": 13,
   "id": "91910595-7725-46b9-a238-faec4037cb73",
   "metadata": {},
   "outputs": [],
   "source": [
    "# Create a Router Query Engine for Paul Graham tools\n",
    "pg_engine = RouterQueryEngine(\n",
    "    selector=LLMSingleSelector.from_defaults(),\n",
    "    query_engine_tools=[paul_graham_qa_tool, paul_graham_summarization_tool]\n",
    ")"
   ]
  },
  {
   "cell_type": "code",
   "execution_count": 14,
   "id": "f5e39012-5649-4678-acb6-e8bf9612dda0",
   "metadata": {},
   "outputs": [],
   "source": [
    "# Create a Router Query Engine for 10k filing tools\n",
    "tenk_engine = RouterQueryEngine(\n",
    "    selector=LLMSingleSelector.from_defaults(),\n",
    "    query_engine_tools=tools_tenk\n",
    ")"
   ]
  },
  {
   "cell_type": "markdown",
   "id": "1b5c15ce-f9bc-4344-97ee-78829c33b25c",
   "metadata": {
    "jp-MarkdownHeadingCollapsed": true
   },
   "source": [
    "### Executing Queries and Retrieving Responses"
   ]
  },
  {
   "cell_type": "markdown",
   "id": "3e85e6d1-fc5d-4acc-96cb-5f3a83064d7a",
   "metadata": {},
   "source": [
    "- **`tenk_engine.query()`**: Executes the query against the configured 10k filing tools to fetch relevant financial data.\n",
    "- **`pg_engine.query()`**: Executes the query against the Paul Graham essay tools to either summarize or extract specific information.\n",
    "- **Formatted Output**: The responses are printed in a readable format, clearly labeled to differentiate between the different queries."
   ]
  },
  {
   "cell_type": "code",
   "execution_count": 15,
   "id": "69c02ea5-4d06-4be4-a175-dccfdc021fe3",
   "metadata": {},
   "outputs": [],
   "source": [
    "expedia_query = \"What is the income statement of Expedia for year 2023?\"\n",
    "booking_query = \"What is the income statement of booking.com for year 2023?\"\n",
    "uber_query = \"What is the income statement of Uber for year 2023?\"\n",
    "lyft_query = \"What is the income statement of Lyft for year 2023?\"\n",
    "\n",
    "paul_graham_summary_query = \"Summarize the information contained in the Paul Graham essay.\"\n",
    "paul_graham_yc_query = \"What did Paul Graham do at Y Combinator from the Paul Graham essay?\""
   ]
  },
  {
   "cell_type": "code",
   "execution_count": 16,
   "id": "4819c639-7748-4095-b2f2-25ff4cc2fe40",
   "metadata": {
    "scrolled": true
   },
   "outputs": [
    {
     "name": "stdout",
     "output_type": "stream",
     "text": [
      "Expedia Response:\n",
      "For the year ended December 31, 2023, the income statement of Expedia Group, Inc. is as follows:\n",
      "\n",
      "- Revenue: $12,839 million\n",
      "- Costs and expenses:\n",
      "  - Cost of revenue (exclusive of depreciation and amortization): $1,573 million\n",
      "  - Selling and marketing - direct: $6,107 million\n",
      "  - Selling and marketing - indirect: $756 million\n",
      "  - Technology and content: $1,358 million\n",
      "  - General and administrative: $771 million\n",
      "  - Depreciation and amortization: $807 million\n",
      "  - Impairment of goodwill: $297 million\n",
      "  - Intangible and other long-term asset impairment: $129 million\n",
      "  - Legal reserves, occupancy tax and other: $8 million\n",
      "  - Restructuring and related reorganization charges: $0 million\n",
      "\n",
      "- Operating income: $1,033 million\n",
      "\n",
      "- Other income (expense):\n",
      "  - Interest income: $207 million\n",
      "  - Interest expense: $(245) million\n",
      "  - Gain (loss) on debt extinguishment, net: $0 million\n",
      "  - Gain on sale of business, net: $25 million\n",
      "  - Other, net: $(2) million\n",
      "\n",
      "- Total other expense, net: $(15) million\n",
      "\n",
      "- Income before income taxes: $1,018 million\n",
      "- Provision for income taxes: $(330) million\n",
      "\n",
      "- Net income: $688 million\n",
      "- Net income attributable to non-controlling interests: $109 million\n",
      "- Net income attributable to Expedia Group, Inc.: $797 million\n",
      "\n",
      "- Preferred stock dividend: $0 million\n",
      "- Loss on redemption of preferred stock: $0 million\n",
      "\n",
      "- Net income (loss) attributable to Expedia Group, Inc. common stockholders: $797 million\n",
      "\n",
      "- Earnings per share attributable to Expedia Group, Inc. available to common stockholders:\n",
      "  - Basic: $5.50\n",
      "  - Diluted: $5.31\n",
      "\n",
      "- Shares used in computing earnings (loss) per share:\n",
      "  - Basic: 144,967,000\n",
      "  - Diluted: 150,228,000\n",
      "\n"
     ]
    }
   ],
   "source": [
    "expedia_response = tenk_engine.query(expedia_query)\n",
    "print(f\"Expedia Response:\\n{expedia_response}\\n\")"
   ]
  },
  {
   "cell_type": "code",
   "execution_count": 17,
   "id": "822f248d-e4dc-44c7-a957-ca7d37015164",
   "metadata": {},
   "outputs": [
    {
     "name": "stdout",
     "output_type": "stream",
     "text": [
      "Paul Graham Essay Summary:\n",
      "The essay reflects on Paul Graham's journey in the tech and startup world, highlighting his experiences with Lisp programming, the founding of Y Combinator, and the evolution of publishing in the digital age. Graham discusses the significance of creating a new dialect of Lisp called Arc and his realization of the potential for online essays to reach a broad audience, contrasting it with the restrictive nature of print publishing. He emphasizes the value of pursuing work that may lack prestige, suggesting that such pursuits often lead to genuine discoveries and align with pure motives. The essay also recounts his personal life, including his relationship with Jessica Livingston and the formation of Y Combinator, driven by their shared vision for a new approach to venture capital. Graham reflects on the early days of Y Combinator, noting their lack of prior experience in angel investing, which allowed them to innovate and implement their ideas effectively. Throughout, he underscores the importance of writing and sharing ideas as a means of contributing to the startup ecosystem.\n",
      "\n",
      "------------------------------------------------------------------------------------------------------------------------------------------------------\n",
      "Paul Graham at Y Combinator Response:\n",
      "At Y Combinator, Paul Graham and his team focused on being an angel investment firm, making seed investments in startups while also providing extensive support to founders. They implemented a batch model to fund multiple startups at once, twice a year, and dedicated three months to help these startups grow. This included organizing a Summer Founders Program to attract undergraduates interested in starting their own companies, where they would receive funding and mentorship. Graham aimed to replicate the support he had received in the past, helping founders with practical aspects of starting a company, such as incorporation and business development.\n",
      "\n"
     ]
    }
   ],
   "source": [
    "paul_graham_summary_response = pg_engine.query(paul_graham_summary_query)\n",
    "print(f\"Paul Graham Essay Summary:\\n{paul_graham_summary_response}\\n\")\n",
    "print('---'*50)\n",
    "paul_graham_yc_response = pg_engine.query(paul_graham_yc_query)\n",
    "print(f\"Paul Graham at Y Combinator Response:\\n{paul_graham_yc_response}\\n\")\n"
   ]
  },
  {
   "cell_type": "markdown",
   "id": "f7caf3e3-951b-472a-9cc0-8f54ba65e7c8",
   "metadata": {
    "jp-MarkdownHeadingCollapsed": true
   },
   "source": [
    "### Creating and Using OpenAIAgent"
   ]
  },
  {
   "cell_type": "markdown",
   "id": "dc3270e4-4340-4996-adbc-07b7137baf47",
   "metadata": {},
   "source": [
    "- **`OpenAIAgent.from_tools()`**: This function initializes the agent with the specified tools, allowing it to access a wide range of data sources and perform various tasks.\n",
    "- **`agent.chat()`**: Used to interact with the agent and ask questions or make requests, leveraging the capabilities of the integrated tools.\n",
    "- **`verbose=True`**: Enables detailed logging of the query handling process, making it easier to debug and understand the agent's actions."
   ]
  },
  {
   "cell_type": "code",
   "execution_count": 19,
   "id": "6c82f904-3880-4358-9feb-5c3c846f60da",
   "metadata": {},
   "outputs": [],
   "source": [
    "from llama_index.agent.openai import OpenAIAgent"
   ]
  },
  {
   "cell_type": "code",
   "execution_count": 20,
   "id": "5e75dbe3-dc9f-4114-aaa9-af258b8813b9",
   "metadata": {},
   "outputs": [
    {
     "name": "stdout",
     "output_type": "stream",
     "text": [
      "OpenAIAgent created and ready to handle queries.\n"
     ]
    }
   ],
   "source": [
    "agent = OpenAIAgent.from_tools(tools=tools_pg + tools_tenk, verbose=True)\n",
    "print(\"OpenAIAgent created and ready to handle queries.\")"
   ]
  },
  {
   "cell_type": "code",
   "execution_count": 21,
   "id": "f13f5b97-908f-4a08-86dc-c8fcf59f7c7e",
   "metadata": {},
   "outputs": [
    {
     "name": "stdout",
     "output_type": "stream",
     "text": [
      "Added user message to memory: What is the revenue growth of Expedia in 2023?\n",
      "=== Calling Function ===\n",
      "Calling function: expedia_10k_2023 with args: {\"input\":\"revenue growth 2023\"}\n",
      "Got output: In 2023, total revenue reached $12,839 million, reflecting an increase of 10% compared to $11,667 million in 2022. This growth was driven by various business models, with the merchant model generating $8,818 million, up from $7,762 million in the previous year, and the agency model increasing to $3,075 million from $2,994 million. Additionally, advertising, media, and other revenues rose to $946 million from $911 million. The lodging service type saw significant growth, reaching $10,264 million compared to $8,905 million in 2022. Overall, the revenue growth in 2023 was robust across multiple segments and service types.\n",
      "========================\n",
      "\n",
      "Response:\n",
      "In 2023, Expedia's total revenue reached $12,839 million, reflecting a 10% increase compared to $11,667 million in 2022. This growth was driven by various business models, including significant increases in the merchant model and lodging services.\n"
     ]
    }
   ],
   "source": [
    "response = agent.chat(\"What is the revenue growth of Expedia in 2023?\")\n",
    "print(f\"Response:\\n{response}\")"
   ]
  },
  {
   "cell_type": "markdown",
   "id": "9517c9ca-fe12-4e7e-817c-6042d1a275d3",
   "metadata": {
    "jp-MarkdownHeadingCollapsed": true
   },
   "source": [
    "### Creating an Assistant Agent with Combined Instructions"
   ]
  },
  {
   "cell_type": "markdown",
   "id": "9dc4d8cd-61b8-4909-a9d9-eb219a79f505",
   "metadata": {},
   "source": [
    "- **`OpenAIAssistantAgent.from_new()`**: Creates a new assistant agent with specific instructions and tools, designed to handle complex queries and provide detailed responses.\n",
    "- **`tools_pg + tools_tenk`**: Combines the tools for querying both the essay and financial filings, enhancing the agent’s versatility."
   ]
  },
  {
   "cell_type": "code",
   "execution_count": 25,
   "id": "39e67d68-54d8-4518-8033-036e2146e7af",
   "metadata": {},
   "outputs": [],
   "source": [
    "from llama_index.agent.openai import OpenAIAssistantAgent\n",
    "\n",
    "instructions = (\n",
    "    \"You are an assistant that can provide answers to questions from 10k Filings, \"\n",
    "    \"and also answer questions and summarize the Paul Graham essay. Choose the best approach \"\n",
    "    \"based on the question asked and provide concise, relevant responses using the available tools.\"\n",
    ")\n",
    "\n",
    "def assistant_agent(tools):\n",
    "    agent = OpenAIAssistantAgent.from_new(\n",
    "        name=\"RAG Agent\",\n",
    "        instructions= instructions, \n",
    "        tools=tools, \n",
    "        verbose=True,\n",
    "        run_retrieve_sleep_time=1.0\n",
    "    )\n",
    "    \n",
    "    print(\"OpenAIAssistantAgent created with all provided tools.\")\n",
    "    return agent"
   ]
  },
  {
   "cell_type": "code",
   "execution_count": 26,
   "id": "1f84963e-334c-4257-b858-4c9376f3b3bf",
   "metadata": {},
   "outputs": [
    {
     "name": "stdout",
     "output_type": "stream",
     "text": [
      "OpenAIAssistantAgent created with all provided tools.\n"
     ]
    }
   ],
   "source": [
    "rag_agent = assistant_agent(tools_pg + tools_tenk)"
   ]
  },
  {
   "cell_type": "code",
   "execution_count": 27,
   "id": "f103d38e-0012-4bd9-88cb-049a44957092",
   "metadata": {
    "scrolled": true
   },
   "outputs": [
    {
     "name": "stdout",
     "output_type": "stream",
     "text": [
      "=== Calling Function ===\n",
      "Calling function: paul_graham_qa with args: {\"input\":\"Can you share some personal anecdotes from the essay?\"}\n",
      "Got output: The essay includes several personal anecdotes that illustrate the author's journey and experiences. One notable moment is when the author reflects on the surprise of finding an audience after giving a talk at a Lisp conference, which unexpectedly garnered 30,000 page views after being shared on Slashdot. This experience highlighted the newfound accessibility of publishing online, contrasting it with the restrictive print era where only a select few could reach readers.\n",
      "\n",
      "Another anecdote involves the author's realization of the potential for writing essays online, which led to a commitment to continue writing despite the medium's initial lack of prestige. The author acknowledges that working on projects perceived as unprestigious, like Lisp and online essays, often leads to genuine discoveries and aligns with authentic motives.\n",
      "\n",
      "Additionally, the author shares insights from the process of writing an essay to explore how to choose future projects, revealing a messy and lengthy reflection that ultimately became a more polished piece for others to read. These anecdotes collectively emphasize the author's evolving relationship with writing, publishing, and the significance of pursuing work driven by genuine interest rather than prestige.\n",
      "========================\n",
      "Response:\n",
      "Paul Graham shares several personal anecdotes in his essay:\n",
      "\n",
      "1. He talks about his surprise at finding an audience after giving a talk at a Lisp conference, which gained 30,000 page views when shared on Slashdot. This incident highlighted the difference between the emerging online publishing space and the restrictive print era.\n",
      "\n",
      "2. He mentions how the potential of writing essays online led him to commit to continue writing, despite the medium's initial lack of prestige. He suggests that working on projects that seem unprestigious, like Lisp and online essays, can lead to genuine discoveries.\n",
      "\n",
      "3. The author describes the process of writing an essay to decide on future projects. The process was messy and lengthy but turned out to be valuable for creating polished work for readers.\n",
      "\n",
      "These anecdotes deliver insights into Graham's journey as a writer and his perspectives on the value of authenticity in choosing projects to work on.\n",
      "\n"
     ]
    }
   ],
   "source": [
    "response = rag_agent.chat(\"What are some personal anecdotes from Paul Graham's essay?\")\n",
    "print(f\"Response:\\n{response}\\n\")"
   ]
  },
  {
   "cell_type": "code",
   "execution_count": 28,
   "id": "8f013748-0a8d-49c0-84dc-065318110690",
   "metadata": {
    "scrolled": true
   },
   "outputs": [
    {
     "name": "stdout",
     "output_type": "stream",
     "text": [
      "=== Calling Function ===\n",
      "Calling function: expedia_10k_2023 with args: {\"input\":\"What is the revenue growth of Expedia in 2023?\"}\n",
      "Got output: Expedia's total revenue in 2023 was $12,839 million, representing a growth of 10% compared to 2022.\n",
      "========================\n",
      "Response:\n",
      "In 2023, Expedia reported a total revenue of $12,839 million, experiencing a revenue growth of 10% compared to the previous year.\n"
     ]
    }
   ],
   "source": [
    "response = rag_agent.chat(\"What is the revenue growth of Expedia in 2023?\")\n",
    "print(f\"Response:\\n{response}\")"
   ]
  },
  {
   "cell_type": "markdown",
   "id": "66c06280-0736-4ae2-aef4-b94f8837f877",
   "metadata": {
    "jp-MarkdownHeadingCollapsed": true
   },
   "source": [
    "###  Using SubQuestionQueryEngine for Complex Financial Analysis and Query Planning"
   ]
  },
  {
   "cell_type": "markdown",
   "id": "15210c0e-b557-47e0-9226-4e9f6236c784",
   "metadata": {},
   "source": [
    "- **`SubQuestionQueryEngine.from_defaults()`**: Creates a query engine capable of decomposing complex questions into simpler, answerable sub-queries."
   ]
  },
  {
   "cell_type": "code",
   "execution_count": 29,
   "id": "a961fcb9-c295-4347-9dcf-5be78a1cab4f",
   "metadata": {
    "scrolled": true
   },
   "outputs": [],
   "source": [
    "import nest_asyncio\n",
    "from llama_index.core.query_engine import SubQuestionQueryEngine\n",
    "nest_asyncio.apply()"
   ]
  },
  {
   "cell_type": "code",
   "execution_count": 31,
   "id": "af4b4e68-c419-48df-abb6-8b8cb1a9c3fd",
   "metadata": {
    "scrolled": true
   },
   "outputs": [],
   "source": [
    "sub_question_query = \"\"\"\n",
    "Compare and contrast the revenue and expenses of Expedia and Booking.com \\\n",
    "for 2023 and provide an in-depth analysis.\n",
    "\"\"\""
   ]
  },
  {
   "cell_type": "code",
   "execution_count": 33,
   "id": "1ec57f2b-e5b7-4db5-933f-6004902b7135",
   "metadata": {},
   "outputs": [],
   "source": [
    "tools = tools_pg + tools_tenk\n",
    "query_planning_engine = SubQuestionQueryEngine.from_defaults(\n",
    "    query_engine_tools=tools,  \n",
    "    use_async=True  \n",
    ")"
   ]
  },
  {
   "cell_type": "code",
   "execution_count": 35,
   "id": "a4b0cd77-5bca-437e-b2c5-fac983a186d0",
   "metadata": {
    "scrolled": true
   },
   "outputs": [
    {
     "name": "stdout",
     "output_type": "stream",
     "text": [
      "Generated 8 sub questions.\n",
      "\u001b[1;3;38;2;237;90;200m[expedia_10k_2023] Q: What is the total revenue reported by Expedia in their 10K filing for 2023?\n",
      "\u001b[0m\u001b[1;3;38;2;90;149;237m[expedia_10k_2023] Q: What are the total expenses reported by Expedia in their 10K filing for 2023?\n",
      "\u001b[0m\u001b[1;3;38;2;11;159;203m[booking_10k_2023] Q: What is the total revenue reported by Booking.com in their 10K filing for 2023?\n",
      "\u001b[0m\u001b[1;3;38;2;155;135;227m[booking_10k_2023] Q: What are the total expenses reported by Booking.com in their 10K filing for 2023?\n",
      "\u001b[0m\u001b[1;3;38;2;237;90;200m[expedia_10k_2023] Q: How do the revenue figures of Expedia and Booking.com for 2023 compare?\n",
      "\u001b[0m\u001b[1;3;38;2;90;149;237m[booking_10k_2023] Q: How do the expense figures of Expedia and Booking.com for 2023 compare?\n",
      "\u001b[0m\u001b[1;3;38;2;11;159;203m[expedia_10k_2023] Q: What are the key factors influencing the revenue and expenses of Expedia in 2023?\n",
      "\u001b[0m\u001b[1;3;38;2;155;135;227m[booking_10k_2023] Q: What are the key factors influencing the revenue and expenses of Booking.com in 2023?\n",
      "\u001b[0m\u001b[1;3;38;2;237;90;200m[expedia_10k_2023] A: The total revenue reported by Expedia in their 10K filing for 2023 is $12,839 million.\n",
      "\u001b[0m\u001b[1;3;38;2;11;159;203m[booking_10k_2023] A: The total revenue reported by Booking.com for the year ended December 31, 2023, is $21,365 million.\n",
      "\u001b[0m\u001b[1;3;38;2;237;90;200m[expedia_10k_2023] A: The provided information does not include specific revenue figures for Booking.com for 2023, so a direct comparison with Expedia's revenue figures cannot be made. Expedia's total revenue for 2023 was $12,839 million, reflecting a 10% increase from the previous year. For a comparison with Booking.com, additional data on their revenue would be required.\n",
      "\u001b[0m\u001b[1;3;38;2;90;149;237m[expedia_10k_2023] A: The total expenses reported by Expedia in their 10K filing for 2023 amount to $11,806 million. This includes costs such as cost of revenue, selling and marketing, technology and content, general and administrative expenses, and depreciation and amortization.\n",
      "\u001b[0m\u001b[1;3;38;2;155;135;227m[booking_10k_2023] A: The total expenses reported by Booking.com in their 10K filing for 2023 include the following components:\n",
      "\n",
      "1. Depreciation and amortization: $504 million\n",
      "2. Other operating expenses: $5 million\n",
      "3. Interest expense: $897 million\n",
      "4. Other income (expense), net: $543 million (this is a net figure, indicating income rather than an expense)\n",
      "\n",
      "To calculate the total expenses, we sum the depreciation and amortization, other operating expenses, and interest expense:\n",
      "\n",
      "Total expenses = Depreciation and amortization + Other operating expenses + Interest expense\n",
      "Total expenses = $504 million + $5 million + $897 million = $1,406 million\n",
      "\n",
      "Thus, the total expenses reported by Booking.com for 2023 amount to $1,406 million.\n",
      "\u001b[0m\u001b[1;3;38;2;11;159;203m[expedia_10k_2023] A: In 2023, key factors influencing Expedia's revenue included an increase in lodging revenue driven by a rise in room nights stayed, as well as growth in air revenue attributed to higher revenue per air ticket and an increase in air tickets sold. Advertising and media revenue saw a modest increase, primarily due to growth in Expedia Group Media Solutions, although it was partially offset by a decline in trivago revenue. Additionally, merchant revenue increased significantly due to higher hotel revenue, while agency revenue grew from increased hotel and air bookings.\n",
      "\n",
      "On the expense side, direct costs decreased, contributing to a reduction in the total cost of revenue, which also reflected a lower percentage of revenue compared to previous years. Personnel and overhead costs increased, indicating a rise in operational expenses. Overall, the business faced pressures from macroeconomic factors such as inflation, rising interest rates, and currency fluctuations, which could impact future operational results and supplier relationships.\n",
      "\u001b[0m\u001b[1;3;38;2;90;149;237m[booking_10k_2023] A: The provided information does not include specific expense figures for Expedia for 2023, so a direct comparison between the expense figures of Expedia and Booking.com cannot be made. However, Booking.com reported marketing expenses of $6,773 million, which represented 4.5% of total gross bookings, and sales and other expenses of $2,744 million, accounting for 1.8% of total gross bookings in 2023. For a comprehensive comparison, the expense figures for Expedia would be needed.\n",
      "\u001b[0m\u001b[1;3;38;2;155;135;227m[booking_10k_2023] A: The key factors influencing the revenue and expenses of Booking.com in 2023 include:\n",
      "\n",
      "1. **Cancellation Rates**: Although the cancellation rate remained consistent with the prior year, fluctuations can impact marketing efficiency and expenses related to performance marketing.\n",
      "\n",
      "2. **Marketing Efficiency**: This is affected by various elements such as average daily rates (ADRs), costs per click, foreign currency exchange rates, and the effectiveness of brand marketing campaigns. In 2023, marketing expenses as a percentage of total gross bookings decreased due to higher performance marketing ROIs and an increase in direct traffic.\n",
      "\n",
      "3. **Room Night Mix**: The increase in international travel and the growing share of room nights booked on mobile devices influenced revenue. The mix of alternative accommodation properties also grew, which may lead to lower profit margins.\n",
      "\n",
      "4. **Average Daily Rates (ADRs)**: Global ADRs increased, driven by higher rates in Europe and Asia, although changes in geographical mix negatively impacted this growth.\n",
      "\n",
      "5. **Merchant Transactions**: The shift towards processing transactions on a merchant basis increased expenses related to payment processing and customer service, impacting overall operating expenses.\n",
      "\n",
      "6. **Sales and Other Expenses**: These expenses rose significantly due to increased merchant transaction costs and third-party call center costs, reflecting the ongoing recovery in travel demand and operational shifts.\n",
      "\n",
      "7. **Digital Services Taxes**: The implementation of digital services taxes in various jurisdictions negatively impacted results, contributing to overall expenses.\n",
      "\n",
      "8. **Consumer Behavior**: Changes in consumer purchasing patterns, particularly on mobile devices, and the competitive landscape, including discounting strategies by competitors, also influenced revenue dynamics.\n",
      "\n",
      "These factors collectively shaped the financial performance and operational strategies of Booking.com in 2023.\n",
      "\u001b[0mSubQuestionQueryEngine Response:\n",
      "In 2023, Expedia reported total revenue of $12,839 million, while Booking.com achieved a significantly higher total revenue of $21,365 million. This indicates that Booking.com generated approximately 66% more revenue than Expedia during the same period.\n",
      "\n",
      "When examining expenses, Expedia's total expenses amounted to $11,806 million, whereas Booking.com reported total expenses of $1,406 million. This stark difference suggests that Booking.com managed to maintain a much lower expense profile relative to its revenue, resulting in a more favorable expense-to-revenue ratio.\n",
      "\n",
      "**Revenue Analysis:**\n",
      "Expedia's revenue growth was driven by several key factors, including an increase in lodging revenue due to higher room nights stayed and growth in air revenue linked to increased ticket sales and revenue per ticket. Additionally, merchant revenue saw a notable rise, reflecting higher hotel revenue, while agency revenue benefited from increased bookings in both hotel and air travel. However, advertising and media revenue experienced only modest growth, partly due to a decline in trivago revenue.\n",
      "\n",
      "In contrast, Booking.com's revenue was influenced by a combination of factors, including a consistent cancellation rate, which helped maintain marketing efficiency. The increase in international travel and a growing share of mobile bookings contributed positively to revenue. Furthermore, global average daily rates (ADRs) rose, particularly in Europe and Asia, although shifts in geographical mix posed challenges. The transition towards merchant transactions also played a role in enhancing revenue streams.\n",
      "\n",
      "**Expense Analysis:**\n",
      "Expedia's expenses included various components such as cost of revenue, selling and marketing, technology and content, general and administrative expenses, and depreciation and amortization. Notably, direct costs decreased, leading to a reduction in the total cost of revenue, which was a positive development. However, personnel and overhead costs increased, indicating rising operational expenses. The overall expense structure was also impacted by macroeconomic pressures like inflation and currency fluctuations.\n",
      "\n",
      "On the other hand, Booking.com's expenses were significantly lower, with a total of $1,406 million. The breakdown of these expenses included depreciation and amortization, other operating expenses, and interest expense. The company experienced increased costs related to merchant transactions and third-party call centers, reflecting the recovery in travel demand. However, marketing expenses as a percentage of total gross bookings decreased, indicating improved marketing efficiency.\n",
      "\n",
      "**Conclusion:**\n",
      "In summary, while Booking.com outperformed Expedia in both revenue and expense management in 2023, the latter showed positive trends in revenue growth driven by increased travel demand and operational efficiencies. Booking.com’s ability to maintain lower expenses relative to its revenue highlights its operational effectiveness and strategic focus on marketing efficiency and consumer behavior trends. The contrasting financial performances of the two companies underscore the competitive dynamics within the travel industry and the varying impacts of market conditions on their respective business models.\n",
      "\n"
     ]
    }
   ],
   "source": [
    "response = query_planning_engine.query(sub_question_query)\n",
    "print(f\"SubQuestionQueryEngine Response:\\n{response}\\n\")"
   ]
  },
  {
   "cell_type": "code",
   "execution_count": 37,
   "id": "038a9f5b-5178-49bd-99cd-5857aa568f09",
   "metadata": {},
   "outputs": [
    {
     "name": "stdout",
     "output_type": "stream",
     "text": [
      "Filing_10k_query_planner tool created successfully.\n"
     ]
    }
   ],
   "source": [
    "tools_tenk2 = QueryEngineTool(\n",
    "    query_engine=query_planning_engine,\n",
    "    metadata=ToolMetadata(\n",
    "        name=\"Filing_10k_query_planner\",\n",
    "        description=(\n",
    "            \"This tool breaks down complex queries into sub-questions for each relevant data source, \"\n",
    "            \"then gathers all the intermediate responses and synthesizes a final response.\"\n",
    "        )\n",
    "    )\n",
    ")\n",
    "print(\"Filing_10k_query_planner tool created successfully.\")"
   ]
  },
  {
   "cell_type": "code",
   "execution_count": 38,
   "id": "54723ef2-bd3f-44a9-b462-baf035788801",
   "metadata": {},
   "outputs": [],
   "source": [
    "instructions = \"\"\"\n",
    "You are a veteran stock market investor who is an expert in analyzing companies' annual 10k filings.\n",
    "You will answer questions in the persona of a veteran stock market investor.\n",
    "\"\"\"\n",
    "agent = OpenAIAssistantAgent.from_new(\n",
    "    name=\"10K Filing Query Planner\",\n",
    "    instructions=instructions,\n",
    "    tools=[tools_tenk2],  \n",
    "    verbose=True,\n",
    "    run_retrieve_sleep_time=1.0,\n",
    ")"
   ]
  },
  {
   "cell_type": "code",
   "execution_count": 39,
   "id": "9538562f-a0ad-4a06-ae6f-3c274c25cc64",
   "metadata": {
    "scrolled": true
   },
   "outputs": [
    {
     "name": "stdout",
     "output_type": "stream",
     "text": [
      "=== Calling Function ===\n",
      "Calling function: Filing_10k_query_planner with args: {\"input\": \"What are the revenues of Expedia for 2023?\"}\n",
      "Generated 3 sub questions.\n",
      "\u001b[1;3;38;2;237;90;200m[expedia_10k_2023] Q: What is the total revenue reported by Expedia in their 2023 10-K filing?\n",
      "\u001b[0m\u001b[1;3;38;2;90;149;237m[expedia_10k_2023] Q: What are the revenue breakdowns by segment for Expedia in 2023?\n",
      "\u001b[0m\u001b[1;3;38;2;11;159;203m[expedia_10k_2023] Q: How does Expedia's 2023 revenue compare to previous years?\n",
      "\u001b[0m\u001b[1;3;38;2;237;90;200m[expedia_10k_2023] A: The total revenue reported by Expedia in their 2023 10-K filing is $12,839 million.\n",
      "\u001b[0m\u001b[1;3;38;2;11;159;203m[expedia_10k_2023] A: In 2023, Expedia's total revenue was $12,839 million, representing a 10% increase from $11,667 million in 2022 and a significant 36% increase from $8,598 million in 2021. Revenue from lodging increased by 15% in 2023, while air revenue rose by 13%, and advertising and media revenue grew by 6%. Overall, the revenue growth in 2023 reflects a continued recovery and improvement compared to the previous two years.\n",
      "\u001b[0m\u001b[1;3;38;2;90;149;237m[expedia_10k_2023] A: In 2023, the revenue breakdown by segment for Expedia is as follows:\n",
      "\n",
      "- B2C: $9,113 million\n",
      "- B2B: $3,388 million\n",
      "- trivago (Third-party revenue): $338 million\n",
      "\n",
      "The total revenue for Expedia in 2023 was $12,839 million.\n",
      "\u001b[0mGot output: The total revenue of Expedia for 2023 is $12,839 million. The revenue breakdown by segment is as follows: B2C generated $9,113 million, B2B contributed $3,388 million, and trivago (third-party revenue) accounted for $338 million.\n",
      "========================\n",
      "=== Calling Function ===\n",
      "Calling function: Filing_10k_query_planner with args: {\"input\": \"What are the expenses of Expedia for 2023?\"}\n",
      "Generated 4 sub questions.\n",
      "\u001b[1;3;38;2;237;90;200m[expedia_10k_2023] Q: What are the total operating expenses reported by Expedia in their 2023 10-K filing?\n",
      "\u001b[0m\u001b[1;3;38;2;90;149;237m[expedia_10k_2023] Q: What are the breakdowns of Expedia's expenses in 2023, including marketing, technology, and general administrative expenses?\n",
      "\u001b[0m\u001b[1;3;38;2;11;159;203m[expedia_10k_2023] Q: How do Expedia's expenses in 2023 compare to the previous year?\n",
      "\u001b[0m\u001b[1;3;38;2;155;135;227m[expedia_10k_2023] Q: What specific factors contributed to any changes in Expedia's expenses in 2023?\n",
      "\u001b[0m\u001b[1;3;38;2;237;90;200m[expedia_10k_2023] A: The total operating expenses reported by Expedia in their 2023 10-K filing amount to $11,806 million. This includes costs and expenses such as cost of revenue, selling and marketing, technology and content, general and administrative expenses, depreciation and amortization, impairment of goodwill, intangible and other long-term asset impairment, and legal reserves.\n",
      "\u001b[0m\u001b[1;3;38;2;11;159;203m[expedia_10k_2023] A: In 2023, Expedia's total costs and expenses amounted to $11,806 million, an increase from $10,860 million in 2022. This represents a rise in expenses, with notable increases in selling and marketing expenses, technology and content costs, and general and administrative expenses. Specifically, direct selling and marketing expenses increased to $6,107 million from $5,428 million, technology and content costs rose to $1,358 million from $1,181 million, and general and administrative expenses grew to $771 million from $748 million. Overall, the increase in expenses reflects a continued investment in operations and marketing efforts.\n",
      "\u001b[0m\u001b[1;3;38;2;90;149;237m[expedia_10k_2023] A: In 2023, Expedia's expenses were categorized as follows:\n",
      "\n",
      "1. **Selling and Marketing Expenses**:\n",
      "   - Direct: $6,107 million (47.6% of revenue), an increase of 13% from 2022.\n",
      "   - Indirect: $756 million (5.9% of revenue), an increase of 12% from 2022.\n",
      "\n",
      "2. **Technology and Content Expenses**:\n",
      "   - Total: $1,358 million (10.6% of revenue), an increase of 15% from 2022.\n",
      "     - Personnel and overhead: $999 million.\n",
      "     - Other: $359 million.\n",
      "\n",
      "3. **General and Administrative Expenses**:\n",
      "   - Total: $771 million (6.0% of revenue), an increase of 3% from 2022.\n",
      "     - Personnel and overhead: $618 million.\n",
      "     - Professional fees and other: $153 million.\n",
      "\n",
      "These figures reflect the company's investment in various operational areas to support growth and efficiency.\n",
      "\u001b[0m\u001b[1;3;38;2;155;135;227m[expedia_10k_2023] A: In 2023, Expedia's expenses were influenced by several specific factors. Direct costs decreased by 9%, primarily due to a reduction in customer support and telesales expenses, as well as lower fees to air ticket fulfillment vendors. Personnel and overhead costs increased by 12%, indicating a rise in staffing or operational expenses. Overall, the total cost of revenue decreased by 5%, reflecting a more efficient cost structure relative to revenue generation. The changes in expenses were also impacted by the normalization of travel insurance demand and lower car rental revenue, which contributed to the decline in certain revenue streams.\n",
      "\u001b[0mGot output: In 2023, Expedia's total operating expenses amounted to $11,806 million. The breakdown of these expenses includes:\n",
      "\n",
      "1. **Selling and Marketing Expenses**:\n",
      "   - Direct: $6,107 million\n",
      "   - Indirect: $756 million\n",
      "\n",
      "2. **Technology and Content Expenses**:\n",
      "   - Total: $1,358 million\n",
      "     - Personnel and overhead: $999 million\n",
      "     - Other: $359 million\n",
      "\n",
      "3. **General and Administrative Expenses**:\n",
      "   - Total: $771 million\n",
      "     - Personnel and overhead: $618 million\n",
      "     - Professional fees and other: $153 million\n",
      "\n",
      "These figures reflect the company's investments across various operational areas.\n",
      "========================\n",
      "=== Calling Function ===\n",
      "Calling function: Filing_10k_query_planner with args: {\"input\": \"What are the revenues of Booking.com for 2023?\"}\n",
      "Generated 3 sub questions.\n",
      "\u001b[1;3;38;2;237;90;200m[booking_10k_2023] Q: What is the total revenue reported by Booking.com in their 2023 10-K filing?\n",
      "\u001b[0m\u001b[1;3;38;2;90;149;237m[booking_10k_2023] Q: Are there any specific revenue segments reported by Booking.com for 2023?\n",
      "\u001b[0m\u001b[1;3;38;2;11;159;203m[booking_10k_2023] Q: How does Booking.com's 2023 revenue compare to previous years?\n",
      "\u001b[0m\u001b[1;3;38;2;237;90;200m[booking_10k_2023] A: The total revenue reported by Booking.com in their 2023 10-K filing is $21,365 million.\n",
      "\u001b[0m\u001b[1;3;38;2;90;149;237m[booking_10k_2023] A: Booking.com derives its revenues primarily from enabling consumers to make travel service reservations. Additionally, it earns revenues from advertising services, restaurant reservations and management services, and other travel-related services such as insurance.\n",
      "\u001b[0m\u001b[1;3;38;2;11;159;203m[booking_10k_2023] A: In 2023, Booking.com reported total revenues of $21,365 million, which represents a 25.0% increase compared to $17,090 million in 2022. This growth in revenue was driven primarily by the continued improvement in travel demand, with significant increases in both merchant and agency revenues. Merchant revenues rose by 52.0%, reaching $10,936 million, while agency revenues increased by 4.6% to $9,414 million. Overall, the revenue growth reflects a positive trend in the company's financial performance compared to previous years.\n",
      "\u001b[0mGot output: The revenues of Booking.com for 2023 amount to $21,365 million.\n",
      "========================\n",
      "=== Calling Function ===\n",
      "Calling function: Filing_10k_query_planner with args: {\"input\": \"What are the expenses of Booking.com for 2023?\"}\n",
      "Generated 5 sub questions.\n",
      "\u001b[1;3;38;2;237;90;200m[booking_10k_2023] Q: What are the total operating expenses reported by Booking.com in their 2023 10-K filing?\n",
      "\u001b[0m\u001b[1;3;38;2;90;149;237m[booking_10k_2023] Q: What specific categories of expenses does Booking.com report in their 2023 10-K filing?\n",
      "\u001b[0m\u001b[1;3;38;2;11;159;203m[booking_10k_2023] Q: How do Booking.com's expenses in 2023 compare to previous years?\n",
      "\u001b[0m\u001b[1;3;38;2;155;135;227m[booking_10k_2023] Q: What are the marketing expenses reported by Booking.com in their 2023 10-K filing?\n",
      "\u001b[0m\u001b[1;3;38;2;237;90;200m[booking_10k_2023] Q: What are the administrative expenses reported by Booking.com in their 2023 10-K filing?\n",
      "\u001b[0m\u001b[1;3;38;2;155;135;227m[booking_10k_2023] A: The marketing expenses reported by Booking.com in their 2023 10-K filing were $6,773 million, which represents a 13.0% increase compared to the previous year.\n",
      "\u001b[0m\u001b[1;3;38;2;237;90;200m[booking_10k_2023] A: The administrative expenses reported by Booking.com in their 2023 10-K filing were $766 million, which represented an increase of 47.1% compared to 2022. These expenses primarily consist of fees for outside professionals, occupancy and office expenses, personnel-related expenses such as travel, relocation, recruiting, and training expenses, as well as certain travel transaction taxes.\n",
      "\u001b[0m\u001b[1;3;38;2;237;90;200m[booking_10k_2023] A: The total operating expenses reported by Booking.com in their 2023 10-K filing include the following:\n",
      "\n",
      "1. Information Technology Expenses: $526 million\n",
      "2. Depreciation and Amortization: $504 million\n",
      "3. Other Operating Expenses: $5 million\n",
      "\n",
      "To calculate the total operating expenses, these amounts can be summed:\n",
      "\n",
      "Total Operating Expenses = Information Technology + Depreciation and Amortization + Other Operating Expenses  \n",
      "Total Operating Expenses = $526 million + $504 million + $5 million = $1,035 million\n",
      "\n",
      "Therefore, the total operating expenses reported by Booking.com in their 2023 10-K filing are $1,035 million.\n",
      "\u001b[0m\u001b[1;3;38;2;11;159;203m[booking_10k_2023] A: In 2023, Booking.com's expenses showed notable increases compared to previous years. Marketing expenses rose to $6.8 billion, reflecting a 13% increase from 2022, although they decreased as a percentage of total gross bookings and total revenues. Sales and other expenses also saw a significant increase, reaching $2.744 billion, which is a 38.2% rise from 2022. This increase was primarily driven by higher merchant transaction costs and third-party call center costs. Overall, while expenses increased in absolute terms, certain ratios, such as marketing expenses as a percentage of total gross bookings, improved due to better performance marketing returns and a higher mix of direct traffic.\n",
      "\u001b[0m\u001b[1;3;38;2;90;149;237m[booking_10k_2023] A: In the 2023 10-K filing, Booking.com reports several specific categories of expenses, including:\n",
      "\n",
      "1. **Personnel Expenses**: This includes costs associated with personnel related to transaction processing.\n",
      "2. **Sales and Other Expenses**: This encompasses various expenses related to transactions.\n",
      "3. **Merchant Revenues**: Incremental revenues from payment card rebates are recorded here.\n",
      "4. **Marketing Expenses**: Total marketing expenses, which include performance and brand marketing expenses.\n",
      "5. **Information Technology Expenses**: This consists of software license and system maintenance fees, cloud computing costs, payments to contractors, and data communications.\n",
      "6. **Depreciation and Amortization**: This includes amortization of intangible assets, software, and depreciation of computer equipment and leasehold improvements.\n",
      "7. **Other Operating Expenses**: This category includes gains or losses from various transactions, such as sale and leaseback transactions and customer service operations transfers.\n",
      "8. **Interest Expense**: Costs associated with interest on debt.\n",
      "9. **Other Income (Expense), Net**: This includes interest and dividend income, net losses on equity securities, and foreign currency transaction gains or losses.\n",
      "\u001b[0mGot output: In 2023, Booking.com reported the following expenses:\n",
      "\n",
      "1. **Total Operating Expenses**: $1,035 million, which includes:\n",
      "   - Information Technology Expenses: $526 million\n",
      "   - Depreciation and Amortization: $504 million\n",
      "   - Other Operating Expenses: $5 million\n",
      "\n",
      "2. **Marketing Expenses**: $6,773 million, reflecting a 13.0% increase from the previous year.\n",
      "\n",
      "3. **Administrative Expenses**: $766 million, representing a 47.1% increase compared to 2022.\n",
      "\n",
      "4. **Sales and Other Expenses**: $2.744 billion, which is a 38.2% rise from 2022.\n",
      "\n",
      "These figures indicate a significant increase in various expense categories compared to previous years.\n",
      "========================\n",
      "Assistant Agent Response:\n",
      "Upon analyzing the 10-K filings for Expedia and Booking.com for 2023, we can draw some detailed comparisons about their revenues and expenses:\n",
      "\n",
      "### Revenues\n",
      "\n",
      "- **Expedia** reported total revenues of $12,839 million. Its revenue streams are diversified into three major segments:\n",
      "    - The B2C (Business-to-Consumer) segment that generated the lion's share with $9,113 million.\n",
      "    - The B2B (Business-to-Business) sector followed with $3,388 million.\n",
      "    - Trivago, focused on third-party revenue, contributed $338 million.\n",
      "\n",
      "- **Booking.com**, on the other hand, reported significantly higher revenues, at $21,365 million. The disclosure did not break down revenue by segment like Expedia, but this figure indicates a larger scale of operations relative to Expedia. \n",
      "\n",
      "### Expenses\n",
      "\n",
      "- **Expedia** incurred total operating expenses of $11,806 million. These expenses are majorly categorized into:\n",
      "    - Selling and Marketing Expenses\n",
      "        - Direct selling and marketing expenses: $6,107 million\n",
      "        - Indirect selling and marketing expenses: $756 million\n",
      "    - Technology and Content Expenses\n",
      "        - Personnel and overhead costs: $999 million\n",
      "        - Other associated costs: $359 million\n",
      "    - General and Administrative Expenses\n",
      "        - Personnel and overhead costs: $618 million\n",
      "        - Professional fees and other: $153 million\n",
      "\n",
      "  The bulk of Expedia's expenses is directed towards direct selling and marketing, indicating a heavy investment in customer acquisition and retention.\n",
      "\n",
      "- **Booking.com** reported a total of $1,035 million in operating expenses which seems significantly low compared to their revenue. In addition to this number, they reported other categories of expenses:  \n",
      "    - Marketing Expenses: $6,773 million, a 13% increase from the previous year.\n",
      "    - Administrative Expenses: $766 million, a 47.1% increase from the previous year.\n",
      "    - Sales and Other Expenses: $2.744 billion, a 38.2% increase from the previous year.\n",
      "\n",
      "  Although the operating expenses appear low at first glance, the notable increases in marketing, administrative, and sales expenses reflect an aggressive expansion and scaling-up of operations. The significant disparity between Booking.com's reported total operating expenses and the breakdown of other expenses warrants further investigation into their filing for clarification.\n",
      "\n",
      "### Comparative Analysis:\n",
      "\n",
      "- **Scale**: Booking.com presents a larger scale of operations with higher revenues compared to Expedia. Booking.com’s revenues are 66% higher than those of Expedia.\n",
      "  \n",
      "- **Marketing Efficiency**: Expedia allocates a considerable portion of their expenses towards selling and marketing, which might indicate either a higher cost of customer acquisition or a diverse range of marketing channels. In contrast, while Booking.com also has a significant marketing expense, it's relatively lower as a percentage of their total revenue.\n",
      "\n",
      "- **Profitability**: Considering the reported numbers, Booking.com seems to operate with a lower expense-to-revenue ratio, which may imply greater operational efficiency or a broader margin on their services.\n",
      "\n",
      "- **Operational Spend**: It’s worth noting that Booking.com’s reported operating expenses do not align clearly with the additional detailed expenses provided. This might be due to different categorization or accounting practices and would require a more detailed reading to understand the distinctions fully.\n",
      "\n",
      "To accurately determine the financial health and strategic positioning of both companies, a more nuanced examination of their respective 10-K filings is advisable, along with considering market conditions, customer acquisition costs, product innovation, segment performance, and macroeconomic factors affecting the travel industry.\n"
     ]
    }
   ],
   "source": [
    "response = agent.chat(sub_question_query)\n",
    "print(f\"Assistant Agent Response:\\n{response}\")"
   ]
  },
  {
   "cell_type": "markdown",
   "id": "2e2e2be9-e00f-4558-82e7-45f8d2d3df2e",
   "metadata": {
    "jp-MarkdownHeadingCollapsed": true
   },
   "source": [
    "### Using Wolfram Alpha Tool with OpenAIAgent"
   ]
  },
  {
   "cell_type": "markdown",
   "id": "321961e7-ed83-4b61-ad1e-fcf0dfb203ee",
   "metadata": {},
   "source": [
    "- **`WolframAlphaToolSpec`**: This class is crucial for setting up the tool with the necessary credentials and defining how the agent interacts with Wolfram Alpha.\n",
    "- **`OpenAIAgent.from_tools()`**: This function integrates the tool into the agent, expanding the agent's capabilities beyond language processing to include powerful computational features provided by Wolfram Alpha."
   ]
  },
  {
   "cell_type": "code",
   "execution_count": 250,
   "id": "8dddcd19-7af8-4030-a174-a83a8d4a3848",
   "metadata": {},
   "outputs": [],
   "source": [
    "from llama_index.tools.wolfram_alpha  import WolframAlphaToolSpec"
   ]
  },
  {
   "cell_type": "code",
   "execution_count": 251,
   "id": "5da78fe2-cd18-4dd7-98ad-96528a128ee3",
   "metadata": {},
   "outputs": [],
   "source": [
    "wolfram_tool = WolframAlphaToolSpec(app_id=\"5LYRWL-G6238QRGWT\").to_tool_list()"
   ]
  },
  {
   "cell_type": "code",
   "execution_count": 252,
   "id": "095e5faa-f84c-439e-b368-7d5e9d69f919",
   "metadata": {},
   "outputs": [
    {
     "name": "stdout",
     "output_type": "stream",
     "text": [
      "OpenAIAgent created with Wolfram Alpha tool.\n"
     ]
    }
   ],
   "source": [
    "agent = OpenAIAgent.from_tools(wolfram_tool, verbose=True)\n",
    "print(\"OpenAIAgent created with Wolfram Alpha tool.\")"
   ]
  },
  {
   "cell_type": "code",
   "execution_count": 253,
   "id": "ebfcafae-d867-4963-9083-5eb0398bebf8",
   "metadata": {
    "scrolled": true
   },
   "outputs": [
    {
     "name": "stdout",
     "output_type": "stream",
     "text": [
      "Added user message to memory: How can we solve problem with LLM Comiler\n",
      "Response from Wolfram Alpha:\n",
      "Solving problems with a Large Language Model (LLM) Compiler involves several steps, each tailored to the specific issue you're encountering. Here's a structured approach to identify and resolve common problems:\n",
      "\n",
      "### 1. **Identify the Problem**\n",
      "\n",
      "First, clearly define the problem you're facing with the LLM Compiler. Common issues include:\n",
      "- Syntax errors in the code.\n",
      "- Logical errors leading to unexpected outputs.\n",
      "- Performance issues, such as slow execution or high resource consumption.\n",
      "- Integration problems with other software or systems.\n",
      "\n",
      "### 2. **Consult Documentation**\n",
      "\n",
      "Once you've identified the problem, the next step is to consult the documentation for the LLM Compiler. Documentation often includes:\n",
      "- Installation and setup instructions.\n",
      "- Usage guidelines, including how to structure input and interpret output.\n",
      "- Troubleshooting sections addressing common issues.\n",
      "- API references, if applicable.\n",
      "\n",
      "### 3. **Check for Updates**\n",
      "\n",
      "Software issues can sometimes be resolved by simply updating to the latest version. Developers often release patches and updates to fix known bugs and improve performance. Ensure your LLM Compiler and any related dependencies are up to date.\n",
      "\n",
      "### 4. **Review Error Messages**\n",
      "\n",
      "If the compiler is generating error messages, review them carefully. They often contain clues about what's wrong. Look for:\n",
      "- Line numbers or code snippets where the error occurred.\n",
      "- Error codes that you can look up in the documentation or online.\n",
      "- Descriptions of the error that might suggest how to fix it.\n",
      "\n",
      "### 5. **Search for Similar Issues**\n",
      "\n",
      "If the documentation and error messages don't resolve your issue, search online for similar problems. Developer forums, Stack Overflow, and GitHub issues are good places to start. Someone else might have encountered the same problem and found a solution.\n",
      "\n",
      "### 6. **Simplify the Problem**\n",
      "\n",
      "If you're still stuck, try to simplify or isolate the problem. This might involve:\n",
      "- Breaking down your code into smaller, more manageable pieces.\n",
      "- Isolating the section of code that causes the error and testing it separately.\n",
      "- Creating a minimal, reproducible example that still exhibits the problem.\n",
      "\n",
      "### 7. **Seek Community Help**\n",
      "\n",
      "If you've tried everything and still can't solve the problem, consider seeking help from the community. Prepare a clear and concise description of the problem, including:\n",
      "- What you're trying to achieve.\n",
      "- What you've tried so far.\n",
      "- Any relevant error messages or logs.\n",
      "\n",
      "Then, post your question on relevant forums, social media groups, or platforms like Stack Overflow.\n",
      "\n",
      "### 8. **Consider Professional Support**\n",
      "\n",
      "If the LLM Compiler is a commercial product, it might come with professional support. Contacting the vendor's support team can provide you with expert assistance tailored to your specific issue.\n",
      "\n",
      "### 9. **Feedback and Bug Reports**\n",
      "\n",
      "Finally, if you've identified a bug or a limitation in the LLM Compiler, consider reporting it to the developers. Providing detailed feedback can help improve the tool for everyone.\n",
      "\n",
      "By following these steps, you can systematically address and resolve issues with the LLM Compiler, improving your productivity and the quality of your work.\n"
     ]
    }
   ],
   "source": [
    "query = \"How can we solve problem with LLM Compiler\"\n",
    "response = agent.query(query)\n",
    "print(f\"Response from Wolfram Alpha:\\n{response}\")"
   ]
  },
  {
   "cell_type": "markdown",
   "id": "9e95d700-8fb5-4576-b565-01dba89911b8",
   "metadata": {
    "jp-MarkdownHeadingCollapsed": true
   },
   "source": [
    "### Creating and Using ReActAgent for 10k Filing Analysis"
   ]
  },
  {
   "cell_type": "markdown",
   "id": "bae2fec6-13dd-4b7e-90fa-a38fb76c4589",
   "metadata": {},
   "source": [
    "- **`ReActAgent`**: Combines reasoning and action to handle complex tasks, making it ideal for scenarios that involve multi-step processing and decision-making."
   ]
  },
  {
   "cell_type": "code",
   "execution_count": 47,
   "id": "91b6f6d8-d25c-436d-a3e5-f435be75a940",
   "metadata": {
    "scrolled": true
   },
   "outputs": [],
   "source": [
    "from llama_index.core.agent import ReActAgent"
   ]
  },
  {
   "cell_type": "code",
   "execution_count": 49,
   "id": "2e2820b3-b61d-4138-a2ea-a7207d0ed4f5",
   "metadata": {},
   "outputs": [],
   "source": [
    "agent = ReActAgent.from_tools(\n",
    "    tools=tools_tenk,\n",
    "    verbose=True,\n",
    "    context=\"\"\"You are a veteran stock market investor who is an expert in analyzing companies' annual 10k filings.\n",
    "    You will answer questions in the persona of a veteran stock market investor.\"\"\",\n",
    "    max_iterations=10\n",
    ")"
   ]
  },
  {
   "cell_type": "code",
   "execution_count": 50,
   "id": "b68331cc-fff8-4f18-826f-f5c6f7e4f5b1",
   "metadata": {
    "scrolled": true
   },
   "outputs": [
    {
     "name": "stdout",
     "output_type": "stream",
     "text": [
      "> Running step af5473a5-20eb-427c-81c3-debec1eda742. Step input: Compare and contrast the revenue and expenses of Expedia and Booking Holdings for 2023 and provide an in-depth analysis.\n",
      "\u001b[1;3;38;5;200mThought: The current language of the user is: English. I need to use tools to gather the revenue and expenses information for both Expedia and Booking Holdings for 2023.\n",
      "Action: expedia_10k_2023\n",
      "Action Input: {'input': 'revenue and expenses for 2023'}\n",
      "\u001b[0m\u001b[1;3;34mObservation: In 2023, total revenue amounted to $12,839 million, which reflects an increase from $11,667 million in 2022. The breakdown of revenue by business model includes $8,818 million from the merchant model, $3,075 million from the agency model, and $946 million from advertising, media, and other sources. \n",
      "\n",
      "Regarding expenses, the cost of revenue decreased by $84 million compared to 2022, primarily due to lower direct customer service costs, despite higher cloud and personnel costs. Selling and marketing expenses totaled $6,863 million, with direct costs at $6,107 million and indirect costs at $756 million. Technology and content expenses reached $1,358 million, while general and administrative expenses were $771 million.\n",
      "\u001b[0m> Running step 23723e1e-0b7b-4cbc-9e2b-2cec5ab68d83. Step input: None\n",
      "\u001b[1;3;38;5;200mThought: I have gathered the revenue and expenses information for Expedia for 2023. Now, I need to gather the same information for Booking Holdings for 2023.\n",
      "Action: booking_10k_2023\n",
      "Action Input: {'input': 'revenue and expenses for 2023'}\n",
      "\u001b[0m\u001b[1;3;34mObservation: In 2023, total revenues amounted to 14.2% of gross bookings, reflecting an increase from 14.1% in 2022. The marketing expenses for the year were $6,773 million, which is a 13.0% increase from $5,993 million in 2022, representing 31.7% of total revenues. Sales and other expenses reached $2,744 million, a significant increase of 38.2% from $1,986 million in 2022, accounting for 12.8% of total revenues. Additionally, depreciation and amortization expenses were $504 million, up from $451 million in 2022. Interest expense for the year was $897 million, compared to $391 million in 2022. Overall, the financial performance in 2023 showed increases in both revenues and various expense categories.\n",
      "\u001b[0m> Running step 6bb242a0-ef77-41f5-8b30-a01137ae9809. Step input: None\n",
      "\u001b[1;3;38;5;200mThought: I now have the revenue and expenses information for both Expedia and Booking Holdings for 2023. I can analyze and compare the two companies based on this data.\n",
      "Answer: In 2023, Expedia reported total revenues of $12,839 million, which is an increase from $11,667 million in 2022. The revenue breakdown indicates that the merchant model contributed the most at $8,818 million, followed by the agency model at $3,075 million, and advertising and other sources at $946 million. On the expense side, Expedia's cost of revenue decreased by $84 million, primarily due to lower direct customer service costs, despite increases in cloud and personnel costs. Selling and marketing expenses were substantial at $6,863 million, with technology and content expenses at $1,358 million and general and administrative expenses at $771 million.\n",
      "\n",
      "In contrast, Booking Holdings reported total revenues that amounted to 14.2% of gross bookings, reflecting a slight increase from 14.1% in 2022. The marketing expenses for Booking were $6,773 million, marking a 13.0% increase from $5,993 million in 2022, which accounted for 31.7% of total revenues. Sales and other expenses surged to $2,744 million, a significant increase of 38.2% from $1,986 million in 2022. Additionally, Booking's depreciation and amortization expenses rose to $504 million, and interest expense increased dramatically to $897 million from $391 million in 2022.\n",
      "\n",
      "In summary, both companies experienced revenue growth in 2023, with Expedia generating $12,839 million and Booking Holdings showing a revenue increase tied to gross bookings. However, Booking Holdings faced a more significant rise in various expense categories, particularly in sales and other expenses, as well as interest expenses, which could impact their profitability compared to Expedia. While Expedia managed to reduce its cost of revenue, Booking's expenses increased across the board, indicating different operational strategies and financial management approaches between the two companies.\n",
      "\u001b[0mResponse:\n",
      "In 2023, Expedia reported total revenues of $12,839 million, which is an increase from $11,667 million in 2022. The revenue breakdown indicates that the merchant model contributed the most at $8,818 million, followed by the agency model at $3,075 million, and advertising and other sources at $946 million. On the expense side, Expedia's cost of revenue decreased by $84 million, primarily due to lower direct customer service costs, despite increases in cloud and personnel costs. Selling and marketing expenses were substantial at $6,863 million, with technology and content expenses at $1,358 million and general and administrative expenses at $771 million.\n",
      "\n",
      "In contrast, Booking Holdings reported total revenues that amounted to 14.2% of gross bookings, reflecting a slight increase from 14.1% in 2022. The marketing expenses for Booking were $6,773 million, marking a 13.0% increase from $5,993 million in 2022, which accounted for 31.7% of total revenues. Sales and other expenses surged to $2,744 million, a significant increase of 38.2% from $1,986 million in 2022. Additionally, Booking's depreciation and amortization expenses rose to $504 million, and interest expense increased dramatically to $897 million from $391 million in 2022.\n",
      "\n",
      "In summary, both companies experienced revenue growth in 2023, with Expedia generating $12,839 million and Booking Holdings showing a revenue increase tied to gross bookings. However, Booking Holdings faced a more significant rise in various expense categories, particularly in sales and other expenses, as well as interest expenses, which could impact their profitability compared to Expedia. While Expedia managed to reduce its cost of revenue, Booking's expenses increased across the board, indicating different operational strategies and financial management approaches between the two companies.\n"
     ]
    }
   ],
   "source": [
    "response = agent.query(\"Compare and contrast the revenue and expenses of Expedia and Booking Holdings for 2023 and provide an in-depth analysis.\")\n",
    "print(f\"Response:\\n{response}\")"
   ]
  },
  {
   "cell_type": "markdown",
   "id": "f85bae42-d4a8-430f-8b15-7e091bde78bd",
   "metadata": {
    "jp-MarkdownHeadingCollapsed": true
   },
   "source": [
    "### Setup for Financial Analysis with Plan and Execute Framework"
   ]
  },
  {
   "cell_type": "code",
   "execution_count": 121,
   "id": "242a3460-6d5b-4586-9215-ac3e2a939b75",
   "metadata": {},
   "outputs": [],
   "source": [
    "from langchain.chat_models import ChatOpenAI\n",
    "from langchain_experimental.plan_and_execute import PlanAndExecute, load_chat_planner, load_agent_executor\n",
    "from llama_index.core.query_engine import RouterQueryEngine\n",
    "from llama_index.core.selectors import LLMSingleSelector"
   ]
  },
  {
   "cell_type": "code",
   "execution_count": 122,
   "id": "358e7c3b-1af6-4bad-98c8-d2525414afb5",
   "metadata": {},
   "outputs": [],
   "source": [
    "from llama_index.core.langchain_helpers.agents.tools import (\n",
    "    IndexToolConfig,\n",
    "    LlamaIndexTool,\n",
    ")\n"
   ]
  },
  {
   "cell_type": "markdown",
   "id": "a1934a1f-8e9b-4637-ab44-97d7be59d24c",
   "metadata": {},
   "source": [
    "1. **`create_index_tool_configs` Function:**\n",
    "   - **Purpose:** Creates configurations for tools that query the 10k filings data for different companies.\n",
    "   - **Key Steps:** \n",
    "     - Iterates through the indices of each company's 10k filings.\n",
    "     - Configures each index into a tool with specific settings, such as the query engine and description."
   ]
  },
  {
   "cell_type": "code",
   "execution_count": 546,
   "id": "7c750ffd-6a66-4065-9555-4bca9278e5e6",
   "metadata": {},
   "outputs": [],
   "source": [
    "def create_index_tool_configs(tenk_indices):\n",
    "    \"\"\"\n",
    "    Create tool configurations for the 10k filings of companies using their indices.\n",
    "\n",
    "    :param tenk_indices: Dictionary of indices for each company's 10k filings.\n",
    "    :return: List of IndexToolConfig objects for each company's 10k filings.\n",
    "    \"\"\"\n",
    "    tool_configs = []\n",
    "    for name, index in tenk_indices.items():\n",
    "        tool_config = IndexToolConfig(\n",
    "            query_engine=index.as_query_engine(similarity_top_k=3),  # Create a query engine from the index\n",
    "            name=name,\n",
    "            description=f\"Provides information from {name.replace('_', ' ')} 10k filing for the year 2023.\",\n",
    "            tool_kwargs={\"return_direct\": True}\n",
    "        )\n",
    "        tool_configs.append(tool_config)\n",
    "        print(f\"Created tool configuration for {name}.\")\n",
    "\n",
    "    print(\"Tool configurations for all companies created successfully.\")\n",
    "    return tool_configs"
   ]
  },
  {
   "cell_type": "markdown",
   "id": "e41d30c0-3e9c-4eca-8206-456fae0fbd1c",
   "metadata": {},
   "source": [
    "2. **`create_llama_index_tools` Function:**\n",
    "   - **Purpose:** Converts the tool configurations created in the previous step into `LlamaIndexTool` instances.\n",
    "   - **Key Steps:**\n",
    "     - Uses the `from_tool_config` method to convert each configuration into a usable tool for querying."
   ]
  },
  {
   "cell_type": "code",
   "execution_count": 547,
   "id": "e54aaaad-26cf-4ae1-853a-e310b05e7cfc",
   "metadata": {},
   "outputs": [],
   "source": [
    "def create_llama_index_tools(config):\n",
    "    \"\"\"\n",
    "    Create LlamaIndexTool instances from tool configurations.\n",
    "\n",
    "    :param config: List of IndexToolConfig objects or a single IndexToolConfig object.\n",
    "    :return: List of LlamaIndexTool instances.\n",
    "    \"\"\"\n",
    "    llama_tools = []\n",
    "\n",
    "    if isinstance(config, list) and len(config) > 1:\n",
    "        llama_tools = [LlamaIndexTool.from_tool_config(cfg) for cfg in config]\n",
    "        print(\"LlamaIndexTool instances created successfully with multiple configurations.\")\n",
    "    else:  \n",
    "        \n",
    "        single_config = config[0] if isinstance(config, list) else config\n",
    "        llama_tools = [LlamaIndexTool.from_tool_config(single_config)]\n",
    "        print(\"LlamaIndexTool instance created successfully with one configuration.\")\n",
    "\n",
    "    return llama_tools"
   ]
  },
  {
   "cell_type": "markdown",
   "id": "648f0b69-b709-474e-90f1-16c73a8a83e8",
   "metadata": {},
   "source": [
    "3. **`setup_plan_and_execute_agent` Function:**\n",
    "   - **Purpose:** Sets up a `PlanAndExecute` agent using the tools created from 10k filings and a language model (`gpt-4-0125-preview`).\n",
    "   - **Key Steps:**\n",
    "     - Loads a chat planner and an executor using the specified model (`ChatOpenAI`).\n",
    "     - Combines the planner and executor into a `PlanAndExecute` agent."
   ]
  },
  {
   "cell_type": "code",
   "execution_count": 548,
   "id": "9563b5f4-4c53-42bd-991e-d2bb0a7c1183",
   "metadata": {},
   "outputs": [],
   "source": [
    "def setup_plan_and_execute_agent(engine, model):\n",
    "    \"\"\"\n",
    "    Set up the Plan and Execute agent using a planner and executor.\n",
    "\n",
    "    :param engine: RouterQueryEngine object.\n",
    "    :param model: The language model used for planning and execution.\n",
    "    :return: PlanAndExecute agent.\n",
    "    \"\"\"\n",
    "    planner = load_chat_planner(model)\n",
    "    executor = load_agent_executor(model, engine, verbose=True)\n",
    "    agent = PlanAndExecute(planner=planner, executor=executor, verbose=True)\n",
    "    print(\"Plan and Execute agent set up successfully.\")\n",
    "    return agent"
   ]
  },
  {
   "cell_type": "markdown",
   "id": "1691c29f-00c0-47bb-9ba2-824b9794fdb3",
   "metadata": {},
   "source": [
    "4. **Execution Flow:**\n",
    "   - **Tool Configurations:** Calls `create_index_tool_configs` to generate tool configurations based on the indices.\n",
    "   - **Llama Tools Creation:** Calls `create_llama_index_tools` to transform the configurations into Llama tools.\n",
    "   - **Agent Setup and Execution:** \n",
    "     - Calls `setup_plan_and_execute_agent` with the created tools and model to set up the agent.\n",
    "     - Executes a query using the agent to compare and analyze the financials of Expedia and Booking Holdings for 2023."
   ]
  },
  {
   "cell_type": "code",
   "execution_count": 549,
   "id": "46f90c28-aff2-4e48-a3e3-eb75033b7c32",
   "metadata": {},
   "outputs": [
    {
     "name": "stdout",
     "output_type": "stream",
     "text": [
      "Created tool configuration for expedia_10k_2023.\n",
      "Created tool configuration for booking_10k_2023.\n",
      "Created tool configuration for uber_10k_2023.\n",
      "Created tool configuration for lyft_10k_2023.\n",
      "Tool configurations for all companies created successfully.\n"
     ]
    }
   ],
   "source": [
    "tool_configs = create_index_tool_configs(tenk_indices)"
   ]
  },
  {
   "cell_type": "code",
   "execution_count": 550,
   "id": "e724294e-9bb6-4e94-80f6-dc47fa654bae",
   "metadata": {},
   "outputs": [
    {
     "name": "stdout",
     "output_type": "stream",
     "text": [
      "LlamaIndexTool instances created successfully with multiple configurations.\n"
     ]
    }
   ],
   "source": [
    "llama_tools = create_llama_index_tools(tool_configs)"
   ]
  },
  {
   "cell_type": "code",
   "execution_count": 551,
   "id": "73b759ff-f45a-4238-b870-10a97ee91909",
   "metadata": {},
   "outputs": [],
   "source": [
    "model = ChatOpenAI(model_name=\"gpt-4-0125-preview\" , temperature=0)"
   ]
  },
  {
   "cell_type": "code",
   "execution_count": 552,
   "id": "5ed1a2fe-9259-4187-a8f8-cd6491810acb",
   "metadata": {},
   "outputs": [
    {
     "name": "stdout",
     "output_type": "stream",
     "text": [
      "Plan and Execute agent set up successfully.\n"
     ]
    }
   ],
   "source": [
    "agent = setup_plan_and_execute_agent(llama_tools, model)"
   ]
  },
  {
   "cell_type": "code",
   "execution_count": 553,
   "id": "544ec6f0-4fa7-4ecd-bedd-4e9ec781550b",
   "metadata": {
    "scrolled": true
   },
   "outputs": [
    {
     "name": "stdout",
     "output_type": "stream",
     "text": [
      "\n",
      "\n",
      "\u001b[1m> Entering new PlanAndExecute chain...\u001b[0m\n",
      "steps=[Step(value='Research the latest financial reports or earnings releases for Expedia and Booking Holdings for the fiscal year 2023 to find data on their revenue and expenses.'), Step(value='Compare the revenue figures for both companies, highlighting any growth, decline, or notable trends.'), Step(value='Analyze the expense structures of both companies, identifying major areas of spending and any significant changes or patterns compared to previous years.'), Step(value='Discuss any external factors or market conditions in 2023 that might have influenced the financial performance of both companies.'), Step(value=\"Provide an in-depth analysis of how each company's revenue and expenses have impacted their overall financial health and market position in 2023.\"), Step(value=\"Given the above steps taken, please respond to the user's original question.\\n\\n\")]\n",
      "\n",
      "\u001b[1m> Entering new AgentExecutor chain...\u001b[0m\n",
      "\u001b[32;1m\u001b[1;3mAction:\n",
      "```\n",
      "{\n",
      "  \"action\": \"expedia_10k_2023\",\n",
      "  \"action_input\": {\n",
      "    \"input\": \"revenue and expenses\"\n",
      "  }\n",
      "}\n",
      "```\u001b[0m\n",
      "Observation: \u001b[36;1m\u001b[1;3mRevenue for the year ended December 31, 2023, was $12,839 million, which represents a 10% increase from the previous year's total revenue of $11,667 million. The cost of revenue for the same period was $1,573 million, showing a 5% decrease from the previous year's total cost of revenue of $1,657 million.\u001b[0m\n",
      "\u001b[32;1m\u001b[1;3m\u001b[0m\n",
      "\n",
      "\u001b[1m> Finished chain.\u001b[0m\n",
      "*****\n",
      "\n",
      "Step: Research the latest financial reports or earnings releases for Expedia and Booking Holdings for the fiscal year 2023 to find data on their revenue and expenses.\n",
      "\n",
      "Response: Revenue for the year ended December 31, 2023, was $12,839 million, which represents a 10% increase from the previous year's total revenue of $11,667 million. The cost of revenue for the same period was $1,573 million, showing a 5% decrease from the previous year's total cost of revenue of $1,657 million.\n",
      "\n",
      "\u001b[1m> Entering new AgentExecutor chain...\u001b[0m\n",
      "\u001b[32;1m\u001b[1;3mAction:\n",
      "```\n",
      "{\n",
      "  \"action\": \"expedia_10k_2023\",\n",
      "  \"action_input\": {\n",
      "    \"input\": \"revenue and expenses\"\n",
      "  }\n",
      "}\n",
      "```\u001b[0m\n",
      "Observation: \u001b[36;1m\u001b[1;3mRevenue for the year ended December 31, 2023, was $12,839 million, which represents a 10% increase from the previous year's total of $11,667 million. This increase in revenue was primarily driven by a 15% increase in lodging revenue, which rose to $10,264 million, and a 13% increase in air revenue, which amounted to $410 million. Advertising and media revenue also saw a 6% increase, reaching $821 million. However, there was a 17% decrease in other revenue, which totaled $1,344 million.\n",
      "\n",
      "Expenses for the same period, specifically cost of revenue, totaled $1,573 million, marking a 5% decrease from the previous year's total of $1,657 million. This cost of revenue as a percentage of total revenue was 12.3%, down from 14.2% the previous year. The cost of revenue primarily consists of direct costs to support customer operations, fees to air ticket fulfillment vendors, credit card processing fees, and other costs including data center and cloud costs to support websites, supplier operations, and related personnel and overhead costs.\u001b[0m\n",
      "\u001b[32;1m\u001b[1;3m\u001b[0m\n",
      "\n",
      "\u001b[1m> Finished chain.\u001b[0m\n",
      "*****\n",
      "\n",
      "Step: Compare the revenue figures for both companies, highlighting any growth, decline, or notable trends.\n",
      "\n",
      "Response: Revenue for the year ended December 31, 2023, was $12,839 million, which represents a 10% increase from the previous year's total of $11,667 million. This increase in revenue was primarily driven by a 15% increase in lodging revenue, which rose to $10,264 million, and a 13% increase in air revenue, which amounted to $410 million. Advertising and media revenue also saw a 6% increase, reaching $821 million. However, there was a 17% decrease in other revenue, which totaled $1,344 million.\n",
      "\n",
      "Expenses for the same period, specifically cost of revenue, totaled $1,573 million, marking a 5% decrease from the previous year's total of $1,657 million. This cost of revenue as a percentage of total revenue was 12.3%, down from 14.2% the previous year. The cost of revenue primarily consists of direct costs to support customer operations, fees to air ticket fulfillment vendors, credit card processing fees, and other costs including data center and cloud costs to support websites, supplier operations, and related personnel and overhead costs.\n",
      "\n",
      "\u001b[1m> Entering new AgentExecutor chain...\u001b[0m\n",
      "\u001b[32;1m\u001b[1;3m{\n",
      "  \"action\": \"expedia_10k_2023\",\n",
      "  \"action_input\": {\n",
      "    \"input\": \"expense structure\"\n",
      "  }\n",
      "}\u001b[0m\n",
      "\n",
      "\u001b[1m> Finished chain.\u001b[0m\n",
      "*****\n",
      "\n",
      "Step: Analyze the expense structures of both companies, identifying major areas of spending and any significant changes or patterns compared to previous years.\n",
      "\n",
      "Response: {\n",
      "  \"action\": \"expedia_10k_2023\",\n",
      "  \"action_input\": {\n",
      "    \"input\": \"expense structure\"\n",
      "  }\n",
      "}\n",
      "\n",
      "\u001b[1m> Entering new AgentExecutor chain...\u001b[0m\n",
      "\u001b[32;1m\u001b[1;3m{\n",
      "  \"action\": \"expedia_10k_2023\",\n",
      "  \"action_input\": {\n",
      "    \"input\": \"market conditions 2023\"\n",
      "  }\n",
      "}\u001b[0m\n",
      "\n",
      "\u001b[1m> Finished chain.\u001b[0m\n",
      "*****\n",
      "\n",
      "Step: Discuss any external factors or market conditions in 2023 that might have influenced the financial performance of both companies.\n",
      "\n",
      "Response: {\n",
      "  \"action\": \"expedia_10k_2023\",\n",
      "  \"action_input\": {\n",
      "    \"input\": \"market conditions 2023\"\n",
      "  }\n",
      "}\n",
      "\n",
      "\u001b[1m> Entering new AgentExecutor chain...\u001b[0m\n",
      "\u001b[32;1m\u001b[1;3m{\n",
      "  \"action\": \"expedia_10k_2023\",\n",
      "  \"action_input\": {\n",
      "    \"input\": \"overall financial health and market position in 2023\"\n",
      "  }\n",
      "}\u001b[0m\n",
      "\n",
      "\u001b[1m> Finished chain.\u001b[0m\n",
      "*****\n",
      "\n",
      "Step: Provide an in-depth analysis of how each company's revenue and expenses have impacted their overall financial health and market position in 2023.\n",
      "\n",
      "Response: {\n",
      "  \"action\": \"expedia_10k_2023\",\n",
      "  \"action_input\": {\n",
      "    \"input\": \"overall financial health and market position in 2023\"\n",
      "  }\n",
      "}\n",
      "\n",
      "\u001b[1m> Entering new AgentExecutor chain...\u001b[0m\n",
      "\u001b[32;1m\u001b[1;3mGiven the steps taken and the information gathered from the financial reports or earnings releases for Expedia and Booking Holdings for the fiscal year 2023, here's a comprehensive response to the original question regarding the financial performance of both companies in 2023:\n",
      "\n",
      "In 2023, Expedia reported a revenue of $12,839 million, marking a 10% increase from the previous year's total of $11,667 million. This growth was primarily driven by a 15% increase in lodging revenue, which rose to $10,264 million, and a 13% increase in air revenue, which amounted to $410 million. Advertising and media revenue also saw a 6% increase, reaching $821 million. However, there was a 17% decrease in other revenue, totaling $1,344 million. On the expense side, Expedia's cost of revenue for the same period was $1,573 million, showing a 5% decrease from the previous year's total cost of revenue of $1,657 million. This reduction in cost of revenue as a percentage of total revenue from 14.2% to 12.3% indicates improved efficiency in managing direct costs associated with customer operations, fees to air ticket fulfillment vendors, credit card processing fees, and other operational costs.\n",
      "\n",
      "Unfortunately, specific financial details for Booking Holdings were not provided in the steps above, so a direct comparison between the two companies' revenue and expenses cannot be made. However, the information on Expedia suggests that the company experienced significant growth in its core areas of lodging and air revenue, alongside a reduction in the cost of revenue, which positively impacted its overall financial health and market position in 2023.\n",
      "\n",
      "The analysis of expense structures and external factors or market conditions that might have influenced the financial performance of both companies was initiated but not completed with specific details for Booking Holdings. For Expedia, the reduction in cost of revenue indicates a focus on operational efficiency and cost management, which likely contributed to its improved financial health in 2023.\n",
      "\n",
      "Without specific data on Booking Holdings, it's challenging to provide a comparative analysis of market positions. However, Expedia's performance in 2023, characterized by revenue growth and improved operational efficiency, suggests a strong market position and positive financial health amidst the market conditions of that year.\n",
      "\n",
      "For a more detailed comparison and analysis, including Booking Holdings' financial performance, further research and specific data from Booking Holdings' financial reports would be necessary.\u001b[0m\n",
      "\n",
      "\u001b[1m> Finished chain.\u001b[0m\n",
      "*****\n",
      "\n",
      "Step: Given the above steps taken, please respond to the user's original question.\n",
      "\n",
      "\n",
      "\n",
      "Response: Given the steps taken and the information gathered from the financial reports or earnings releases for Expedia and Booking Holdings for the fiscal year 2023, here's a comprehensive response to the original question regarding the financial performance of both companies in 2023:\n",
      "\n",
      "In 2023, Expedia reported a revenue of $12,839 million, marking a 10% increase from the previous year's total of $11,667 million. This growth was primarily driven by a 15% increase in lodging revenue, which rose to $10,264 million, and a 13% increase in air revenue, which amounted to $410 million. Advertising and media revenue also saw a 6% increase, reaching $821 million. However, there was a 17% decrease in other revenue, totaling $1,344 million. On the expense side, Expedia's cost of revenue for the same period was $1,573 million, showing a 5% decrease from the previous year's total cost of revenue of $1,657 million. This reduction in cost of revenue as a percentage of total revenue from 14.2% to 12.3% indicates improved efficiency in managing direct costs associated with customer operations, fees to air ticket fulfillment vendors, credit card processing fees, and other operational costs.\n",
      "\n",
      "Unfortunately, specific financial details for Booking Holdings were not provided in the steps above, so a direct comparison between the two companies' revenue and expenses cannot be made. However, the information on Expedia suggests that the company experienced significant growth in its core areas of lodging and air revenue, alongside a reduction in the cost of revenue, which positively impacted its overall financial health and market position in 2023.\n",
      "\n",
      "The analysis of expense structures and external factors or market conditions that might have influenced the financial performance of both companies was initiated but not completed with specific details for Booking Holdings. For Expedia, the reduction in cost of revenue indicates a focus on operational efficiency and cost management, which likely contributed to its improved financial health in 2023.\n",
      "\n",
      "Without specific data on Booking Holdings, it's challenging to provide a comparative analysis of market positions. However, Expedia's performance in 2023, characterized by revenue growth and improved operational efficiency, suggests a strong market position and positive financial health amidst the market conditions of that year.\n",
      "\n",
      "For a more detailed comparison and analysis, including Booking Holdings' financial performance, further research and specific data from Booking Holdings' financial reports would be necessary.\n",
      "\u001b[1m> Finished chain.\u001b[0m\n",
      "Response:\n",
      "Given the steps taken and the information gathered from the financial reports or earnings releases for Expedia and Booking Holdings for the fiscal year 2023, here's a comprehensive response to the original question regarding the financial performance of both companies in 2023:\n",
      "\n",
      "In 2023, Expedia reported a revenue of $12,839 million, marking a 10% increase from the previous year's total of $11,667 million. This growth was primarily driven by a 15% increase in lodging revenue, which rose to $10,264 million, and a 13% increase in air revenue, which amounted to $410 million. Advertising and media revenue also saw a 6% increase, reaching $821 million. However, there was a 17% decrease in other revenue, totaling $1,344 million. On the expense side, Expedia's cost of revenue for the same period was $1,573 million, showing a 5% decrease from the previous year's total cost of revenue of $1,657 million. This reduction in cost of revenue as a percentage of total revenue from 14.2% to 12.3% indicates improved efficiency in managing direct costs associated with customer operations, fees to air ticket fulfillment vendors, credit card processing fees, and other operational costs.\n",
      "\n",
      "Unfortunately, specific financial details for Booking Holdings were not provided in the steps above, so a direct comparison between the two companies' revenue and expenses cannot be made. However, the information on Expedia suggests that the company experienced significant growth in its core areas of lodging and air revenue, alongside a reduction in the cost of revenue, which positively impacted its overall financial health and market position in 2023.\n",
      "\n",
      "The analysis of expense structures and external factors or market conditions that might have influenced the financial performance of both companies was initiated but not completed with specific details for Booking Holdings. For Expedia, the reduction in cost of revenue indicates a focus on operational efficiency and cost management, which likely contributed to its improved financial health in 2023.\n",
      "\n",
      "Without specific data on Booking Holdings, it's challenging to provide a comparative analysis of market positions. However, Expedia's performance in 2023, characterized by revenue growth and improved operational efficiency, suggests a strong market position and positive financial health amidst the market conditions of that year.\n",
      "\n",
      "For a more detailed comparison and analysis, including Booking Holdings' financial performance, further research and specific data from Booking Holdings' financial reports would be necessary.\n"
     ]
    }
   ],
   "source": [
    "response = agent.run(\"Compare and contrast the revenue and expenses of Expedia and Booking Holdings for 2023 and provide an in-depth analysis.\")\n",
    "print(f\"Response:\\n{response}\")"
   ]
  },
  {
   "cell_type": "code",
   "execution_count": 544,
   "id": "d9bbb875-d78d-4016-9e72-6afb0e460daf",
   "metadata": {
    "scrolled": true
   },
   "outputs": [
    {
     "name": "stdout",
     "output_type": "stream",
     "text": [
      "\n",
      "\n",
      "\u001b[1m> Entering new PlanAndExecute chain...\u001b[0m\n",
      "steps=[Step(value='Research the most recent financial reports or data available for Uber and Lyft for the year 2023, focusing on their revenue and expenses.'), Step(value='Compare the revenue figures for both companies, noting any significant differences or trends.'), Step(value='Analyze the expense structures of Uber and Lyft, identifying key areas where they spend their money and any notable differences between the two.'), Step(value='Discuss any external factors that might have influenced the financial performance of both companies in 2023, such as regulatory changes, market competition, or global economic conditions.'), Step(value='Provide an in-depth analysis of how these financial figures (revenue and expenses) reflect the overall financial health and business strategies of Uber and Lyft.'), Step(value=\"Given the above steps taken, respond to the user's original question by comparing and contrasting the revenue and expenses of Uber and Lyft for 2023 and providing an in-depth analysis.\\n\\n\")]\n",
      "\n",
      "\u001b[1m> Entering new AgentExecutor chain...\u001b[0m\n",
      "\u001b[32;1m\u001b[1;3mAction:\n",
      "```\n",
      "{\n",
      "  \"action\": \"uber_10k_2023\",\n",
      "  \"action_input\": {\n",
      "    \"input\": \"revenue and expenses for fiscal year 2023\"\n",
      "  }\n",
      "}\n",
      "```\u001b[0m\n",
      "Observation: \u001b[38;5;200m\u001b[1;3mFor the fiscal year 2023, the revenue was $37,281 million. The expenses, categorized under costs and expenses, were as follows:\n",
      "\n",
      "- Cost of revenue, exclusive of depreciation and amortization: $22,457 million\n",
      "- Operations and support: 7% of revenue\n",
      "- Sales and marketing: 12% of revenue\n",
      "- Research and development: 8% of revenue\n",
      "- General and administrative: 7% of revenue\n",
      "- Depreciation and amortization: 2% of revenue\n",
      "\n",
      "The total costs and expenses were 97% of revenue, leading to an income from operations of 3% of revenue. Interest expense was (2)% of revenue, other income (expense), net was 5% of revenue, and the provision for (benefit from) income taxes was 1% of revenue. Net income including non-controlling interests was 6% of revenue, with net income attributable to non-controlling interests, net of tax, being 1% of revenue. This resulted in a net income attributable to Uber Technologies, Inc. of 5% of revenue.\u001b[0m\n",
      "\u001b[32;1m\u001b[1;3m\u001b[0m\n",
      "\n",
      "\u001b[1m> Finished chain.\u001b[0m\n",
      "*****\n",
      "\n",
      "Step: Research the most recent financial reports or data available for Uber and Lyft for the year 2023, focusing on their revenue and expenses.\n",
      "\n",
      "Response: For the fiscal year 2023, the revenue was $37,281 million. The expenses, categorized under costs and expenses, were as follows:\n",
      "\n",
      "- Cost of revenue, exclusive of depreciation and amortization: $22,457 million\n",
      "- Operations and support: 7% of revenue\n",
      "- Sales and marketing: 12% of revenue\n",
      "- Research and development: 8% of revenue\n",
      "- General and administrative: 7% of revenue\n",
      "- Depreciation and amortization: 2% of revenue\n",
      "\n",
      "The total costs and expenses were 97% of revenue, leading to an income from operations of 3% of revenue. Interest expense was (2)% of revenue, other income (expense), net was 5% of revenue, and the provision for (benefit from) income taxes was 1% of revenue. Net income including non-controlling interests was 6% of revenue, with net income attributable to non-controlling interests, net of tax, being 1% of revenue. This resulted in a net income attributable to Uber Technologies, Inc. of 5% of revenue.\n",
      "\n",
      "\u001b[1m> Entering new AgentExecutor chain...\u001b[0m\n"
     ]
    },
    {
     "ename": "KeyboardInterrupt",
     "evalue": "",
     "output_type": "error",
     "traceback": [
      "\u001b[0;31m---------------------------------------------------------------------------\u001b[0m",
      "\u001b[0;31mKeyboardInterrupt\u001b[0m                         Traceback (most recent call last)",
      "Cell \u001b[0;32mIn[544], line 1\u001b[0m\n\u001b[0;32m----> 1\u001b[0m response \u001b[38;5;241m=\u001b[39m \u001b[43magent\u001b[49m\u001b[38;5;241;43m.\u001b[39;49m\u001b[43mrun\u001b[49m\u001b[43m(\u001b[49m\u001b[38;5;124;43m\"\u001b[39;49m\u001b[38;5;124;43mCompare and contrast the revenue and expenses of Uber and Lyft for 2023 and provide an in depth analysis\u001b[39;49m\u001b[38;5;124;43m\"\u001b[39;49m\u001b[43m)\u001b[49m\n\u001b[1;32m      2\u001b[0m \u001b[38;5;28mprint\u001b[39m (response)\n",
      "File \u001b[0;32m~/anaconda3/envs/scar/lib/python3.12/site-packages/langchain_core/_api/deprecation.py:180\u001b[0m, in \u001b[0;36mdeprecated.<locals>.deprecate.<locals>.warning_emitting_wrapper\u001b[0;34m(*args, **kwargs)\u001b[0m\n\u001b[1;32m    178\u001b[0m     warned \u001b[38;5;241m=\u001b[39m \u001b[38;5;28;01mTrue\u001b[39;00m\n\u001b[1;32m    179\u001b[0m     emit_warning()\n\u001b[0;32m--> 180\u001b[0m \u001b[38;5;28;01mreturn\u001b[39;00m \u001b[43mwrapped\u001b[49m\u001b[43m(\u001b[49m\u001b[38;5;241;43m*\u001b[39;49m\u001b[43margs\u001b[49m\u001b[43m,\u001b[49m\u001b[43m \u001b[49m\u001b[38;5;241;43m*\u001b[39;49m\u001b[38;5;241;43m*\u001b[39;49m\u001b[43mkwargs\u001b[49m\u001b[43m)\u001b[49m\n",
      "File \u001b[0;32m~/anaconda3/envs/scar/lib/python3.12/site-packages/langchain/chains/base.py:598\u001b[0m, in \u001b[0;36mChain.run\u001b[0;34m(self, callbacks, tags, metadata, *args, **kwargs)\u001b[0m\n\u001b[1;32m    596\u001b[0m     \u001b[38;5;28;01mif\u001b[39;00m \u001b[38;5;28mlen\u001b[39m(args) \u001b[38;5;241m!=\u001b[39m \u001b[38;5;241m1\u001b[39m:\n\u001b[1;32m    597\u001b[0m         \u001b[38;5;28;01mraise\u001b[39;00m \u001b[38;5;167;01mValueError\u001b[39;00m(\u001b[38;5;124m\"\u001b[39m\u001b[38;5;124m`run` supports only one positional argument.\u001b[39m\u001b[38;5;124m\"\u001b[39m)\n\u001b[0;32m--> 598\u001b[0m     \u001b[38;5;28;01mreturn\u001b[39;00m \u001b[38;5;28;43mself\u001b[39;49m\u001b[43m(\u001b[49m\u001b[43margs\u001b[49m\u001b[43m[\u001b[49m\u001b[38;5;241;43m0\u001b[39;49m\u001b[43m]\u001b[49m\u001b[43m,\u001b[49m\u001b[43m \u001b[49m\u001b[43mcallbacks\u001b[49m\u001b[38;5;241;43m=\u001b[39;49m\u001b[43mcallbacks\u001b[49m\u001b[43m,\u001b[49m\u001b[43m \u001b[49m\u001b[43mtags\u001b[49m\u001b[38;5;241;43m=\u001b[39;49m\u001b[43mtags\u001b[49m\u001b[43m,\u001b[49m\u001b[43m \u001b[49m\u001b[43mmetadata\u001b[49m\u001b[38;5;241;43m=\u001b[39;49m\u001b[43mmetadata\u001b[49m\u001b[43m)\u001b[49m[\n\u001b[1;32m    599\u001b[0m         _output_key\n\u001b[1;32m    600\u001b[0m     ]\n\u001b[1;32m    602\u001b[0m \u001b[38;5;28;01mif\u001b[39;00m kwargs \u001b[38;5;129;01mand\u001b[39;00m \u001b[38;5;129;01mnot\u001b[39;00m args:\n\u001b[1;32m    603\u001b[0m     \u001b[38;5;28;01mreturn\u001b[39;00m \u001b[38;5;28mself\u001b[39m(kwargs, callbacks\u001b[38;5;241m=\u001b[39mcallbacks, tags\u001b[38;5;241m=\u001b[39mtags, metadata\u001b[38;5;241m=\u001b[39mmetadata)[\n\u001b[1;32m    604\u001b[0m         _output_key\n\u001b[1;32m    605\u001b[0m     ]\n",
      "File \u001b[0;32m~/anaconda3/envs/scar/lib/python3.12/site-packages/langchain_core/_api/deprecation.py:180\u001b[0m, in \u001b[0;36mdeprecated.<locals>.deprecate.<locals>.warning_emitting_wrapper\u001b[0;34m(*args, **kwargs)\u001b[0m\n\u001b[1;32m    178\u001b[0m     warned \u001b[38;5;241m=\u001b[39m \u001b[38;5;28;01mTrue\u001b[39;00m\n\u001b[1;32m    179\u001b[0m     emit_warning()\n\u001b[0;32m--> 180\u001b[0m \u001b[38;5;28;01mreturn\u001b[39;00m \u001b[43mwrapped\u001b[49m\u001b[43m(\u001b[49m\u001b[38;5;241;43m*\u001b[39;49m\u001b[43margs\u001b[49m\u001b[43m,\u001b[49m\u001b[43m \u001b[49m\u001b[38;5;241;43m*\u001b[39;49m\u001b[38;5;241;43m*\u001b[39;49m\u001b[43mkwargs\u001b[49m\u001b[43m)\u001b[49m\n",
      "File \u001b[0;32m~/anaconda3/envs/scar/lib/python3.12/site-packages/langchain/chains/base.py:381\u001b[0m, in \u001b[0;36mChain.__call__\u001b[0;34m(self, inputs, return_only_outputs, callbacks, tags, metadata, run_name, include_run_info)\u001b[0m\n\u001b[1;32m    349\u001b[0m \u001b[38;5;250m\u001b[39m\u001b[38;5;124;03m\"\"\"Execute the chain.\u001b[39;00m\n\u001b[1;32m    350\u001b[0m \n\u001b[1;32m    351\u001b[0m \u001b[38;5;124;03mArgs:\u001b[39;00m\n\u001b[0;32m   (...)\u001b[0m\n\u001b[1;32m    372\u001b[0m \u001b[38;5;124;03m        `Chain.output_keys`.\u001b[39;00m\n\u001b[1;32m    373\u001b[0m \u001b[38;5;124;03m\"\"\"\u001b[39;00m\n\u001b[1;32m    374\u001b[0m config \u001b[38;5;241m=\u001b[39m {\n\u001b[1;32m    375\u001b[0m     \u001b[38;5;124m\"\u001b[39m\u001b[38;5;124mcallbacks\u001b[39m\u001b[38;5;124m\"\u001b[39m: callbacks,\n\u001b[1;32m    376\u001b[0m     \u001b[38;5;124m\"\u001b[39m\u001b[38;5;124mtags\u001b[39m\u001b[38;5;124m\"\u001b[39m: tags,\n\u001b[1;32m    377\u001b[0m     \u001b[38;5;124m\"\u001b[39m\u001b[38;5;124mmetadata\u001b[39m\u001b[38;5;124m\"\u001b[39m: metadata,\n\u001b[1;32m    378\u001b[0m     \u001b[38;5;124m\"\u001b[39m\u001b[38;5;124mrun_name\u001b[39m\u001b[38;5;124m\"\u001b[39m: run_name,\n\u001b[1;32m    379\u001b[0m }\n\u001b[0;32m--> 381\u001b[0m \u001b[38;5;28;01mreturn\u001b[39;00m \u001b[38;5;28;43mself\u001b[39;49m\u001b[38;5;241;43m.\u001b[39;49m\u001b[43minvoke\u001b[49m\u001b[43m(\u001b[49m\n\u001b[1;32m    382\u001b[0m \u001b[43m    \u001b[49m\u001b[43minputs\u001b[49m\u001b[43m,\u001b[49m\n\u001b[1;32m    383\u001b[0m \u001b[43m    \u001b[49m\u001b[43mcast\u001b[49m\u001b[43m(\u001b[49m\u001b[43mRunnableConfig\u001b[49m\u001b[43m,\u001b[49m\u001b[43m \u001b[49m\u001b[43m{\u001b[49m\u001b[43mk\u001b[49m\u001b[43m:\u001b[49m\u001b[43m \u001b[49m\u001b[43mv\u001b[49m\u001b[43m \u001b[49m\u001b[38;5;28;43;01mfor\u001b[39;49;00m\u001b[43m \u001b[49m\u001b[43mk\u001b[49m\u001b[43m,\u001b[49m\u001b[43m \u001b[49m\u001b[43mv\u001b[49m\u001b[43m \u001b[49m\u001b[38;5;129;43;01min\u001b[39;49;00m\u001b[43m \u001b[49m\u001b[43mconfig\u001b[49m\u001b[38;5;241;43m.\u001b[39;49m\u001b[43mitems\u001b[49m\u001b[43m(\u001b[49m\u001b[43m)\u001b[49m\u001b[43m \u001b[49m\u001b[38;5;28;43;01mif\u001b[39;49;00m\u001b[43m \u001b[49m\u001b[43mv\u001b[49m\u001b[43m \u001b[49m\u001b[38;5;129;43;01mis\u001b[39;49;00m\u001b[43m \u001b[49m\u001b[38;5;129;43;01mnot\u001b[39;49;00m\u001b[43m \u001b[49m\u001b[38;5;28;43;01mNone\u001b[39;49;00m\u001b[43m}\u001b[49m\u001b[43m)\u001b[49m\u001b[43m,\u001b[49m\n\u001b[1;32m    384\u001b[0m \u001b[43m    \u001b[49m\u001b[43mreturn_only_outputs\u001b[49m\u001b[38;5;241;43m=\u001b[39;49m\u001b[43mreturn_only_outputs\u001b[49m\u001b[43m,\u001b[49m\n\u001b[1;32m    385\u001b[0m \u001b[43m    \u001b[49m\u001b[43minclude_run_info\u001b[49m\u001b[38;5;241;43m=\u001b[39;49m\u001b[43minclude_run_info\u001b[49m\u001b[43m,\u001b[49m\n\u001b[1;32m    386\u001b[0m \u001b[43m\u001b[49m\u001b[43m)\u001b[49m\n",
      "File \u001b[0;32m~/anaconda3/envs/scar/lib/python3.12/site-packages/langchain/chains/base.py:164\u001b[0m, in \u001b[0;36mChain.invoke\u001b[0;34m(self, input, config, **kwargs)\u001b[0m\n\u001b[1;32m    162\u001b[0m \u001b[38;5;28;01mexcept\u001b[39;00m \u001b[38;5;167;01mBaseException\u001b[39;00m \u001b[38;5;28;01mas\u001b[39;00m e:\n\u001b[1;32m    163\u001b[0m     run_manager\u001b[38;5;241m.\u001b[39mon_chain_error(e)\n\u001b[0;32m--> 164\u001b[0m     \u001b[38;5;28;01mraise\u001b[39;00m e\n\u001b[1;32m    165\u001b[0m run_manager\u001b[38;5;241m.\u001b[39mon_chain_end(outputs)\n\u001b[1;32m    167\u001b[0m \u001b[38;5;28;01mif\u001b[39;00m include_run_info:\n",
      "File \u001b[0;32m~/anaconda3/envs/scar/lib/python3.12/site-packages/langchain/chains/base.py:154\u001b[0m, in \u001b[0;36mChain.invoke\u001b[0;34m(self, input, config, **kwargs)\u001b[0m\n\u001b[1;32m    151\u001b[0m \u001b[38;5;28;01mtry\u001b[39;00m:\n\u001b[1;32m    152\u001b[0m     \u001b[38;5;28mself\u001b[39m\u001b[38;5;241m.\u001b[39m_validate_inputs(inputs)\n\u001b[1;32m    153\u001b[0m     outputs \u001b[38;5;241m=\u001b[39m (\n\u001b[0;32m--> 154\u001b[0m         \u001b[38;5;28;43mself\u001b[39;49m\u001b[38;5;241;43m.\u001b[39;49m\u001b[43m_call\u001b[49m\u001b[43m(\u001b[49m\u001b[43minputs\u001b[49m\u001b[43m,\u001b[49m\u001b[43m \u001b[49m\u001b[43mrun_manager\u001b[49m\u001b[38;5;241;43m=\u001b[39;49m\u001b[43mrun_manager\u001b[49m\u001b[43m)\u001b[49m\n\u001b[1;32m    155\u001b[0m         \u001b[38;5;28;01mif\u001b[39;00m new_arg_supported\n\u001b[1;32m    156\u001b[0m         \u001b[38;5;28;01melse\u001b[39;00m \u001b[38;5;28mself\u001b[39m\u001b[38;5;241m.\u001b[39m_call(inputs)\n\u001b[1;32m    157\u001b[0m     )\n\u001b[1;32m    159\u001b[0m     final_outputs: Dict[\u001b[38;5;28mstr\u001b[39m, Any] \u001b[38;5;241m=\u001b[39m \u001b[38;5;28mself\u001b[39m\u001b[38;5;241m.\u001b[39mprep_outputs(\n\u001b[1;32m    160\u001b[0m         inputs, outputs, return_only_outputs\n\u001b[1;32m    161\u001b[0m     )\n\u001b[1;32m    162\u001b[0m \u001b[38;5;28;01mexcept\u001b[39;00m \u001b[38;5;167;01mBaseException\u001b[39;00m \u001b[38;5;28;01mas\u001b[39;00m e:\n",
      "File \u001b[0;32m~/anaconda3/envs/scar/lib/python3.12/site-packages/langchain_experimental/plan_and_execute/agent_executor.py:56\u001b[0m, in \u001b[0;36mPlanAndExecute._call\u001b[0;34m(self, inputs, run_manager)\u001b[0m\n\u001b[1;32m     50\u001b[0m _new_inputs \u001b[38;5;241m=\u001b[39m {\n\u001b[1;32m     51\u001b[0m     \u001b[38;5;124m\"\u001b[39m\u001b[38;5;124mprevious_steps\u001b[39m\u001b[38;5;124m\"\u001b[39m: \u001b[38;5;28mself\u001b[39m\u001b[38;5;241m.\u001b[39mstep_container,\n\u001b[1;32m     52\u001b[0m     \u001b[38;5;124m\"\u001b[39m\u001b[38;5;124mcurrent_step\u001b[39m\u001b[38;5;124m\"\u001b[39m: step,\n\u001b[1;32m     53\u001b[0m     \u001b[38;5;124m\"\u001b[39m\u001b[38;5;124mobjective\u001b[39m\u001b[38;5;124m\"\u001b[39m: inputs[\u001b[38;5;28mself\u001b[39m\u001b[38;5;241m.\u001b[39minput_key],\n\u001b[1;32m     54\u001b[0m }\n\u001b[1;32m     55\u001b[0m new_inputs \u001b[38;5;241m=\u001b[39m {\u001b[38;5;241m*\u001b[39m\u001b[38;5;241m*\u001b[39m_new_inputs, \u001b[38;5;241m*\u001b[39m\u001b[38;5;241m*\u001b[39minputs}\n\u001b[0;32m---> 56\u001b[0m response \u001b[38;5;241m=\u001b[39m \u001b[38;5;28;43mself\u001b[39;49m\u001b[38;5;241;43m.\u001b[39;49m\u001b[43mexecutor\u001b[49m\u001b[38;5;241;43m.\u001b[39;49m\u001b[43mstep\u001b[49m\u001b[43m(\u001b[49m\n\u001b[1;32m     57\u001b[0m \u001b[43m    \u001b[49m\u001b[43mnew_inputs\u001b[49m\u001b[43m,\u001b[49m\n\u001b[1;32m     58\u001b[0m \u001b[43m    \u001b[49m\u001b[43mcallbacks\u001b[49m\u001b[38;5;241;43m=\u001b[39;49m\u001b[43mrun_manager\u001b[49m\u001b[38;5;241;43m.\u001b[39;49m\u001b[43mget_child\u001b[49m\u001b[43m(\u001b[49m\u001b[43m)\u001b[49m\u001b[43m \u001b[49m\u001b[38;5;28;43;01mif\u001b[39;49;00m\u001b[43m \u001b[49m\u001b[43mrun_manager\u001b[49m\u001b[43m \u001b[49m\u001b[38;5;28;43;01melse\u001b[39;49;00m\u001b[43m \u001b[49m\u001b[38;5;28;43;01mNone\u001b[39;49;00m\u001b[43m,\u001b[49m\n\u001b[1;32m     59\u001b[0m \u001b[43m\u001b[49m\u001b[43m)\u001b[49m\n\u001b[1;32m     60\u001b[0m \u001b[38;5;28;01mif\u001b[39;00m run_manager:\n\u001b[1;32m     61\u001b[0m     run_manager\u001b[38;5;241m.\u001b[39mon_text(\n\u001b[1;32m     62\u001b[0m         \u001b[38;5;124mf\u001b[39m\u001b[38;5;124m\"\u001b[39m\u001b[38;5;124m*****\u001b[39m\u001b[38;5;130;01m\\n\u001b[39;00m\u001b[38;5;130;01m\\n\u001b[39;00m\u001b[38;5;124mStep: \u001b[39m\u001b[38;5;132;01m{\u001b[39;00mstep\u001b[38;5;241m.\u001b[39mvalue\u001b[38;5;132;01m}\u001b[39;00m\u001b[38;5;124m\"\u001b[39m, verbose\u001b[38;5;241m=\u001b[39m\u001b[38;5;28mself\u001b[39m\u001b[38;5;241m.\u001b[39mverbose\n\u001b[1;32m     63\u001b[0m     )\n",
      "File \u001b[0;32m~/anaconda3/envs/scar/lib/python3.12/site-packages/langchain_experimental/plan_and_execute/executors/base.py:37\u001b[0m, in \u001b[0;36mChainExecutor.step\u001b[0;34m(self, inputs, callbacks, **kwargs)\u001b[0m\n\u001b[1;32m     33\u001b[0m \u001b[38;5;28;01mdef\u001b[39;00m \u001b[38;5;21mstep\u001b[39m(\n\u001b[1;32m     34\u001b[0m     \u001b[38;5;28mself\u001b[39m, inputs: \u001b[38;5;28mdict\u001b[39m, callbacks: Callbacks \u001b[38;5;241m=\u001b[39m \u001b[38;5;28;01mNone\u001b[39;00m, \u001b[38;5;241m*\u001b[39m\u001b[38;5;241m*\u001b[39mkwargs: Any\n\u001b[1;32m     35\u001b[0m ) \u001b[38;5;241m-\u001b[39m\u001b[38;5;241m>\u001b[39m StepResponse:\n\u001b[1;32m     36\u001b[0m \u001b[38;5;250m    \u001b[39m\u001b[38;5;124;03m\"\"\"Take step.\"\"\"\u001b[39;00m\n\u001b[0;32m---> 37\u001b[0m     response \u001b[38;5;241m=\u001b[39m \u001b[38;5;28;43mself\u001b[39;49m\u001b[38;5;241;43m.\u001b[39;49m\u001b[43mchain\u001b[49m\u001b[38;5;241;43m.\u001b[39;49m\u001b[43mrun\u001b[49m\u001b[43m(\u001b[49m\u001b[38;5;241;43m*\u001b[39;49m\u001b[38;5;241;43m*\u001b[39;49m\u001b[43minputs\u001b[49m\u001b[43m,\u001b[49m\u001b[43m \u001b[49m\u001b[43mcallbacks\u001b[49m\u001b[38;5;241;43m=\u001b[39;49m\u001b[43mcallbacks\u001b[49m\u001b[43m)\u001b[49m\n\u001b[1;32m     38\u001b[0m     \u001b[38;5;28;01mreturn\u001b[39;00m StepResponse(response\u001b[38;5;241m=\u001b[39mresponse)\n",
      "File \u001b[0;32m~/anaconda3/envs/scar/lib/python3.12/site-packages/langchain_core/_api/deprecation.py:180\u001b[0m, in \u001b[0;36mdeprecated.<locals>.deprecate.<locals>.warning_emitting_wrapper\u001b[0;34m(*args, **kwargs)\u001b[0m\n\u001b[1;32m    178\u001b[0m     warned \u001b[38;5;241m=\u001b[39m \u001b[38;5;28;01mTrue\u001b[39;00m\n\u001b[1;32m    179\u001b[0m     emit_warning()\n\u001b[0;32m--> 180\u001b[0m \u001b[38;5;28;01mreturn\u001b[39;00m \u001b[43mwrapped\u001b[49m\u001b[43m(\u001b[49m\u001b[38;5;241;43m*\u001b[39;49m\u001b[43margs\u001b[49m\u001b[43m,\u001b[49m\u001b[43m \u001b[49m\u001b[38;5;241;43m*\u001b[39;49m\u001b[38;5;241;43m*\u001b[39;49m\u001b[43mkwargs\u001b[49m\u001b[43m)\u001b[49m\n",
      "File \u001b[0;32m~/anaconda3/envs/scar/lib/python3.12/site-packages/langchain/chains/base.py:603\u001b[0m, in \u001b[0;36mChain.run\u001b[0;34m(self, callbacks, tags, metadata, *args, **kwargs)\u001b[0m\n\u001b[1;32m    598\u001b[0m     \u001b[38;5;28;01mreturn\u001b[39;00m \u001b[38;5;28mself\u001b[39m(args[\u001b[38;5;241m0\u001b[39m], callbacks\u001b[38;5;241m=\u001b[39mcallbacks, tags\u001b[38;5;241m=\u001b[39mtags, metadata\u001b[38;5;241m=\u001b[39mmetadata)[\n\u001b[1;32m    599\u001b[0m         _output_key\n\u001b[1;32m    600\u001b[0m     ]\n\u001b[1;32m    602\u001b[0m \u001b[38;5;28;01mif\u001b[39;00m kwargs \u001b[38;5;129;01mand\u001b[39;00m \u001b[38;5;129;01mnot\u001b[39;00m args:\n\u001b[0;32m--> 603\u001b[0m     \u001b[38;5;28;01mreturn\u001b[39;00m \u001b[38;5;28;43mself\u001b[39;49m\u001b[43m(\u001b[49m\u001b[43mkwargs\u001b[49m\u001b[43m,\u001b[49m\u001b[43m \u001b[49m\u001b[43mcallbacks\u001b[49m\u001b[38;5;241;43m=\u001b[39;49m\u001b[43mcallbacks\u001b[49m\u001b[43m,\u001b[49m\u001b[43m \u001b[49m\u001b[43mtags\u001b[49m\u001b[38;5;241;43m=\u001b[39;49m\u001b[43mtags\u001b[49m\u001b[43m,\u001b[49m\u001b[43m \u001b[49m\u001b[43mmetadata\u001b[49m\u001b[38;5;241;43m=\u001b[39;49m\u001b[43mmetadata\u001b[49m\u001b[43m)\u001b[49m[\n\u001b[1;32m    604\u001b[0m         _output_key\n\u001b[1;32m    605\u001b[0m     ]\n\u001b[1;32m    607\u001b[0m \u001b[38;5;28;01mif\u001b[39;00m \u001b[38;5;129;01mnot\u001b[39;00m kwargs \u001b[38;5;129;01mand\u001b[39;00m \u001b[38;5;129;01mnot\u001b[39;00m args:\n\u001b[1;32m    608\u001b[0m     \u001b[38;5;28;01mraise\u001b[39;00m \u001b[38;5;167;01mValueError\u001b[39;00m(\n\u001b[1;32m    609\u001b[0m         \u001b[38;5;124m\"\u001b[39m\u001b[38;5;124m`run` supported with either positional arguments or keyword arguments,\u001b[39m\u001b[38;5;124m\"\u001b[39m\n\u001b[1;32m    610\u001b[0m         \u001b[38;5;124m\"\u001b[39m\u001b[38;5;124m but none were provided.\u001b[39m\u001b[38;5;124m\"\u001b[39m\n\u001b[1;32m    611\u001b[0m     )\n",
      "File \u001b[0;32m~/anaconda3/envs/scar/lib/python3.12/site-packages/langchain_core/_api/deprecation.py:180\u001b[0m, in \u001b[0;36mdeprecated.<locals>.deprecate.<locals>.warning_emitting_wrapper\u001b[0;34m(*args, **kwargs)\u001b[0m\n\u001b[1;32m    178\u001b[0m     warned \u001b[38;5;241m=\u001b[39m \u001b[38;5;28;01mTrue\u001b[39;00m\n\u001b[1;32m    179\u001b[0m     emit_warning()\n\u001b[0;32m--> 180\u001b[0m \u001b[38;5;28;01mreturn\u001b[39;00m \u001b[43mwrapped\u001b[49m\u001b[43m(\u001b[49m\u001b[38;5;241;43m*\u001b[39;49m\u001b[43margs\u001b[49m\u001b[43m,\u001b[49m\u001b[43m \u001b[49m\u001b[38;5;241;43m*\u001b[39;49m\u001b[38;5;241;43m*\u001b[39;49m\u001b[43mkwargs\u001b[49m\u001b[43m)\u001b[49m\n",
      "File \u001b[0;32m~/anaconda3/envs/scar/lib/python3.12/site-packages/langchain/chains/base.py:381\u001b[0m, in \u001b[0;36mChain.__call__\u001b[0;34m(self, inputs, return_only_outputs, callbacks, tags, metadata, run_name, include_run_info)\u001b[0m\n\u001b[1;32m    349\u001b[0m \u001b[38;5;250m\u001b[39m\u001b[38;5;124;03m\"\"\"Execute the chain.\u001b[39;00m\n\u001b[1;32m    350\u001b[0m \n\u001b[1;32m    351\u001b[0m \u001b[38;5;124;03mArgs:\u001b[39;00m\n\u001b[0;32m   (...)\u001b[0m\n\u001b[1;32m    372\u001b[0m \u001b[38;5;124;03m        `Chain.output_keys`.\u001b[39;00m\n\u001b[1;32m    373\u001b[0m \u001b[38;5;124;03m\"\"\"\u001b[39;00m\n\u001b[1;32m    374\u001b[0m config \u001b[38;5;241m=\u001b[39m {\n\u001b[1;32m    375\u001b[0m     \u001b[38;5;124m\"\u001b[39m\u001b[38;5;124mcallbacks\u001b[39m\u001b[38;5;124m\"\u001b[39m: callbacks,\n\u001b[1;32m    376\u001b[0m     \u001b[38;5;124m\"\u001b[39m\u001b[38;5;124mtags\u001b[39m\u001b[38;5;124m\"\u001b[39m: tags,\n\u001b[1;32m    377\u001b[0m     \u001b[38;5;124m\"\u001b[39m\u001b[38;5;124mmetadata\u001b[39m\u001b[38;5;124m\"\u001b[39m: metadata,\n\u001b[1;32m    378\u001b[0m     \u001b[38;5;124m\"\u001b[39m\u001b[38;5;124mrun_name\u001b[39m\u001b[38;5;124m\"\u001b[39m: run_name,\n\u001b[1;32m    379\u001b[0m }\n\u001b[0;32m--> 381\u001b[0m \u001b[38;5;28;01mreturn\u001b[39;00m \u001b[38;5;28;43mself\u001b[39;49m\u001b[38;5;241;43m.\u001b[39;49m\u001b[43minvoke\u001b[49m\u001b[43m(\u001b[49m\n\u001b[1;32m    382\u001b[0m \u001b[43m    \u001b[49m\u001b[43minputs\u001b[49m\u001b[43m,\u001b[49m\n\u001b[1;32m    383\u001b[0m \u001b[43m    \u001b[49m\u001b[43mcast\u001b[49m\u001b[43m(\u001b[49m\u001b[43mRunnableConfig\u001b[49m\u001b[43m,\u001b[49m\u001b[43m \u001b[49m\u001b[43m{\u001b[49m\u001b[43mk\u001b[49m\u001b[43m:\u001b[49m\u001b[43m \u001b[49m\u001b[43mv\u001b[49m\u001b[43m \u001b[49m\u001b[38;5;28;43;01mfor\u001b[39;49;00m\u001b[43m \u001b[49m\u001b[43mk\u001b[49m\u001b[43m,\u001b[49m\u001b[43m \u001b[49m\u001b[43mv\u001b[49m\u001b[43m \u001b[49m\u001b[38;5;129;43;01min\u001b[39;49;00m\u001b[43m \u001b[49m\u001b[43mconfig\u001b[49m\u001b[38;5;241;43m.\u001b[39;49m\u001b[43mitems\u001b[49m\u001b[43m(\u001b[49m\u001b[43m)\u001b[49m\u001b[43m \u001b[49m\u001b[38;5;28;43;01mif\u001b[39;49;00m\u001b[43m \u001b[49m\u001b[43mv\u001b[49m\u001b[43m \u001b[49m\u001b[38;5;129;43;01mis\u001b[39;49;00m\u001b[43m \u001b[49m\u001b[38;5;129;43;01mnot\u001b[39;49;00m\u001b[43m \u001b[49m\u001b[38;5;28;43;01mNone\u001b[39;49;00m\u001b[43m}\u001b[49m\u001b[43m)\u001b[49m\u001b[43m,\u001b[49m\n\u001b[1;32m    384\u001b[0m \u001b[43m    \u001b[49m\u001b[43mreturn_only_outputs\u001b[49m\u001b[38;5;241;43m=\u001b[39;49m\u001b[43mreturn_only_outputs\u001b[49m\u001b[43m,\u001b[49m\n\u001b[1;32m    385\u001b[0m \u001b[43m    \u001b[49m\u001b[43minclude_run_info\u001b[49m\u001b[38;5;241;43m=\u001b[39;49m\u001b[43minclude_run_info\u001b[49m\u001b[43m,\u001b[49m\n\u001b[1;32m    386\u001b[0m \u001b[43m\u001b[49m\u001b[43m)\u001b[49m\n",
      "File \u001b[0;32m~/anaconda3/envs/scar/lib/python3.12/site-packages/langchain/chains/base.py:164\u001b[0m, in \u001b[0;36mChain.invoke\u001b[0;34m(self, input, config, **kwargs)\u001b[0m\n\u001b[1;32m    162\u001b[0m \u001b[38;5;28;01mexcept\u001b[39;00m \u001b[38;5;167;01mBaseException\u001b[39;00m \u001b[38;5;28;01mas\u001b[39;00m e:\n\u001b[1;32m    163\u001b[0m     run_manager\u001b[38;5;241m.\u001b[39mon_chain_error(e)\n\u001b[0;32m--> 164\u001b[0m     \u001b[38;5;28;01mraise\u001b[39;00m e\n\u001b[1;32m    165\u001b[0m run_manager\u001b[38;5;241m.\u001b[39mon_chain_end(outputs)\n\u001b[1;32m    167\u001b[0m \u001b[38;5;28;01mif\u001b[39;00m include_run_info:\n",
      "File \u001b[0;32m~/anaconda3/envs/scar/lib/python3.12/site-packages/langchain/chains/base.py:154\u001b[0m, in \u001b[0;36mChain.invoke\u001b[0;34m(self, input, config, **kwargs)\u001b[0m\n\u001b[1;32m    151\u001b[0m \u001b[38;5;28;01mtry\u001b[39;00m:\n\u001b[1;32m    152\u001b[0m     \u001b[38;5;28mself\u001b[39m\u001b[38;5;241m.\u001b[39m_validate_inputs(inputs)\n\u001b[1;32m    153\u001b[0m     outputs \u001b[38;5;241m=\u001b[39m (\n\u001b[0;32m--> 154\u001b[0m         \u001b[38;5;28;43mself\u001b[39;49m\u001b[38;5;241;43m.\u001b[39;49m\u001b[43m_call\u001b[49m\u001b[43m(\u001b[49m\u001b[43minputs\u001b[49m\u001b[43m,\u001b[49m\u001b[43m \u001b[49m\u001b[43mrun_manager\u001b[49m\u001b[38;5;241;43m=\u001b[39;49m\u001b[43mrun_manager\u001b[49m\u001b[43m)\u001b[49m\n\u001b[1;32m    155\u001b[0m         \u001b[38;5;28;01mif\u001b[39;00m new_arg_supported\n\u001b[1;32m    156\u001b[0m         \u001b[38;5;28;01melse\u001b[39;00m \u001b[38;5;28mself\u001b[39m\u001b[38;5;241m.\u001b[39m_call(inputs)\n\u001b[1;32m    157\u001b[0m     )\n\u001b[1;32m    159\u001b[0m     final_outputs: Dict[\u001b[38;5;28mstr\u001b[39m, Any] \u001b[38;5;241m=\u001b[39m \u001b[38;5;28mself\u001b[39m\u001b[38;5;241m.\u001b[39mprep_outputs(\n\u001b[1;32m    160\u001b[0m         inputs, outputs, return_only_outputs\n\u001b[1;32m    161\u001b[0m     )\n\u001b[1;32m    162\u001b[0m \u001b[38;5;28;01mexcept\u001b[39;00m \u001b[38;5;167;01mBaseException\u001b[39;00m \u001b[38;5;28;01mas\u001b[39;00m e:\n",
      "File \u001b[0;32m~/anaconda3/envs/scar/lib/python3.12/site-packages/langchain/agents/agent.py:1625\u001b[0m, in \u001b[0;36mAgentExecutor._call\u001b[0;34m(self, inputs, run_manager)\u001b[0m\n\u001b[1;32m   1623\u001b[0m \u001b[38;5;66;03m# We now enter the agent loop (until it returns something).\u001b[39;00m\n\u001b[1;32m   1624\u001b[0m \u001b[38;5;28;01mwhile\u001b[39;00m \u001b[38;5;28mself\u001b[39m\u001b[38;5;241m.\u001b[39m_should_continue(iterations, time_elapsed):\n\u001b[0;32m-> 1625\u001b[0m     next_step_output \u001b[38;5;241m=\u001b[39m \u001b[38;5;28;43mself\u001b[39;49m\u001b[38;5;241;43m.\u001b[39;49m\u001b[43m_take_next_step\u001b[49m\u001b[43m(\u001b[49m\n\u001b[1;32m   1626\u001b[0m \u001b[43m        \u001b[49m\u001b[43mname_to_tool_map\u001b[49m\u001b[43m,\u001b[49m\n\u001b[1;32m   1627\u001b[0m \u001b[43m        \u001b[49m\u001b[43mcolor_mapping\u001b[49m\u001b[43m,\u001b[49m\n\u001b[1;32m   1628\u001b[0m \u001b[43m        \u001b[49m\u001b[43minputs\u001b[49m\u001b[43m,\u001b[49m\n\u001b[1;32m   1629\u001b[0m \u001b[43m        \u001b[49m\u001b[43mintermediate_steps\u001b[49m\u001b[43m,\u001b[49m\n\u001b[1;32m   1630\u001b[0m \u001b[43m        \u001b[49m\u001b[43mrun_manager\u001b[49m\u001b[38;5;241;43m=\u001b[39;49m\u001b[43mrun_manager\u001b[49m\u001b[43m,\u001b[49m\n\u001b[1;32m   1631\u001b[0m \u001b[43m    \u001b[49m\u001b[43m)\u001b[49m\n\u001b[1;32m   1632\u001b[0m     \u001b[38;5;28;01mif\u001b[39;00m \u001b[38;5;28misinstance\u001b[39m(next_step_output, AgentFinish):\n\u001b[1;32m   1633\u001b[0m         \u001b[38;5;28;01mreturn\u001b[39;00m \u001b[38;5;28mself\u001b[39m\u001b[38;5;241m.\u001b[39m_return(\n\u001b[1;32m   1634\u001b[0m             next_step_output, intermediate_steps, run_manager\u001b[38;5;241m=\u001b[39mrun_manager\n\u001b[1;32m   1635\u001b[0m         )\n",
      "File \u001b[0;32m~/anaconda3/envs/scar/lib/python3.12/site-packages/langchain/agents/agent.py:1331\u001b[0m, in \u001b[0;36mAgentExecutor._take_next_step\u001b[0;34m(self, name_to_tool_map, color_mapping, inputs, intermediate_steps, run_manager)\u001b[0m\n\u001b[1;32m   1322\u001b[0m \u001b[38;5;28;01mdef\u001b[39;00m \u001b[38;5;21m_take_next_step\u001b[39m(\n\u001b[1;32m   1323\u001b[0m     \u001b[38;5;28mself\u001b[39m,\n\u001b[1;32m   1324\u001b[0m     name_to_tool_map: Dict[\u001b[38;5;28mstr\u001b[39m, BaseTool],\n\u001b[0;32m   (...)\u001b[0m\n\u001b[1;32m   1328\u001b[0m     run_manager: Optional[CallbackManagerForChainRun] \u001b[38;5;241m=\u001b[39m \u001b[38;5;28;01mNone\u001b[39;00m,\n\u001b[1;32m   1329\u001b[0m ) \u001b[38;5;241m-\u001b[39m\u001b[38;5;241m>\u001b[39m Union[AgentFinish, List[Tuple[AgentAction, \u001b[38;5;28mstr\u001b[39m]]]:\n\u001b[1;32m   1330\u001b[0m     \u001b[38;5;28;01mreturn\u001b[39;00m \u001b[38;5;28mself\u001b[39m\u001b[38;5;241m.\u001b[39m_consume_next_step(\n\u001b[0;32m-> 1331\u001b[0m         \u001b[43m[\u001b[49m\n\u001b[1;32m   1332\u001b[0m \u001b[43m            \u001b[49m\u001b[43ma\u001b[49m\n\u001b[1;32m   1333\u001b[0m \u001b[43m            \u001b[49m\u001b[38;5;28;43;01mfor\u001b[39;49;00m\u001b[43m \u001b[49m\u001b[43ma\u001b[49m\u001b[43m \u001b[49m\u001b[38;5;129;43;01min\u001b[39;49;00m\u001b[43m \u001b[49m\u001b[38;5;28;43mself\u001b[39;49m\u001b[38;5;241;43m.\u001b[39;49m\u001b[43m_iter_next_step\u001b[49m\u001b[43m(\u001b[49m\n\u001b[1;32m   1334\u001b[0m \u001b[43m                \u001b[49m\u001b[43mname_to_tool_map\u001b[49m\u001b[43m,\u001b[49m\n\u001b[1;32m   1335\u001b[0m \u001b[43m                \u001b[49m\u001b[43mcolor_mapping\u001b[49m\u001b[43m,\u001b[49m\n\u001b[1;32m   1336\u001b[0m \u001b[43m                \u001b[49m\u001b[43minputs\u001b[49m\u001b[43m,\u001b[49m\n\u001b[1;32m   1337\u001b[0m \u001b[43m                \u001b[49m\u001b[43mintermediate_steps\u001b[49m\u001b[43m,\u001b[49m\n\u001b[1;32m   1338\u001b[0m \u001b[43m                \u001b[49m\u001b[43mrun_manager\u001b[49m\u001b[43m,\u001b[49m\n\u001b[1;32m   1339\u001b[0m \u001b[43m            \u001b[49m\u001b[43m)\u001b[49m\n\u001b[1;32m   1340\u001b[0m \u001b[43m        \u001b[49m\u001b[43m]\u001b[49m\n\u001b[1;32m   1341\u001b[0m     )\n",
      "File \u001b[0;32m~/anaconda3/envs/scar/lib/python3.12/site-packages/langchain/agents/agent.py:1359\u001b[0m, in \u001b[0;36mAgentExecutor._iter_next_step\u001b[0;34m(self, name_to_tool_map, color_mapping, inputs, intermediate_steps, run_manager)\u001b[0m\n\u001b[1;32m   1356\u001b[0m     intermediate_steps \u001b[38;5;241m=\u001b[39m \u001b[38;5;28mself\u001b[39m\u001b[38;5;241m.\u001b[39m_prepare_intermediate_steps(intermediate_steps)\n\u001b[1;32m   1358\u001b[0m     \u001b[38;5;66;03m# Call the LLM to see what to do.\u001b[39;00m\n\u001b[0;32m-> 1359\u001b[0m     output \u001b[38;5;241m=\u001b[39m \u001b[38;5;28;43mself\u001b[39;49m\u001b[38;5;241;43m.\u001b[39;49m\u001b[43m_action_agent\u001b[49m\u001b[38;5;241;43m.\u001b[39;49m\u001b[43mplan\u001b[49m\u001b[43m(\u001b[49m\n\u001b[1;32m   1360\u001b[0m \u001b[43m        \u001b[49m\u001b[43mintermediate_steps\u001b[49m\u001b[43m,\u001b[49m\n\u001b[1;32m   1361\u001b[0m \u001b[43m        \u001b[49m\u001b[43mcallbacks\u001b[49m\u001b[38;5;241;43m=\u001b[39;49m\u001b[43mrun_manager\u001b[49m\u001b[38;5;241;43m.\u001b[39;49m\u001b[43mget_child\u001b[49m\u001b[43m(\u001b[49m\u001b[43m)\u001b[49m\u001b[43m \u001b[49m\u001b[38;5;28;43;01mif\u001b[39;49;00m\u001b[43m \u001b[49m\u001b[43mrun_manager\u001b[49m\u001b[43m \u001b[49m\u001b[38;5;28;43;01melse\u001b[39;49;00m\u001b[43m \u001b[49m\u001b[38;5;28;43;01mNone\u001b[39;49;00m\u001b[43m,\u001b[49m\n\u001b[1;32m   1362\u001b[0m \u001b[43m        \u001b[49m\u001b[38;5;241;43m*\u001b[39;49m\u001b[38;5;241;43m*\u001b[39;49m\u001b[43minputs\u001b[49m\u001b[43m,\u001b[49m\n\u001b[1;32m   1363\u001b[0m \u001b[43m    \u001b[49m\u001b[43m)\u001b[49m\n\u001b[1;32m   1364\u001b[0m \u001b[38;5;28;01mexcept\u001b[39;00m OutputParserException \u001b[38;5;28;01mas\u001b[39;00m e:\n\u001b[1;32m   1365\u001b[0m     \u001b[38;5;28;01mif\u001b[39;00m \u001b[38;5;28misinstance\u001b[39m(\u001b[38;5;28mself\u001b[39m\u001b[38;5;241m.\u001b[39mhandle_parsing_errors, \u001b[38;5;28mbool\u001b[39m):\n",
      "File \u001b[0;32m~/anaconda3/envs/scar/lib/python3.12/site-packages/langchain/agents/agent.py:806\u001b[0m, in \u001b[0;36mAgent.plan\u001b[0;34m(self, intermediate_steps, callbacks, **kwargs)\u001b[0m\n\u001b[1;32m    794\u001b[0m \u001b[38;5;250m\u001b[39m\u001b[38;5;124;03m\"\"\"Given input, decided what to do.\u001b[39;00m\n\u001b[1;32m    795\u001b[0m \n\u001b[1;32m    796\u001b[0m \u001b[38;5;124;03mArgs:\u001b[39;00m\n\u001b[0;32m   (...)\u001b[0m\n\u001b[1;32m    803\u001b[0m \u001b[38;5;124;03m    Action specifying what tool to use.\u001b[39;00m\n\u001b[1;32m    804\u001b[0m \u001b[38;5;124;03m\"\"\"\u001b[39;00m\n\u001b[1;32m    805\u001b[0m full_inputs \u001b[38;5;241m=\u001b[39m \u001b[38;5;28mself\u001b[39m\u001b[38;5;241m.\u001b[39mget_full_inputs(intermediate_steps, \u001b[38;5;241m*\u001b[39m\u001b[38;5;241m*\u001b[39mkwargs)\n\u001b[0;32m--> 806\u001b[0m full_output \u001b[38;5;241m=\u001b[39m \u001b[38;5;28;43mself\u001b[39;49m\u001b[38;5;241;43m.\u001b[39;49m\u001b[43mllm_chain\u001b[49m\u001b[38;5;241;43m.\u001b[39;49m\u001b[43mpredict\u001b[49m\u001b[43m(\u001b[49m\u001b[43mcallbacks\u001b[49m\u001b[38;5;241;43m=\u001b[39;49m\u001b[43mcallbacks\u001b[49m\u001b[43m,\u001b[49m\u001b[43m \u001b[49m\u001b[38;5;241;43m*\u001b[39;49m\u001b[38;5;241;43m*\u001b[39;49m\u001b[43mfull_inputs\u001b[49m\u001b[43m)\u001b[49m\n\u001b[1;32m    807\u001b[0m \u001b[38;5;28;01mreturn\u001b[39;00m \u001b[38;5;28mself\u001b[39m\u001b[38;5;241m.\u001b[39moutput_parser\u001b[38;5;241m.\u001b[39mparse(full_output)\n",
      "File \u001b[0;32m~/anaconda3/envs/scar/lib/python3.12/site-packages/langchain/chains/llm.py:316\u001b[0m, in \u001b[0;36mLLMChain.predict\u001b[0;34m(self, callbacks, **kwargs)\u001b[0m\n\u001b[1;32m    301\u001b[0m \u001b[38;5;28;01mdef\u001b[39;00m \u001b[38;5;21mpredict\u001b[39m(\u001b[38;5;28mself\u001b[39m, callbacks: Callbacks \u001b[38;5;241m=\u001b[39m \u001b[38;5;28;01mNone\u001b[39;00m, \u001b[38;5;241m*\u001b[39m\u001b[38;5;241m*\u001b[39mkwargs: Any) \u001b[38;5;241m-\u001b[39m\u001b[38;5;241m>\u001b[39m \u001b[38;5;28mstr\u001b[39m:\n\u001b[1;32m    302\u001b[0m \u001b[38;5;250m    \u001b[39m\u001b[38;5;124;03m\"\"\"Format prompt with kwargs and pass to LLM.\u001b[39;00m\n\u001b[1;32m    303\u001b[0m \n\u001b[1;32m    304\u001b[0m \u001b[38;5;124;03m    Args:\u001b[39;00m\n\u001b[0;32m   (...)\u001b[0m\n\u001b[1;32m    314\u001b[0m \u001b[38;5;124;03m            completion = llm.predict(adjective=\"funny\")\u001b[39;00m\n\u001b[1;32m    315\u001b[0m \u001b[38;5;124;03m    \"\"\"\u001b[39;00m\n\u001b[0;32m--> 316\u001b[0m     \u001b[38;5;28;01mreturn\u001b[39;00m \u001b[38;5;28;43mself\u001b[39;49m\u001b[43m(\u001b[49m\u001b[43mkwargs\u001b[49m\u001b[43m,\u001b[49m\u001b[43m \u001b[49m\u001b[43mcallbacks\u001b[49m\u001b[38;5;241;43m=\u001b[39;49m\u001b[43mcallbacks\u001b[49m\u001b[43m)\u001b[49m[\u001b[38;5;28mself\u001b[39m\u001b[38;5;241m.\u001b[39moutput_key]\n",
      "File \u001b[0;32m~/anaconda3/envs/scar/lib/python3.12/site-packages/langchain_core/_api/deprecation.py:180\u001b[0m, in \u001b[0;36mdeprecated.<locals>.deprecate.<locals>.warning_emitting_wrapper\u001b[0;34m(*args, **kwargs)\u001b[0m\n\u001b[1;32m    178\u001b[0m     warned \u001b[38;5;241m=\u001b[39m \u001b[38;5;28;01mTrue\u001b[39;00m\n\u001b[1;32m    179\u001b[0m     emit_warning()\n\u001b[0;32m--> 180\u001b[0m \u001b[38;5;28;01mreturn\u001b[39;00m \u001b[43mwrapped\u001b[49m\u001b[43m(\u001b[49m\u001b[38;5;241;43m*\u001b[39;49m\u001b[43margs\u001b[49m\u001b[43m,\u001b[49m\u001b[43m \u001b[49m\u001b[38;5;241;43m*\u001b[39;49m\u001b[38;5;241;43m*\u001b[39;49m\u001b[43mkwargs\u001b[49m\u001b[43m)\u001b[49m\n",
      "File \u001b[0;32m~/anaconda3/envs/scar/lib/python3.12/site-packages/langchain/chains/base.py:381\u001b[0m, in \u001b[0;36mChain.__call__\u001b[0;34m(self, inputs, return_only_outputs, callbacks, tags, metadata, run_name, include_run_info)\u001b[0m\n\u001b[1;32m    349\u001b[0m \u001b[38;5;250m\u001b[39m\u001b[38;5;124;03m\"\"\"Execute the chain.\u001b[39;00m\n\u001b[1;32m    350\u001b[0m \n\u001b[1;32m    351\u001b[0m \u001b[38;5;124;03mArgs:\u001b[39;00m\n\u001b[0;32m   (...)\u001b[0m\n\u001b[1;32m    372\u001b[0m \u001b[38;5;124;03m        `Chain.output_keys`.\u001b[39;00m\n\u001b[1;32m    373\u001b[0m \u001b[38;5;124;03m\"\"\"\u001b[39;00m\n\u001b[1;32m    374\u001b[0m config \u001b[38;5;241m=\u001b[39m {\n\u001b[1;32m    375\u001b[0m     \u001b[38;5;124m\"\u001b[39m\u001b[38;5;124mcallbacks\u001b[39m\u001b[38;5;124m\"\u001b[39m: callbacks,\n\u001b[1;32m    376\u001b[0m     \u001b[38;5;124m\"\u001b[39m\u001b[38;5;124mtags\u001b[39m\u001b[38;5;124m\"\u001b[39m: tags,\n\u001b[1;32m    377\u001b[0m     \u001b[38;5;124m\"\u001b[39m\u001b[38;5;124mmetadata\u001b[39m\u001b[38;5;124m\"\u001b[39m: metadata,\n\u001b[1;32m    378\u001b[0m     \u001b[38;5;124m\"\u001b[39m\u001b[38;5;124mrun_name\u001b[39m\u001b[38;5;124m\"\u001b[39m: run_name,\n\u001b[1;32m    379\u001b[0m }\n\u001b[0;32m--> 381\u001b[0m \u001b[38;5;28;01mreturn\u001b[39;00m \u001b[38;5;28;43mself\u001b[39;49m\u001b[38;5;241;43m.\u001b[39;49m\u001b[43minvoke\u001b[49m\u001b[43m(\u001b[49m\n\u001b[1;32m    382\u001b[0m \u001b[43m    \u001b[49m\u001b[43minputs\u001b[49m\u001b[43m,\u001b[49m\n\u001b[1;32m    383\u001b[0m \u001b[43m    \u001b[49m\u001b[43mcast\u001b[49m\u001b[43m(\u001b[49m\u001b[43mRunnableConfig\u001b[49m\u001b[43m,\u001b[49m\u001b[43m \u001b[49m\u001b[43m{\u001b[49m\u001b[43mk\u001b[49m\u001b[43m:\u001b[49m\u001b[43m \u001b[49m\u001b[43mv\u001b[49m\u001b[43m \u001b[49m\u001b[38;5;28;43;01mfor\u001b[39;49;00m\u001b[43m \u001b[49m\u001b[43mk\u001b[49m\u001b[43m,\u001b[49m\u001b[43m \u001b[49m\u001b[43mv\u001b[49m\u001b[43m \u001b[49m\u001b[38;5;129;43;01min\u001b[39;49;00m\u001b[43m \u001b[49m\u001b[43mconfig\u001b[49m\u001b[38;5;241;43m.\u001b[39;49m\u001b[43mitems\u001b[49m\u001b[43m(\u001b[49m\u001b[43m)\u001b[49m\u001b[43m \u001b[49m\u001b[38;5;28;43;01mif\u001b[39;49;00m\u001b[43m \u001b[49m\u001b[43mv\u001b[49m\u001b[43m \u001b[49m\u001b[38;5;129;43;01mis\u001b[39;49;00m\u001b[43m \u001b[49m\u001b[38;5;129;43;01mnot\u001b[39;49;00m\u001b[43m \u001b[49m\u001b[38;5;28;43;01mNone\u001b[39;49;00m\u001b[43m}\u001b[49m\u001b[43m)\u001b[49m\u001b[43m,\u001b[49m\n\u001b[1;32m    384\u001b[0m \u001b[43m    \u001b[49m\u001b[43mreturn_only_outputs\u001b[49m\u001b[38;5;241;43m=\u001b[39;49m\u001b[43mreturn_only_outputs\u001b[49m\u001b[43m,\u001b[49m\n\u001b[1;32m    385\u001b[0m \u001b[43m    \u001b[49m\u001b[43minclude_run_info\u001b[49m\u001b[38;5;241;43m=\u001b[39;49m\u001b[43minclude_run_info\u001b[49m\u001b[43m,\u001b[49m\n\u001b[1;32m    386\u001b[0m \u001b[43m\u001b[49m\u001b[43m)\u001b[49m\n",
      "File \u001b[0;32m~/anaconda3/envs/scar/lib/python3.12/site-packages/langchain/chains/base.py:164\u001b[0m, in \u001b[0;36mChain.invoke\u001b[0;34m(self, input, config, **kwargs)\u001b[0m\n\u001b[1;32m    162\u001b[0m \u001b[38;5;28;01mexcept\u001b[39;00m \u001b[38;5;167;01mBaseException\u001b[39;00m \u001b[38;5;28;01mas\u001b[39;00m e:\n\u001b[1;32m    163\u001b[0m     run_manager\u001b[38;5;241m.\u001b[39mon_chain_error(e)\n\u001b[0;32m--> 164\u001b[0m     \u001b[38;5;28;01mraise\u001b[39;00m e\n\u001b[1;32m    165\u001b[0m run_manager\u001b[38;5;241m.\u001b[39mon_chain_end(outputs)\n\u001b[1;32m    167\u001b[0m \u001b[38;5;28;01mif\u001b[39;00m include_run_info:\n",
      "File \u001b[0;32m~/anaconda3/envs/scar/lib/python3.12/site-packages/langchain/chains/base.py:154\u001b[0m, in \u001b[0;36mChain.invoke\u001b[0;34m(self, input, config, **kwargs)\u001b[0m\n\u001b[1;32m    151\u001b[0m \u001b[38;5;28;01mtry\u001b[39;00m:\n\u001b[1;32m    152\u001b[0m     \u001b[38;5;28mself\u001b[39m\u001b[38;5;241m.\u001b[39m_validate_inputs(inputs)\n\u001b[1;32m    153\u001b[0m     outputs \u001b[38;5;241m=\u001b[39m (\n\u001b[0;32m--> 154\u001b[0m         \u001b[38;5;28;43mself\u001b[39;49m\u001b[38;5;241;43m.\u001b[39;49m\u001b[43m_call\u001b[49m\u001b[43m(\u001b[49m\u001b[43minputs\u001b[49m\u001b[43m,\u001b[49m\u001b[43m \u001b[49m\u001b[43mrun_manager\u001b[49m\u001b[38;5;241;43m=\u001b[39;49m\u001b[43mrun_manager\u001b[49m\u001b[43m)\u001b[49m\n\u001b[1;32m    155\u001b[0m         \u001b[38;5;28;01mif\u001b[39;00m new_arg_supported\n\u001b[1;32m    156\u001b[0m         \u001b[38;5;28;01melse\u001b[39;00m \u001b[38;5;28mself\u001b[39m\u001b[38;5;241m.\u001b[39m_call(inputs)\n\u001b[1;32m    157\u001b[0m     )\n\u001b[1;32m    159\u001b[0m     final_outputs: Dict[\u001b[38;5;28mstr\u001b[39m, Any] \u001b[38;5;241m=\u001b[39m \u001b[38;5;28mself\u001b[39m\u001b[38;5;241m.\u001b[39mprep_outputs(\n\u001b[1;32m    160\u001b[0m         inputs, outputs, return_only_outputs\n\u001b[1;32m    161\u001b[0m     )\n\u001b[1;32m    162\u001b[0m \u001b[38;5;28;01mexcept\u001b[39;00m \u001b[38;5;167;01mBaseException\u001b[39;00m \u001b[38;5;28;01mas\u001b[39;00m e:\n",
      "File \u001b[0;32m~/anaconda3/envs/scar/lib/python3.12/site-packages/langchain/chains/llm.py:126\u001b[0m, in \u001b[0;36mLLMChain._call\u001b[0;34m(self, inputs, run_manager)\u001b[0m\n\u001b[1;32m    121\u001b[0m \u001b[38;5;28;01mdef\u001b[39;00m \u001b[38;5;21m_call\u001b[39m(\n\u001b[1;32m    122\u001b[0m     \u001b[38;5;28mself\u001b[39m,\n\u001b[1;32m    123\u001b[0m     inputs: Dict[\u001b[38;5;28mstr\u001b[39m, Any],\n\u001b[1;32m    124\u001b[0m     run_manager: Optional[CallbackManagerForChainRun] \u001b[38;5;241m=\u001b[39m \u001b[38;5;28;01mNone\u001b[39;00m,\n\u001b[1;32m    125\u001b[0m ) \u001b[38;5;241m-\u001b[39m\u001b[38;5;241m>\u001b[39m Dict[\u001b[38;5;28mstr\u001b[39m, \u001b[38;5;28mstr\u001b[39m]:\n\u001b[0;32m--> 126\u001b[0m     response \u001b[38;5;241m=\u001b[39m \u001b[38;5;28;43mself\u001b[39;49m\u001b[38;5;241;43m.\u001b[39;49m\u001b[43mgenerate\u001b[49m\u001b[43m(\u001b[49m\u001b[43m[\u001b[49m\u001b[43minputs\u001b[49m\u001b[43m]\u001b[49m\u001b[43m,\u001b[49m\u001b[43m \u001b[49m\u001b[43mrun_manager\u001b[49m\u001b[38;5;241;43m=\u001b[39;49m\u001b[43mrun_manager\u001b[49m\u001b[43m)\u001b[49m\n\u001b[1;32m    127\u001b[0m     \u001b[38;5;28;01mreturn\u001b[39;00m \u001b[38;5;28mself\u001b[39m\u001b[38;5;241m.\u001b[39mcreate_outputs(response)[\u001b[38;5;241m0\u001b[39m]\n",
      "File \u001b[0;32m~/anaconda3/envs/scar/lib/python3.12/site-packages/langchain/chains/llm.py:138\u001b[0m, in \u001b[0;36mLLMChain.generate\u001b[0;34m(self, input_list, run_manager)\u001b[0m\n\u001b[1;32m    136\u001b[0m callbacks \u001b[38;5;241m=\u001b[39m run_manager\u001b[38;5;241m.\u001b[39mget_child() \u001b[38;5;28;01mif\u001b[39;00m run_manager \u001b[38;5;28;01melse\u001b[39;00m \u001b[38;5;28;01mNone\u001b[39;00m\n\u001b[1;32m    137\u001b[0m \u001b[38;5;28;01mif\u001b[39;00m \u001b[38;5;28misinstance\u001b[39m(\u001b[38;5;28mself\u001b[39m\u001b[38;5;241m.\u001b[39mllm, BaseLanguageModel):\n\u001b[0;32m--> 138\u001b[0m     \u001b[38;5;28;01mreturn\u001b[39;00m \u001b[38;5;28;43mself\u001b[39;49m\u001b[38;5;241;43m.\u001b[39;49m\u001b[43mllm\u001b[49m\u001b[38;5;241;43m.\u001b[39;49m\u001b[43mgenerate_prompt\u001b[49m\u001b[43m(\u001b[49m\n\u001b[1;32m    139\u001b[0m \u001b[43m        \u001b[49m\u001b[43mprompts\u001b[49m\u001b[43m,\u001b[49m\n\u001b[1;32m    140\u001b[0m \u001b[43m        \u001b[49m\u001b[43mstop\u001b[49m\u001b[43m,\u001b[49m\n\u001b[1;32m    141\u001b[0m \u001b[43m        \u001b[49m\u001b[43mcallbacks\u001b[49m\u001b[38;5;241;43m=\u001b[39;49m\u001b[43mcallbacks\u001b[49m\u001b[43m,\u001b[49m\n\u001b[1;32m    142\u001b[0m \u001b[43m        \u001b[49m\u001b[38;5;241;43m*\u001b[39;49m\u001b[38;5;241;43m*\u001b[39;49m\u001b[38;5;28;43mself\u001b[39;49m\u001b[38;5;241;43m.\u001b[39;49m\u001b[43mllm_kwargs\u001b[49m\u001b[43m,\u001b[49m\n\u001b[1;32m    143\u001b[0m \u001b[43m    \u001b[49m\u001b[43m)\u001b[49m\n\u001b[1;32m    144\u001b[0m \u001b[38;5;28;01melse\u001b[39;00m:\n\u001b[1;32m    145\u001b[0m     results \u001b[38;5;241m=\u001b[39m \u001b[38;5;28mself\u001b[39m\u001b[38;5;241m.\u001b[39mllm\u001b[38;5;241m.\u001b[39mbind(stop\u001b[38;5;241m=\u001b[39mstop, \u001b[38;5;241m*\u001b[39m\u001b[38;5;241m*\u001b[39m\u001b[38;5;28mself\u001b[39m\u001b[38;5;241m.\u001b[39mllm_kwargs)\u001b[38;5;241m.\u001b[39mbatch(\n\u001b[1;32m    146\u001b[0m         cast(List, prompts), {\u001b[38;5;124m\"\u001b[39m\u001b[38;5;124mcallbacks\u001b[39m\u001b[38;5;124m\"\u001b[39m: callbacks}\n\u001b[1;32m    147\u001b[0m     )\n",
      "File \u001b[0;32m~/anaconda3/envs/scar/lib/python3.12/site-packages/langchain_core/language_models/chat_models.py:777\u001b[0m, in \u001b[0;36mBaseChatModel.generate_prompt\u001b[0;34m(self, prompts, stop, callbacks, **kwargs)\u001b[0m\n\u001b[1;32m    769\u001b[0m \u001b[38;5;28;01mdef\u001b[39;00m \u001b[38;5;21mgenerate_prompt\u001b[39m(\n\u001b[1;32m    770\u001b[0m     \u001b[38;5;28mself\u001b[39m,\n\u001b[1;32m    771\u001b[0m     prompts: List[PromptValue],\n\u001b[0;32m   (...)\u001b[0m\n\u001b[1;32m    774\u001b[0m     \u001b[38;5;241m*\u001b[39m\u001b[38;5;241m*\u001b[39mkwargs: Any,\n\u001b[1;32m    775\u001b[0m ) \u001b[38;5;241m-\u001b[39m\u001b[38;5;241m>\u001b[39m LLMResult:\n\u001b[1;32m    776\u001b[0m     prompt_messages \u001b[38;5;241m=\u001b[39m [p\u001b[38;5;241m.\u001b[39mto_messages() \u001b[38;5;28;01mfor\u001b[39;00m p \u001b[38;5;129;01min\u001b[39;00m prompts]\n\u001b[0;32m--> 777\u001b[0m     \u001b[38;5;28;01mreturn\u001b[39;00m \u001b[38;5;28;43mself\u001b[39;49m\u001b[38;5;241;43m.\u001b[39;49m\u001b[43mgenerate\u001b[49m\u001b[43m(\u001b[49m\u001b[43mprompt_messages\u001b[49m\u001b[43m,\u001b[49m\u001b[43m \u001b[49m\u001b[43mstop\u001b[49m\u001b[38;5;241;43m=\u001b[39;49m\u001b[43mstop\u001b[49m\u001b[43m,\u001b[49m\u001b[43m \u001b[49m\u001b[43mcallbacks\u001b[49m\u001b[38;5;241;43m=\u001b[39;49m\u001b[43mcallbacks\u001b[49m\u001b[43m,\u001b[49m\u001b[43m \u001b[49m\u001b[38;5;241;43m*\u001b[39;49m\u001b[38;5;241;43m*\u001b[39;49m\u001b[43mkwargs\u001b[49m\u001b[43m)\u001b[49m\n",
      "File \u001b[0;32m~/anaconda3/envs/scar/lib/python3.12/site-packages/langchain_core/language_models/chat_models.py:634\u001b[0m, in \u001b[0;36mBaseChatModel.generate\u001b[0;34m(self, messages, stop, callbacks, tags, metadata, run_name, run_id, **kwargs)\u001b[0m\n\u001b[1;32m    632\u001b[0m         \u001b[38;5;28;01mif\u001b[39;00m run_managers:\n\u001b[1;32m    633\u001b[0m             run_managers[i]\u001b[38;5;241m.\u001b[39mon_llm_error(e, response\u001b[38;5;241m=\u001b[39mLLMResult(generations\u001b[38;5;241m=\u001b[39m[]))\n\u001b[0;32m--> 634\u001b[0m         \u001b[38;5;28;01mraise\u001b[39;00m e\n\u001b[1;32m    635\u001b[0m flattened_outputs \u001b[38;5;241m=\u001b[39m [\n\u001b[1;32m    636\u001b[0m     LLMResult(generations\u001b[38;5;241m=\u001b[39m[res\u001b[38;5;241m.\u001b[39mgenerations], llm_output\u001b[38;5;241m=\u001b[39mres\u001b[38;5;241m.\u001b[39mllm_output)  \u001b[38;5;66;03m# type: ignore[list-item]\u001b[39;00m\n\u001b[1;32m    637\u001b[0m     \u001b[38;5;28;01mfor\u001b[39;00m res \u001b[38;5;129;01min\u001b[39;00m results\n\u001b[1;32m    638\u001b[0m ]\n\u001b[1;32m    639\u001b[0m llm_output \u001b[38;5;241m=\u001b[39m \u001b[38;5;28mself\u001b[39m\u001b[38;5;241m.\u001b[39m_combine_llm_outputs([res\u001b[38;5;241m.\u001b[39mllm_output \u001b[38;5;28;01mfor\u001b[39;00m res \u001b[38;5;129;01min\u001b[39;00m results])\n",
      "File \u001b[0;32m~/anaconda3/envs/scar/lib/python3.12/site-packages/langchain_core/language_models/chat_models.py:624\u001b[0m, in \u001b[0;36mBaseChatModel.generate\u001b[0;34m(self, messages, stop, callbacks, tags, metadata, run_name, run_id, **kwargs)\u001b[0m\n\u001b[1;32m    621\u001b[0m \u001b[38;5;28;01mfor\u001b[39;00m i, m \u001b[38;5;129;01min\u001b[39;00m \u001b[38;5;28menumerate\u001b[39m(messages):\n\u001b[1;32m    622\u001b[0m     \u001b[38;5;28;01mtry\u001b[39;00m:\n\u001b[1;32m    623\u001b[0m         results\u001b[38;5;241m.\u001b[39mappend(\n\u001b[0;32m--> 624\u001b[0m             \u001b[38;5;28;43mself\u001b[39;49m\u001b[38;5;241;43m.\u001b[39;49m\u001b[43m_generate_with_cache\u001b[49m\u001b[43m(\u001b[49m\n\u001b[1;32m    625\u001b[0m \u001b[43m                \u001b[49m\u001b[43mm\u001b[49m\u001b[43m,\u001b[49m\n\u001b[1;32m    626\u001b[0m \u001b[43m                \u001b[49m\u001b[43mstop\u001b[49m\u001b[38;5;241;43m=\u001b[39;49m\u001b[43mstop\u001b[49m\u001b[43m,\u001b[49m\n\u001b[1;32m    627\u001b[0m \u001b[43m                \u001b[49m\u001b[43mrun_manager\u001b[49m\u001b[38;5;241;43m=\u001b[39;49m\u001b[43mrun_managers\u001b[49m\u001b[43m[\u001b[49m\u001b[43mi\u001b[49m\u001b[43m]\u001b[49m\u001b[43m \u001b[49m\u001b[38;5;28;43;01mif\u001b[39;49;00m\u001b[43m \u001b[49m\u001b[43mrun_managers\u001b[49m\u001b[43m \u001b[49m\u001b[38;5;28;43;01melse\u001b[39;49;00m\u001b[43m \u001b[49m\u001b[38;5;28;43;01mNone\u001b[39;49;00m\u001b[43m,\u001b[49m\n\u001b[1;32m    628\u001b[0m \u001b[43m                \u001b[49m\u001b[38;5;241;43m*\u001b[39;49m\u001b[38;5;241;43m*\u001b[39;49m\u001b[43mkwargs\u001b[49m\u001b[43m,\u001b[49m\n\u001b[1;32m    629\u001b[0m \u001b[43m            \u001b[49m\u001b[43m)\u001b[49m\n\u001b[1;32m    630\u001b[0m         )\n\u001b[1;32m    631\u001b[0m     \u001b[38;5;28;01mexcept\u001b[39;00m \u001b[38;5;167;01mBaseException\u001b[39;00m \u001b[38;5;28;01mas\u001b[39;00m e:\n\u001b[1;32m    632\u001b[0m         \u001b[38;5;28;01mif\u001b[39;00m run_managers:\n",
      "File \u001b[0;32m~/anaconda3/envs/scar/lib/python3.12/site-packages/langchain_core/language_models/chat_models.py:846\u001b[0m, in \u001b[0;36mBaseChatModel._generate_with_cache\u001b[0;34m(self, messages, stop, run_manager, **kwargs)\u001b[0m\n\u001b[1;32m    844\u001b[0m \u001b[38;5;28;01melse\u001b[39;00m:\n\u001b[1;32m    845\u001b[0m     \u001b[38;5;28;01mif\u001b[39;00m inspect\u001b[38;5;241m.\u001b[39msignature(\u001b[38;5;28mself\u001b[39m\u001b[38;5;241m.\u001b[39m_generate)\u001b[38;5;241m.\u001b[39mparameters\u001b[38;5;241m.\u001b[39mget(\u001b[38;5;124m\"\u001b[39m\u001b[38;5;124mrun_manager\u001b[39m\u001b[38;5;124m\"\u001b[39m):\n\u001b[0;32m--> 846\u001b[0m         result \u001b[38;5;241m=\u001b[39m \u001b[38;5;28;43mself\u001b[39;49m\u001b[38;5;241;43m.\u001b[39;49m\u001b[43m_generate\u001b[49m\u001b[43m(\u001b[49m\n\u001b[1;32m    847\u001b[0m \u001b[43m            \u001b[49m\u001b[43mmessages\u001b[49m\u001b[43m,\u001b[49m\u001b[43m \u001b[49m\u001b[43mstop\u001b[49m\u001b[38;5;241;43m=\u001b[39;49m\u001b[43mstop\u001b[49m\u001b[43m,\u001b[49m\u001b[43m \u001b[49m\u001b[43mrun_manager\u001b[49m\u001b[38;5;241;43m=\u001b[39;49m\u001b[43mrun_manager\u001b[49m\u001b[43m,\u001b[49m\u001b[43m \u001b[49m\u001b[38;5;241;43m*\u001b[39;49m\u001b[38;5;241;43m*\u001b[39;49m\u001b[43mkwargs\u001b[49m\n\u001b[1;32m    848\u001b[0m \u001b[43m        \u001b[49m\u001b[43m)\u001b[49m\n\u001b[1;32m    849\u001b[0m     \u001b[38;5;28;01melse\u001b[39;00m:\n\u001b[1;32m    850\u001b[0m         result \u001b[38;5;241m=\u001b[39m \u001b[38;5;28mself\u001b[39m\u001b[38;5;241m.\u001b[39m_generate(messages, stop\u001b[38;5;241m=\u001b[39mstop, \u001b[38;5;241m*\u001b[39m\u001b[38;5;241m*\u001b[39mkwargs)\n",
      "File \u001b[0;32m~/anaconda3/envs/scar/lib/python3.12/site-packages/langchain_community/chat_models/openai.py:441\u001b[0m, in \u001b[0;36mChatOpenAI._generate\u001b[0;34m(self, messages, stop, run_manager, stream, **kwargs)\u001b[0m\n\u001b[1;32m    435\u001b[0m message_dicts, params \u001b[38;5;241m=\u001b[39m \u001b[38;5;28mself\u001b[39m\u001b[38;5;241m.\u001b[39m_create_message_dicts(messages, stop)\n\u001b[1;32m    436\u001b[0m params \u001b[38;5;241m=\u001b[39m {\n\u001b[1;32m    437\u001b[0m     \u001b[38;5;241m*\u001b[39m\u001b[38;5;241m*\u001b[39mparams,\n\u001b[1;32m    438\u001b[0m     \u001b[38;5;241m*\u001b[39m\u001b[38;5;241m*\u001b[39m({\u001b[38;5;124m\"\u001b[39m\u001b[38;5;124mstream\u001b[39m\u001b[38;5;124m\"\u001b[39m: stream} \u001b[38;5;28;01mif\u001b[39;00m stream \u001b[38;5;129;01mis\u001b[39;00m \u001b[38;5;129;01mnot\u001b[39;00m \u001b[38;5;28;01mNone\u001b[39;00m \u001b[38;5;28;01melse\u001b[39;00m {}),\n\u001b[1;32m    439\u001b[0m     \u001b[38;5;241m*\u001b[39m\u001b[38;5;241m*\u001b[39mkwargs,\n\u001b[1;32m    440\u001b[0m }\n\u001b[0;32m--> 441\u001b[0m response \u001b[38;5;241m=\u001b[39m \u001b[38;5;28;43mself\u001b[39;49m\u001b[38;5;241;43m.\u001b[39;49m\u001b[43mcompletion_with_retry\u001b[49m\u001b[43m(\u001b[49m\n\u001b[1;32m    442\u001b[0m \u001b[43m    \u001b[49m\u001b[43mmessages\u001b[49m\u001b[38;5;241;43m=\u001b[39;49m\u001b[43mmessage_dicts\u001b[49m\u001b[43m,\u001b[49m\u001b[43m \u001b[49m\u001b[43mrun_manager\u001b[49m\u001b[38;5;241;43m=\u001b[39;49m\u001b[43mrun_manager\u001b[49m\u001b[43m,\u001b[49m\u001b[43m \u001b[49m\u001b[38;5;241;43m*\u001b[39;49m\u001b[38;5;241;43m*\u001b[39;49m\u001b[43mparams\u001b[49m\n\u001b[1;32m    443\u001b[0m \u001b[43m\u001b[49m\u001b[43m)\u001b[49m\n\u001b[1;32m    444\u001b[0m \u001b[38;5;28;01mreturn\u001b[39;00m \u001b[38;5;28mself\u001b[39m\u001b[38;5;241m.\u001b[39m_create_chat_result(response)\n",
      "File \u001b[0;32m~/anaconda3/envs/scar/lib/python3.12/site-packages/langchain_community/chat_models/openai.py:356\u001b[0m, in \u001b[0;36mChatOpenAI.completion_with_retry\u001b[0;34m(self, run_manager, **kwargs)\u001b[0m\n\u001b[1;32m    354\u001b[0m \u001b[38;5;250m\u001b[39m\u001b[38;5;124;03m\"\"\"Use tenacity to retry the completion call.\"\"\"\u001b[39;00m\n\u001b[1;32m    355\u001b[0m \u001b[38;5;28;01mif\u001b[39;00m is_openai_v1():\n\u001b[0;32m--> 356\u001b[0m     \u001b[38;5;28;01mreturn\u001b[39;00m \u001b[38;5;28;43mself\u001b[39;49m\u001b[38;5;241;43m.\u001b[39;49m\u001b[43mclient\u001b[49m\u001b[38;5;241;43m.\u001b[39;49m\u001b[43mcreate\u001b[49m\u001b[43m(\u001b[49m\u001b[38;5;241;43m*\u001b[39;49m\u001b[38;5;241;43m*\u001b[39;49m\u001b[43mkwargs\u001b[49m\u001b[43m)\u001b[49m\n\u001b[1;32m    358\u001b[0m retry_decorator \u001b[38;5;241m=\u001b[39m _create_retry_decorator(\u001b[38;5;28mself\u001b[39m, run_manager\u001b[38;5;241m=\u001b[39mrun_manager)\n\u001b[1;32m    360\u001b[0m \u001b[38;5;129m@retry_decorator\u001b[39m\n\u001b[1;32m    361\u001b[0m \u001b[38;5;28;01mdef\u001b[39;00m \u001b[38;5;21m_completion_with_retry\u001b[39m(\u001b[38;5;241m*\u001b[39m\u001b[38;5;241m*\u001b[39mkwargs: Any) \u001b[38;5;241m-\u001b[39m\u001b[38;5;241m>\u001b[39m Any:\n",
      "File \u001b[0;32m~/anaconda3/envs/scar/lib/python3.12/site-packages/openai/_utils/_utils.py:274\u001b[0m, in \u001b[0;36mrequired_args.<locals>.inner.<locals>.wrapper\u001b[0;34m(*args, **kwargs)\u001b[0m\n\u001b[1;32m    272\u001b[0m             msg \u001b[38;5;241m=\u001b[39m \u001b[38;5;124mf\u001b[39m\u001b[38;5;124m\"\u001b[39m\u001b[38;5;124mMissing required argument: \u001b[39m\u001b[38;5;132;01m{\u001b[39;00mquote(missing[\u001b[38;5;241m0\u001b[39m])\u001b[38;5;132;01m}\u001b[39;00m\u001b[38;5;124m\"\u001b[39m\n\u001b[1;32m    273\u001b[0m     \u001b[38;5;28;01mraise\u001b[39;00m \u001b[38;5;167;01mTypeError\u001b[39;00m(msg)\n\u001b[0;32m--> 274\u001b[0m \u001b[38;5;28;01mreturn\u001b[39;00m \u001b[43mfunc\u001b[49m\u001b[43m(\u001b[49m\u001b[38;5;241;43m*\u001b[39;49m\u001b[43margs\u001b[49m\u001b[43m,\u001b[49m\u001b[43m \u001b[49m\u001b[38;5;241;43m*\u001b[39;49m\u001b[38;5;241;43m*\u001b[39;49m\u001b[43mkwargs\u001b[49m\u001b[43m)\u001b[49m\n",
      "File \u001b[0;32m~/anaconda3/envs/scar/lib/python3.12/site-packages/openai/resources/chat/completions.py:668\u001b[0m, in \u001b[0;36mCompletions.create\u001b[0;34m(self, messages, model, frequency_penalty, function_call, functions, logit_bias, logprobs, max_tokens, n, parallel_tool_calls, presence_penalty, response_format, seed, service_tier, stop, stream, stream_options, temperature, tool_choice, tools, top_logprobs, top_p, user, extra_headers, extra_query, extra_body, timeout)\u001b[0m\n\u001b[1;32m    633\u001b[0m \u001b[38;5;129m@required_args\u001b[39m([\u001b[38;5;124m\"\u001b[39m\u001b[38;5;124mmessages\u001b[39m\u001b[38;5;124m\"\u001b[39m, \u001b[38;5;124m\"\u001b[39m\u001b[38;5;124mmodel\u001b[39m\u001b[38;5;124m\"\u001b[39m], [\u001b[38;5;124m\"\u001b[39m\u001b[38;5;124mmessages\u001b[39m\u001b[38;5;124m\"\u001b[39m, \u001b[38;5;124m\"\u001b[39m\u001b[38;5;124mmodel\u001b[39m\u001b[38;5;124m\"\u001b[39m, \u001b[38;5;124m\"\u001b[39m\u001b[38;5;124mstream\u001b[39m\u001b[38;5;124m\"\u001b[39m])\n\u001b[1;32m    634\u001b[0m \u001b[38;5;28;01mdef\u001b[39;00m \u001b[38;5;21mcreate\u001b[39m(\n\u001b[1;32m    635\u001b[0m     \u001b[38;5;28mself\u001b[39m,\n\u001b[0;32m   (...)\u001b[0m\n\u001b[1;32m    665\u001b[0m     timeout: \u001b[38;5;28mfloat\u001b[39m \u001b[38;5;241m|\u001b[39m httpx\u001b[38;5;241m.\u001b[39mTimeout \u001b[38;5;241m|\u001b[39m \u001b[38;5;28;01mNone\u001b[39;00m \u001b[38;5;241m|\u001b[39m NotGiven \u001b[38;5;241m=\u001b[39m NOT_GIVEN,\n\u001b[1;32m    666\u001b[0m ) \u001b[38;5;241m-\u001b[39m\u001b[38;5;241m>\u001b[39m ChatCompletion \u001b[38;5;241m|\u001b[39m Stream[ChatCompletionChunk]:\n\u001b[1;32m    667\u001b[0m     validate_response_format(response_format)\n\u001b[0;32m--> 668\u001b[0m     \u001b[38;5;28;01mreturn\u001b[39;00m \u001b[38;5;28;43mself\u001b[39;49m\u001b[38;5;241;43m.\u001b[39;49m\u001b[43m_post\u001b[49m\u001b[43m(\u001b[49m\n\u001b[1;32m    669\u001b[0m \u001b[43m        \u001b[49m\u001b[38;5;124;43m\"\u001b[39;49m\u001b[38;5;124;43m/chat/completions\u001b[39;49m\u001b[38;5;124;43m\"\u001b[39;49m\u001b[43m,\u001b[49m\n\u001b[1;32m    670\u001b[0m \u001b[43m        \u001b[49m\u001b[43mbody\u001b[49m\u001b[38;5;241;43m=\u001b[39;49m\u001b[43mmaybe_transform\u001b[49m\u001b[43m(\u001b[49m\n\u001b[1;32m    671\u001b[0m \u001b[43m            \u001b[49m\u001b[43m{\u001b[49m\n\u001b[1;32m    672\u001b[0m \u001b[43m                \u001b[49m\u001b[38;5;124;43m\"\u001b[39;49m\u001b[38;5;124;43mmessages\u001b[39;49m\u001b[38;5;124;43m\"\u001b[39;49m\u001b[43m:\u001b[49m\u001b[43m \u001b[49m\u001b[43mmessages\u001b[49m\u001b[43m,\u001b[49m\n\u001b[1;32m    673\u001b[0m \u001b[43m                \u001b[49m\u001b[38;5;124;43m\"\u001b[39;49m\u001b[38;5;124;43mmodel\u001b[39;49m\u001b[38;5;124;43m\"\u001b[39;49m\u001b[43m:\u001b[49m\u001b[43m \u001b[49m\u001b[43mmodel\u001b[49m\u001b[43m,\u001b[49m\n\u001b[1;32m    674\u001b[0m \u001b[43m                \u001b[49m\u001b[38;5;124;43m\"\u001b[39;49m\u001b[38;5;124;43mfrequency_penalty\u001b[39;49m\u001b[38;5;124;43m\"\u001b[39;49m\u001b[43m:\u001b[49m\u001b[43m \u001b[49m\u001b[43mfrequency_penalty\u001b[49m\u001b[43m,\u001b[49m\n\u001b[1;32m    675\u001b[0m \u001b[43m                \u001b[49m\u001b[38;5;124;43m\"\u001b[39;49m\u001b[38;5;124;43mfunction_call\u001b[39;49m\u001b[38;5;124;43m\"\u001b[39;49m\u001b[43m:\u001b[49m\u001b[43m \u001b[49m\u001b[43mfunction_call\u001b[49m\u001b[43m,\u001b[49m\n\u001b[1;32m    676\u001b[0m \u001b[43m                \u001b[49m\u001b[38;5;124;43m\"\u001b[39;49m\u001b[38;5;124;43mfunctions\u001b[39;49m\u001b[38;5;124;43m\"\u001b[39;49m\u001b[43m:\u001b[49m\u001b[43m \u001b[49m\u001b[43mfunctions\u001b[49m\u001b[43m,\u001b[49m\n\u001b[1;32m    677\u001b[0m \u001b[43m                \u001b[49m\u001b[38;5;124;43m\"\u001b[39;49m\u001b[38;5;124;43mlogit_bias\u001b[39;49m\u001b[38;5;124;43m\"\u001b[39;49m\u001b[43m:\u001b[49m\u001b[43m \u001b[49m\u001b[43mlogit_bias\u001b[49m\u001b[43m,\u001b[49m\n\u001b[1;32m    678\u001b[0m \u001b[43m                \u001b[49m\u001b[38;5;124;43m\"\u001b[39;49m\u001b[38;5;124;43mlogprobs\u001b[39;49m\u001b[38;5;124;43m\"\u001b[39;49m\u001b[43m:\u001b[49m\u001b[43m \u001b[49m\u001b[43mlogprobs\u001b[49m\u001b[43m,\u001b[49m\n\u001b[1;32m    679\u001b[0m \u001b[43m                \u001b[49m\u001b[38;5;124;43m\"\u001b[39;49m\u001b[38;5;124;43mmax_tokens\u001b[39;49m\u001b[38;5;124;43m\"\u001b[39;49m\u001b[43m:\u001b[49m\u001b[43m \u001b[49m\u001b[43mmax_tokens\u001b[49m\u001b[43m,\u001b[49m\n\u001b[1;32m    680\u001b[0m \u001b[43m                \u001b[49m\u001b[38;5;124;43m\"\u001b[39;49m\u001b[38;5;124;43mn\u001b[39;49m\u001b[38;5;124;43m\"\u001b[39;49m\u001b[43m:\u001b[49m\u001b[43m \u001b[49m\u001b[43mn\u001b[49m\u001b[43m,\u001b[49m\n\u001b[1;32m    681\u001b[0m \u001b[43m                \u001b[49m\u001b[38;5;124;43m\"\u001b[39;49m\u001b[38;5;124;43mparallel_tool_calls\u001b[39;49m\u001b[38;5;124;43m\"\u001b[39;49m\u001b[43m:\u001b[49m\u001b[43m \u001b[49m\u001b[43mparallel_tool_calls\u001b[49m\u001b[43m,\u001b[49m\n\u001b[1;32m    682\u001b[0m \u001b[43m                \u001b[49m\u001b[38;5;124;43m\"\u001b[39;49m\u001b[38;5;124;43mpresence_penalty\u001b[39;49m\u001b[38;5;124;43m\"\u001b[39;49m\u001b[43m:\u001b[49m\u001b[43m \u001b[49m\u001b[43mpresence_penalty\u001b[49m\u001b[43m,\u001b[49m\n\u001b[1;32m    683\u001b[0m \u001b[43m                \u001b[49m\u001b[38;5;124;43m\"\u001b[39;49m\u001b[38;5;124;43mresponse_format\u001b[39;49m\u001b[38;5;124;43m\"\u001b[39;49m\u001b[43m:\u001b[49m\u001b[43m \u001b[49m\u001b[43mresponse_format\u001b[49m\u001b[43m,\u001b[49m\n\u001b[1;32m    684\u001b[0m \u001b[43m                \u001b[49m\u001b[38;5;124;43m\"\u001b[39;49m\u001b[38;5;124;43mseed\u001b[39;49m\u001b[38;5;124;43m\"\u001b[39;49m\u001b[43m:\u001b[49m\u001b[43m \u001b[49m\u001b[43mseed\u001b[49m\u001b[43m,\u001b[49m\n\u001b[1;32m    685\u001b[0m \u001b[43m                \u001b[49m\u001b[38;5;124;43m\"\u001b[39;49m\u001b[38;5;124;43mservice_tier\u001b[39;49m\u001b[38;5;124;43m\"\u001b[39;49m\u001b[43m:\u001b[49m\u001b[43m \u001b[49m\u001b[43mservice_tier\u001b[49m\u001b[43m,\u001b[49m\n\u001b[1;32m    686\u001b[0m \u001b[43m                \u001b[49m\u001b[38;5;124;43m\"\u001b[39;49m\u001b[38;5;124;43mstop\u001b[39;49m\u001b[38;5;124;43m\"\u001b[39;49m\u001b[43m:\u001b[49m\u001b[43m \u001b[49m\u001b[43mstop\u001b[49m\u001b[43m,\u001b[49m\n\u001b[1;32m    687\u001b[0m \u001b[43m                \u001b[49m\u001b[38;5;124;43m\"\u001b[39;49m\u001b[38;5;124;43mstream\u001b[39;49m\u001b[38;5;124;43m\"\u001b[39;49m\u001b[43m:\u001b[49m\u001b[43m \u001b[49m\u001b[43mstream\u001b[49m\u001b[43m,\u001b[49m\n\u001b[1;32m    688\u001b[0m \u001b[43m                \u001b[49m\u001b[38;5;124;43m\"\u001b[39;49m\u001b[38;5;124;43mstream_options\u001b[39;49m\u001b[38;5;124;43m\"\u001b[39;49m\u001b[43m:\u001b[49m\u001b[43m \u001b[49m\u001b[43mstream_options\u001b[49m\u001b[43m,\u001b[49m\n\u001b[1;32m    689\u001b[0m \u001b[43m                \u001b[49m\u001b[38;5;124;43m\"\u001b[39;49m\u001b[38;5;124;43mtemperature\u001b[39;49m\u001b[38;5;124;43m\"\u001b[39;49m\u001b[43m:\u001b[49m\u001b[43m \u001b[49m\u001b[43mtemperature\u001b[49m\u001b[43m,\u001b[49m\n\u001b[1;32m    690\u001b[0m \u001b[43m                \u001b[49m\u001b[38;5;124;43m\"\u001b[39;49m\u001b[38;5;124;43mtool_choice\u001b[39;49m\u001b[38;5;124;43m\"\u001b[39;49m\u001b[43m:\u001b[49m\u001b[43m \u001b[49m\u001b[43mtool_choice\u001b[49m\u001b[43m,\u001b[49m\n\u001b[1;32m    691\u001b[0m \u001b[43m                \u001b[49m\u001b[38;5;124;43m\"\u001b[39;49m\u001b[38;5;124;43mtools\u001b[39;49m\u001b[38;5;124;43m\"\u001b[39;49m\u001b[43m:\u001b[49m\u001b[43m \u001b[49m\u001b[43mtools\u001b[49m\u001b[43m,\u001b[49m\n\u001b[1;32m    692\u001b[0m \u001b[43m                \u001b[49m\u001b[38;5;124;43m\"\u001b[39;49m\u001b[38;5;124;43mtop_logprobs\u001b[39;49m\u001b[38;5;124;43m\"\u001b[39;49m\u001b[43m:\u001b[49m\u001b[43m \u001b[49m\u001b[43mtop_logprobs\u001b[49m\u001b[43m,\u001b[49m\n\u001b[1;32m    693\u001b[0m \u001b[43m                \u001b[49m\u001b[38;5;124;43m\"\u001b[39;49m\u001b[38;5;124;43mtop_p\u001b[39;49m\u001b[38;5;124;43m\"\u001b[39;49m\u001b[43m:\u001b[49m\u001b[43m \u001b[49m\u001b[43mtop_p\u001b[49m\u001b[43m,\u001b[49m\n\u001b[1;32m    694\u001b[0m \u001b[43m                \u001b[49m\u001b[38;5;124;43m\"\u001b[39;49m\u001b[38;5;124;43muser\u001b[39;49m\u001b[38;5;124;43m\"\u001b[39;49m\u001b[43m:\u001b[49m\u001b[43m \u001b[49m\u001b[43muser\u001b[49m\u001b[43m,\u001b[49m\n\u001b[1;32m    695\u001b[0m \u001b[43m            \u001b[49m\u001b[43m}\u001b[49m\u001b[43m,\u001b[49m\n\u001b[1;32m    696\u001b[0m \u001b[43m            \u001b[49m\u001b[43mcompletion_create_params\u001b[49m\u001b[38;5;241;43m.\u001b[39;49m\u001b[43mCompletionCreateParams\u001b[49m\u001b[43m,\u001b[49m\n\u001b[1;32m    697\u001b[0m \u001b[43m        \u001b[49m\u001b[43m)\u001b[49m\u001b[43m,\u001b[49m\n\u001b[1;32m    698\u001b[0m \u001b[43m        \u001b[49m\u001b[43moptions\u001b[49m\u001b[38;5;241;43m=\u001b[39;49m\u001b[43mmake_request_options\u001b[49m\u001b[43m(\u001b[49m\n\u001b[1;32m    699\u001b[0m \u001b[43m            \u001b[49m\u001b[43mextra_headers\u001b[49m\u001b[38;5;241;43m=\u001b[39;49m\u001b[43mextra_headers\u001b[49m\u001b[43m,\u001b[49m\u001b[43m \u001b[49m\u001b[43mextra_query\u001b[49m\u001b[38;5;241;43m=\u001b[39;49m\u001b[43mextra_query\u001b[49m\u001b[43m,\u001b[49m\u001b[43m \u001b[49m\u001b[43mextra_body\u001b[49m\u001b[38;5;241;43m=\u001b[39;49m\u001b[43mextra_body\u001b[49m\u001b[43m,\u001b[49m\u001b[43m \u001b[49m\u001b[43mtimeout\u001b[49m\u001b[38;5;241;43m=\u001b[39;49m\u001b[43mtimeout\u001b[49m\n\u001b[1;32m    700\u001b[0m \u001b[43m        \u001b[49m\u001b[43m)\u001b[49m\u001b[43m,\u001b[49m\n\u001b[1;32m    701\u001b[0m \u001b[43m        \u001b[49m\u001b[43mcast_to\u001b[49m\u001b[38;5;241;43m=\u001b[39;49m\u001b[43mChatCompletion\u001b[49m\u001b[43m,\u001b[49m\n\u001b[1;32m    702\u001b[0m \u001b[43m        \u001b[49m\u001b[43mstream\u001b[49m\u001b[38;5;241;43m=\u001b[39;49m\u001b[43mstream\u001b[49m\u001b[43m \u001b[49m\u001b[38;5;129;43;01mor\u001b[39;49;00m\u001b[43m \u001b[49m\u001b[38;5;28;43;01mFalse\u001b[39;49;00m\u001b[43m,\u001b[49m\n\u001b[1;32m    703\u001b[0m \u001b[43m        \u001b[49m\u001b[43mstream_cls\u001b[49m\u001b[38;5;241;43m=\u001b[39;49m\u001b[43mStream\u001b[49m\u001b[43m[\u001b[49m\u001b[43mChatCompletionChunk\u001b[49m\u001b[43m]\u001b[49m\u001b[43m,\u001b[49m\n\u001b[1;32m    704\u001b[0m \u001b[43m    \u001b[49m\u001b[43m)\u001b[49m\n",
      "File \u001b[0;32m~/anaconda3/envs/scar/lib/python3.12/site-packages/openai/_base_client.py:1260\u001b[0m, in \u001b[0;36mSyncAPIClient.post\u001b[0;34m(self, path, cast_to, body, options, files, stream, stream_cls)\u001b[0m\n\u001b[1;32m   1246\u001b[0m \u001b[38;5;28;01mdef\u001b[39;00m \u001b[38;5;21mpost\u001b[39m(\n\u001b[1;32m   1247\u001b[0m     \u001b[38;5;28mself\u001b[39m,\n\u001b[1;32m   1248\u001b[0m     path: \u001b[38;5;28mstr\u001b[39m,\n\u001b[0;32m   (...)\u001b[0m\n\u001b[1;32m   1255\u001b[0m     stream_cls: \u001b[38;5;28mtype\u001b[39m[_StreamT] \u001b[38;5;241m|\u001b[39m \u001b[38;5;28;01mNone\u001b[39;00m \u001b[38;5;241m=\u001b[39m \u001b[38;5;28;01mNone\u001b[39;00m,\n\u001b[1;32m   1256\u001b[0m ) \u001b[38;5;241m-\u001b[39m\u001b[38;5;241m>\u001b[39m ResponseT \u001b[38;5;241m|\u001b[39m _StreamT:\n\u001b[1;32m   1257\u001b[0m     opts \u001b[38;5;241m=\u001b[39m FinalRequestOptions\u001b[38;5;241m.\u001b[39mconstruct(\n\u001b[1;32m   1258\u001b[0m         method\u001b[38;5;241m=\u001b[39m\u001b[38;5;124m\"\u001b[39m\u001b[38;5;124mpost\u001b[39m\u001b[38;5;124m\"\u001b[39m, url\u001b[38;5;241m=\u001b[39mpath, json_data\u001b[38;5;241m=\u001b[39mbody, files\u001b[38;5;241m=\u001b[39mto_httpx_files(files), \u001b[38;5;241m*\u001b[39m\u001b[38;5;241m*\u001b[39moptions\n\u001b[1;32m   1259\u001b[0m     )\n\u001b[0;32m-> 1260\u001b[0m     \u001b[38;5;28;01mreturn\u001b[39;00m cast(ResponseT, \u001b[38;5;28;43mself\u001b[39;49m\u001b[38;5;241;43m.\u001b[39;49m\u001b[43mrequest\u001b[49m\u001b[43m(\u001b[49m\u001b[43mcast_to\u001b[49m\u001b[43m,\u001b[49m\u001b[43m \u001b[49m\u001b[43mopts\u001b[49m\u001b[43m,\u001b[49m\u001b[43m \u001b[49m\u001b[43mstream\u001b[49m\u001b[38;5;241;43m=\u001b[39;49m\u001b[43mstream\u001b[49m\u001b[43m,\u001b[49m\u001b[43m \u001b[49m\u001b[43mstream_cls\u001b[49m\u001b[38;5;241;43m=\u001b[39;49m\u001b[43mstream_cls\u001b[49m\u001b[43m)\u001b[49m)\n",
      "File \u001b[0;32m~/anaconda3/envs/scar/lib/python3.12/site-packages/openai/_base_client.py:937\u001b[0m, in \u001b[0;36mSyncAPIClient.request\u001b[0;34m(self, cast_to, options, remaining_retries, stream, stream_cls)\u001b[0m\n\u001b[1;32m    928\u001b[0m \u001b[38;5;28;01mdef\u001b[39;00m \u001b[38;5;21mrequest\u001b[39m(\n\u001b[1;32m    929\u001b[0m     \u001b[38;5;28mself\u001b[39m,\n\u001b[1;32m    930\u001b[0m     cast_to: Type[ResponseT],\n\u001b[0;32m   (...)\u001b[0m\n\u001b[1;32m    935\u001b[0m     stream_cls: \u001b[38;5;28mtype\u001b[39m[_StreamT] \u001b[38;5;241m|\u001b[39m \u001b[38;5;28;01mNone\u001b[39;00m \u001b[38;5;241m=\u001b[39m \u001b[38;5;28;01mNone\u001b[39;00m,\n\u001b[1;32m    936\u001b[0m ) \u001b[38;5;241m-\u001b[39m\u001b[38;5;241m>\u001b[39m ResponseT \u001b[38;5;241m|\u001b[39m _StreamT:\n\u001b[0;32m--> 937\u001b[0m     \u001b[38;5;28;01mreturn\u001b[39;00m \u001b[38;5;28;43mself\u001b[39;49m\u001b[38;5;241;43m.\u001b[39;49m\u001b[43m_request\u001b[49m\u001b[43m(\u001b[49m\n\u001b[1;32m    938\u001b[0m \u001b[43m        \u001b[49m\u001b[43mcast_to\u001b[49m\u001b[38;5;241;43m=\u001b[39;49m\u001b[43mcast_to\u001b[49m\u001b[43m,\u001b[49m\n\u001b[1;32m    939\u001b[0m \u001b[43m        \u001b[49m\u001b[43moptions\u001b[49m\u001b[38;5;241;43m=\u001b[39;49m\u001b[43moptions\u001b[49m\u001b[43m,\u001b[49m\n\u001b[1;32m    940\u001b[0m \u001b[43m        \u001b[49m\u001b[43mstream\u001b[49m\u001b[38;5;241;43m=\u001b[39;49m\u001b[43mstream\u001b[49m\u001b[43m,\u001b[49m\n\u001b[1;32m    941\u001b[0m \u001b[43m        \u001b[49m\u001b[43mstream_cls\u001b[49m\u001b[38;5;241;43m=\u001b[39;49m\u001b[43mstream_cls\u001b[49m\u001b[43m,\u001b[49m\n\u001b[1;32m    942\u001b[0m \u001b[43m        \u001b[49m\u001b[43mremaining_retries\u001b[49m\u001b[38;5;241;43m=\u001b[39;49m\u001b[43mremaining_retries\u001b[49m\u001b[43m,\u001b[49m\n\u001b[1;32m    943\u001b[0m \u001b[43m    \u001b[49m\u001b[43m)\u001b[49m\n",
      "File \u001b[0;32m~/anaconda3/envs/scar/lib/python3.12/site-packages/openai/_base_client.py:973\u001b[0m, in \u001b[0;36mSyncAPIClient._request\u001b[0;34m(self, cast_to, options, remaining_retries, stream, stream_cls)\u001b[0m\n\u001b[1;32m    970\u001b[0m log\u001b[38;5;241m.\u001b[39mdebug(\u001b[38;5;124m\"\u001b[39m\u001b[38;5;124mSending HTTP Request: \u001b[39m\u001b[38;5;132;01m%s\u001b[39;00m\u001b[38;5;124m \u001b[39m\u001b[38;5;132;01m%s\u001b[39;00m\u001b[38;5;124m\"\u001b[39m, request\u001b[38;5;241m.\u001b[39mmethod, request\u001b[38;5;241m.\u001b[39murl)\n\u001b[1;32m    972\u001b[0m \u001b[38;5;28;01mtry\u001b[39;00m:\n\u001b[0;32m--> 973\u001b[0m     response \u001b[38;5;241m=\u001b[39m \u001b[38;5;28;43mself\u001b[39;49m\u001b[38;5;241;43m.\u001b[39;49m\u001b[43m_client\u001b[49m\u001b[38;5;241;43m.\u001b[39;49m\u001b[43msend\u001b[49m\u001b[43m(\u001b[49m\n\u001b[1;32m    974\u001b[0m \u001b[43m        \u001b[49m\u001b[43mrequest\u001b[49m\u001b[43m,\u001b[49m\n\u001b[1;32m    975\u001b[0m \u001b[43m        \u001b[49m\u001b[43mstream\u001b[49m\u001b[38;5;241;43m=\u001b[39;49m\u001b[43mstream\u001b[49m\u001b[43m \u001b[49m\u001b[38;5;129;43;01mor\u001b[39;49;00m\u001b[43m \u001b[49m\u001b[38;5;28;43mself\u001b[39;49m\u001b[38;5;241;43m.\u001b[39;49m\u001b[43m_should_stream_response_body\u001b[49m\u001b[43m(\u001b[49m\u001b[43mrequest\u001b[49m\u001b[38;5;241;43m=\u001b[39;49m\u001b[43mrequest\u001b[49m\u001b[43m)\u001b[49m\u001b[43m,\u001b[49m\n\u001b[1;32m    976\u001b[0m \u001b[43m        \u001b[49m\u001b[38;5;241;43m*\u001b[39;49m\u001b[38;5;241;43m*\u001b[39;49m\u001b[43mkwargs\u001b[49m\u001b[43m,\u001b[49m\n\u001b[1;32m    977\u001b[0m \u001b[43m    \u001b[49m\u001b[43m)\u001b[49m\n\u001b[1;32m    978\u001b[0m \u001b[38;5;28;01mexcept\u001b[39;00m httpx\u001b[38;5;241m.\u001b[39mTimeoutException \u001b[38;5;28;01mas\u001b[39;00m err:\n\u001b[1;32m    979\u001b[0m     log\u001b[38;5;241m.\u001b[39mdebug(\u001b[38;5;124m\"\u001b[39m\u001b[38;5;124mEncountered httpx.TimeoutException\u001b[39m\u001b[38;5;124m\"\u001b[39m, exc_info\u001b[38;5;241m=\u001b[39m\u001b[38;5;28;01mTrue\u001b[39;00m)\n",
      "File \u001b[0;32m~/anaconda3/envs/scar/lib/python3.12/site-packages/httpx/_client.py:926\u001b[0m, in \u001b[0;36mClient.send\u001b[0;34m(self, request, stream, auth, follow_redirects)\u001b[0m\n\u001b[1;32m    922\u001b[0m \u001b[38;5;28mself\u001b[39m\u001b[38;5;241m.\u001b[39m_set_timeout(request)\n\u001b[1;32m    924\u001b[0m auth \u001b[38;5;241m=\u001b[39m \u001b[38;5;28mself\u001b[39m\u001b[38;5;241m.\u001b[39m_build_request_auth(request, auth)\n\u001b[0;32m--> 926\u001b[0m response \u001b[38;5;241m=\u001b[39m \u001b[38;5;28;43mself\u001b[39;49m\u001b[38;5;241;43m.\u001b[39;49m\u001b[43m_send_handling_auth\u001b[49m\u001b[43m(\u001b[49m\n\u001b[1;32m    927\u001b[0m \u001b[43m    \u001b[49m\u001b[43mrequest\u001b[49m\u001b[43m,\u001b[49m\n\u001b[1;32m    928\u001b[0m \u001b[43m    \u001b[49m\u001b[43mauth\u001b[49m\u001b[38;5;241;43m=\u001b[39;49m\u001b[43mauth\u001b[49m\u001b[43m,\u001b[49m\n\u001b[1;32m    929\u001b[0m \u001b[43m    \u001b[49m\u001b[43mfollow_redirects\u001b[49m\u001b[38;5;241;43m=\u001b[39;49m\u001b[43mfollow_redirects\u001b[49m\u001b[43m,\u001b[49m\n\u001b[1;32m    930\u001b[0m \u001b[43m    \u001b[49m\u001b[43mhistory\u001b[49m\u001b[38;5;241;43m=\u001b[39;49m\u001b[43m[\u001b[49m\u001b[43m]\u001b[49m\u001b[43m,\u001b[49m\n\u001b[1;32m    931\u001b[0m \u001b[43m\u001b[49m\u001b[43m)\u001b[49m\n\u001b[1;32m    932\u001b[0m \u001b[38;5;28;01mtry\u001b[39;00m:\n\u001b[1;32m    933\u001b[0m     \u001b[38;5;28;01mif\u001b[39;00m \u001b[38;5;129;01mnot\u001b[39;00m stream:\n",
      "File \u001b[0;32m~/anaconda3/envs/scar/lib/python3.12/site-packages/httpx/_client.py:954\u001b[0m, in \u001b[0;36mClient._send_handling_auth\u001b[0;34m(self, request, auth, follow_redirects, history)\u001b[0m\n\u001b[1;32m    951\u001b[0m request \u001b[38;5;241m=\u001b[39m \u001b[38;5;28mnext\u001b[39m(auth_flow)\n\u001b[1;32m    953\u001b[0m \u001b[38;5;28;01mwhile\u001b[39;00m \u001b[38;5;28;01mTrue\u001b[39;00m:\n\u001b[0;32m--> 954\u001b[0m     response \u001b[38;5;241m=\u001b[39m \u001b[38;5;28;43mself\u001b[39;49m\u001b[38;5;241;43m.\u001b[39;49m\u001b[43m_send_handling_redirects\u001b[49m\u001b[43m(\u001b[49m\n\u001b[1;32m    955\u001b[0m \u001b[43m        \u001b[49m\u001b[43mrequest\u001b[49m\u001b[43m,\u001b[49m\n\u001b[1;32m    956\u001b[0m \u001b[43m        \u001b[49m\u001b[43mfollow_redirects\u001b[49m\u001b[38;5;241;43m=\u001b[39;49m\u001b[43mfollow_redirects\u001b[49m\u001b[43m,\u001b[49m\n\u001b[1;32m    957\u001b[0m \u001b[43m        \u001b[49m\u001b[43mhistory\u001b[49m\u001b[38;5;241;43m=\u001b[39;49m\u001b[43mhistory\u001b[49m\u001b[43m,\u001b[49m\n\u001b[1;32m    958\u001b[0m \u001b[43m    \u001b[49m\u001b[43m)\u001b[49m\n\u001b[1;32m    959\u001b[0m     \u001b[38;5;28;01mtry\u001b[39;00m:\n\u001b[1;32m    960\u001b[0m         \u001b[38;5;28;01mtry\u001b[39;00m:\n",
      "File \u001b[0;32m~/anaconda3/envs/scar/lib/python3.12/site-packages/httpx/_client.py:991\u001b[0m, in \u001b[0;36mClient._send_handling_redirects\u001b[0;34m(self, request, follow_redirects, history)\u001b[0m\n\u001b[1;32m    988\u001b[0m \u001b[38;5;28;01mfor\u001b[39;00m hook \u001b[38;5;129;01min\u001b[39;00m \u001b[38;5;28mself\u001b[39m\u001b[38;5;241m.\u001b[39m_event_hooks[\u001b[38;5;124m\"\u001b[39m\u001b[38;5;124mrequest\u001b[39m\u001b[38;5;124m\"\u001b[39m]:\n\u001b[1;32m    989\u001b[0m     hook(request)\n\u001b[0;32m--> 991\u001b[0m response \u001b[38;5;241m=\u001b[39m \u001b[38;5;28;43mself\u001b[39;49m\u001b[38;5;241;43m.\u001b[39;49m\u001b[43m_send_single_request\u001b[49m\u001b[43m(\u001b[49m\u001b[43mrequest\u001b[49m\u001b[43m)\u001b[49m\n\u001b[1;32m    992\u001b[0m \u001b[38;5;28;01mtry\u001b[39;00m:\n\u001b[1;32m    993\u001b[0m     \u001b[38;5;28;01mfor\u001b[39;00m hook \u001b[38;5;129;01min\u001b[39;00m \u001b[38;5;28mself\u001b[39m\u001b[38;5;241m.\u001b[39m_event_hooks[\u001b[38;5;124m\"\u001b[39m\u001b[38;5;124mresponse\u001b[39m\u001b[38;5;124m\"\u001b[39m]:\n",
      "File \u001b[0;32m~/anaconda3/envs/scar/lib/python3.12/site-packages/httpx/_client.py:1027\u001b[0m, in \u001b[0;36mClient._send_single_request\u001b[0;34m(self, request)\u001b[0m\n\u001b[1;32m   1022\u001b[0m     \u001b[38;5;28;01mraise\u001b[39;00m \u001b[38;5;167;01mRuntimeError\u001b[39;00m(\n\u001b[1;32m   1023\u001b[0m         \u001b[38;5;124m\"\u001b[39m\u001b[38;5;124mAttempted to send an async request with a sync Client instance.\u001b[39m\u001b[38;5;124m\"\u001b[39m\n\u001b[1;32m   1024\u001b[0m     )\n\u001b[1;32m   1026\u001b[0m \u001b[38;5;28;01mwith\u001b[39;00m request_context(request\u001b[38;5;241m=\u001b[39mrequest):\n\u001b[0;32m-> 1027\u001b[0m     response \u001b[38;5;241m=\u001b[39m \u001b[43mtransport\u001b[49m\u001b[38;5;241;43m.\u001b[39;49m\u001b[43mhandle_request\u001b[49m\u001b[43m(\u001b[49m\u001b[43mrequest\u001b[49m\u001b[43m)\u001b[49m\n\u001b[1;32m   1029\u001b[0m \u001b[38;5;28;01massert\u001b[39;00m \u001b[38;5;28misinstance\u001b[39m(response\u001b[38;5;241m.\u001b[39mstream, SyncByteStream)\n\u001b[1;32m   1031\u001b[0m response\u001b[38;5;241m.\u001b[39mrequest \u001b[38;5;241m=\u001b[39m request\n",
      "File \u001b[0;32m~/anaconda3/envs/scar/lib/python3.12/site-packages/httpx/_transports/default.py:236\u001b[0m, in \u001b[0;36mHTTPTransport.handle_request\u001b[0;34m(self, request)\u001b[0m\n\u001b[1;32m    223\u001b[0m req \u001b[38;5;241m=\u001b[39m httpcore\u001b[38;5;241m.\u001b[39mRequest(\n\u001b[1;32m    224\u001b[0m     method\u001b[38;5;241m=\u001b[39mrequest\u001b[38;5;241m.\u001b[39mmethod,\n\u001b[1;32m    225\u001b[0m     url\u001b[38;5;241m=\u001b[39mhttpcore\u001b[38;5;241m.\u001b[39mURL(\n\u001b[0;32m   (...)\u001b[0m\n\u001b[1;32m    233\u001b[0m     extensions\u001b[38;5;241m=\u001b[39mrequest\u001b[38;5;241m.\u001b[39mextensions,\n\u001b[1;32m    234\u001b[0m )\n\u001b[1;32m    235\u001b[0m \u001b[38;5;28;01mwith\u001b[39;00m map_httpcore_exceptions():\n\u001b[0;32m--> 236\u001b[0m     resp \u001b[38;5;241m=\u001b[39m \u001b[38;5;28;43mself\u001b[39;49m\u001b[38;5;241;43m.\u001b[39;49m\u001b[43m_pool\u001b[49m\u001b[38;5;241;43m.\u001b[39;49m\u001b[43mhandle_request\u001b[49m\u001b[43m(\u001b[49m\u001b[43mreq\u001b[49m\u001b[43m)\u001b[49m\n\u001b[1;32m    238\u001b[0m \u001b[38;5;28;01massert\u001b[39;00m \u001b[38;5;28misinstance\u001b[39m(resp\u001b[38;5;241m.\u001b[39mstream, typing\u001b[38;5;241m.\u001b[39mIterable)\n\u001b[1;32m    240\u001b[0m \u001b[38;5;28;01mreturn\u001b[39;00m Response(\n\u001b[1;32m    241\u001b[0m     status_code\u001b[38;5;241m=\u001b[39mresp\u001b[38;5;241m.\u001b[39mstatus,\n\u001b[1;32m    242\u001b[0m     headers\u001b[38;5;241m=\u001b[39mresp\u001b[38;5;241m.\u001b[39mheaders,\n\u001b[1;32m    243\u001b[0m     stream\u001b[38;5;241m=\u001b[39mResponseStream(resp\u001b[38;5;241m.\u001b[39mstream),\n\u001b[1;32m    244\u001b[0m     extensions\u001b[38;5;241m=\u001b[39mresp\u001b[38;5;241m.\u001b[39mextensions,\n\u001b[1;32m    245\u001b[0m )\n",
      "File \u001b[0;32m~/anaconda3/envs/scar/lib/python3.12/site-packages/httpcore/_sync/connection_pool.py:216\u001b[0m, in \u001b[0;36mConnectionPool.handle_request\u001b[0;34m(self, request)\u001b[0m\n\u001b[1;32m    213\u001b[0m         closing \u001b[38;5;241m=\u001b[39m \u001b[38;5;28mself\u001b[39m\u001b[38;5;241m.\u001b[39m_assign_requests_to_connections()\n\u001b[1;32m    215\u001b[0m     \u001b[38;5;28mself\u001b[39m\u001b[38;5;241m.\u001b[39m_close_connections(closing)\n\u001b[0;32m--> 216\u001b[0m     \u001b[38;5;28;01mraise\u001b[39;00m exc \u001b[38;5;28;01mfrom\u001b[39;00m \u001b[38;5;28;01mNone\u001b[39;00m\n\u001b[1;32m    218\u001b[0m \u001b[38;5;66;03m# Return the response. Note that in this case we still have to manage\u001b[39;00m\n\u001b[1;32m    219\u001b[0m \u001b[38;5;66;03m# the point at which the response is closed.\u001b[39;00m\n\u001b[1;32m    220\u001b[0m \u001b[38;5;28;01massert\u001b[39;00m \u001b[38;5;28misinstance\u001b[39m(response\u001b[38;5;241m.\u001b[39mstream, Iterable)\n",
      "File \u001b[0;32m~/anaconda3/envs/scar/lib/python3.12/site-packages/httpcore/_sync/connection_pool.py:196\u001b[0m, in \u001b[0;36mConnectionPool.handle_request\u001b[0;34m(self, request)\u001b[0m\n\u001b[1;32m    192\u001b[0m connection \u001b[38;5;241m=\u001b[39m pool_request\u001b[38;5;241m.\u001b[39mwait_for_connection(timeout\u001b[38;5;241m=\u001b[39mtimeout)\n\u001b[1;32m    194\u001b[0m \u001b[38;5;28;01mtry\u001b[39;00m:\n\u001b[1;32m    195\u001b[0m     \u001b[38;5;66;03m# Send the request on the assigned connection.\u001b[39;00m\n\u001b[0;32m--> 196\u001b[0m     response \u001b[38;5;241m=\u001b[39m \u001b[43mconnection\u001b[49m\u001b[38;5;241;43m.\u001b[39;49m\u001b[43mhandle_request\u001b[49m\u001b[43m(\u001b[49m\n\u001b[1;32m    197\u001b[0m \u001b[43m        \u001b[49m\u001b[43mpool_request\u001b[49m\u001b[38;5;241;43m.\u001b[39;49m\u001b[43mrequest\u001b[49m\n\u001b[1;32m    198\u001b[0m \u001b[43m    \u001b[49m\u001b[43m)\u001b[49m\n\u001b[1;32m    199\u001b[0m \u001b[38;5;28;01mexcept\u001b[39;00m ConnectionNotAvailable:\n\u001b[1;32m    200\u001b[0m     \u001b[38;5;66;03m# In some cases a connection may initially be available to\u001b[39;00m\n\u001b[1;32m    201\u001b[0m     \u001b[38;5;66;03m# handle a request, but then become unavailable.\u001b[39;00m\n\u001b[1;32m    202\u001b[0m     \u001b[38;5;66;03m#\u001b[39;00m\n\u001b[1;32m    203\u001b[0m     \u001b[38;5;66;03m# In this case we clear the connection and try again.\u001b[39;00m\n\u001b[1;32m    204\u001b[0m     pool_request\u001b[38;5;241m.\u001b[39mclear_connection()\n",
      "File \u001b[0;32m~/anaconda3/envs/scar/lib/python3.12/site-packages/httpcore/_sync/connection.py:101\u001b[0m, in \u001b[0;36mHTTPConnection.handle_request\u001b[0;34m(self, request)\u001b[0m\n\u001b[1;32m     98\u001b[0m     \u001b[38;5;28mself\u001b[39m\u001b[38;5;241m.\u001b[39m_connect_failed \u001b[38;5;241m=\u001b[39m \u001b[38;5;28;01mTrue\u001b[39;00m\n\u001b[1;32m     99\u001b[0m     \u001b[38;5;28;01mraise\u001b[39;00m exc\n\u001b[0;32m--> 101\u001b[0m \u001b[38;5;28;01mreturn\u001b[39;00m \u001b[38;5;28;43mself\u001b[39;49m\u001b[38;5;241;43m.\u001b[39;49m\u001b[43m_connection\u001b[49m\u001b[38;5;241;43m.\u001b[39;49m\u001b[43mhandle_request\u001b[49m\u001b[43m(\u001b[49m\u001b[43mrequest\u001b[49m\u001b[43m)\u001b[49m\n",
      "File \u001b[0;32m~/anaconda3/envs/scar/lib/python3.12/site-packages/httpcore/_sync/http11.py:143\u001b[0m, in \u001b[0;36mHTTP11Connection.handle_request\u001b[0;34m(self, request)\u001b[0m\n\u001b[1;32m    141\u001b[0m     \u001b[38;5;28;01mwith\u001b[39;00m Trace(\u001b[38;5;124m\"\u001b[39m\u001b[38;5;124mresponse_closed\u001b[39m\u001b[38;5;124m\"\u001b[39m, logger, request) \u001b[38;5;28;01mas\u001b[39;00m trace:\n\u001b[1;32m    142\u001b[0m         \u001b[38;5;28mself\u001b[39m\u001b[38;5;241m.\u001b[39m_response_closed()\n\u001b[0;32m--> 143\u001b[0m \u001b[38;5;28;01mraise\u001b[39;00m exc\n",
      "File \u001b[0;32m~/anaconda3/envs/scar/lib/python3.12/site-packages/httpcore/_sync/http11.py:113\u001b[0m, in \u001b[0;36mHTTP11Connection.handle_request\u001b[0;34m(self, request)\u001b[0m\n\u001b[1;32m    102\u001b[0m     \u001b[38;5;28;01mpass\u001b[39;00m\n\u001b[1;32m    104\u001b[0m \u001b[38;5;28;01mwith\u001b[39;00m Trace(\n\u001b[1;32m    105\u001b[0m     \u001b[38;5;124m\"\u001b[39m\u001b[38;5;124mreceive_response_headers\u001b[39m\u001b[38;5;124m\"\u001b[39m, logger, request, kwargs\n\u001b[1;32m    106\u001b[0m ) \u001b[38;5;28;01mas\u001b[39;00m trace:\n\u001b[1;32m    107\u001b[0m     (\n\u001b[1;32m    108\u001b[0m         http_version,\n\u001b[1;32m    109\u001b[0m         status,\n\u001b[1;32m    110\u001b[0m         reason_phrase,\n\u001b[1;32m    111\u001b[0m         headers,\n\u001b[1;32m    112\u001b[0m         trailing_data,\n\u001b[0;32m--> 113\u001b[0m     ) \u001b[38;5;241m=\u001b[39m \u001b[38;5;28;43mself\u001b[39;49m\u001b[38;5;241;43m.\u001b[39;49m\u001b[43m_receive_response_headers\u001b[49m\u001b[43m(\u001b[49m\u001b[38;5;241;43m*\u001b[39;49m\u001b[38;5;241;43m*\u001b[39;49m\u001b[43mkwargs\u001b[49m\u001b[43m)\u001b[49m\n\u001b[1;32m    114\u001b[0m     trace\u001b[38;5;241m.\u001b[39mreturn_value \u001b[38;5;241m=\u001b[39m (\n\u001b[1;32m    115\u001b[0m         http_version,\n\u001b[1;32m    116\u001b[0m         status,\n\u001b[1;32m    117\u001b[0m         reason_phrase,\n\u001b[1;32m    118\u001b[0m         headers,\n\u001b[1;32m    119\u001b[0m     )\n\u001b[1;32m    121\u001b[0m network_stream \u001b[38;5;241m=\u001b[39m \u001b[38;5;28mself\u001b[39m\u001b[38;5;241m.\u001b[39m_network_stream\n",
      "File \u001b[0;32m~/anaconda3/envs/scar/lib/python3.12/site-packages/httpcore/_sync/http11.py:186\u001b[0m, in \u001b[0;36mHTTP11Connection._receive_response_headers\u001b[0;34m(self, request)\u001b[0m\n\u001b[1;32m    183\u001b[0m timeout \u001b[38;5;241m=\u001b[39m timeouts\u001b[38;5;241m.\u001b[39mget(\u001b[38;5;124m\"\u001b[39m\u001b[38;5;124mread\u001b[39m\u001b[38;5;124m\"\u001b[39m, \u001b[38;5;28;01mNone\u001b[39;00m)\n\u001b[1;32m    185\u001b[0m \u001b[38;5;28;01mwhile\u001b[39;00m \u001b[38;5;28;01mTrue\u001b[39;00m:\n\u001b[0;32m--> 186\u001b[0m     event \u001b[38;5;241m=\u001b[39m \u001b[38;5;28;43mself\u001b[39;49m\u001b[38;5;241;43m.\u001b[39;49m\u001b[43m_receive_event\u001b[49m\u001b[43m(\u001b[49m\u001b[43mtimeout\u001b[49m\u001b[38;5;241;43m=\u001b[39;49m\u001b[43mtimeout\u001b[49m\u001b[43m)\u001b[49m\n\u001b[1;32m    187\u001b[0m     \u001b[38;5;28;01mif\u001b[39;00m \u001b[38;5;28misinstance\u001b[39m(event, h11\u001b[38;5;241m.\u001b[39mResponse):\n\u001b[1;32m    188\u001b[0m         \u001b[38;5;28;01mbreak\u001b[39;00m\n",
      "File \u001b[0;32m~/anaconda3/envs/scar/lib/python3.12/site-packages/httpcore/_sync/http11.py:224\u001b[0m, in \u001b[0;36mHTTP11Connection._receive_event\u001b[0;34m(self, timeout)\u001b[0m\n\u001b[1;32m    221\u001b[0m     event \u001b[38;5;241m=\u001b[39m \u001b[38;5;28mself\u001b[39m\u001b[38;5;241m.\u001b[39m_h11_state\u001b[38;5;241m.\u001b[39mnext_event()\n\u001b[1;32m    223\u001b[0m \u001b[38;5;28;01mif\u001b[39;00m event \u001b[38;5;129;01mis\u001b[39;00m h11\u001b[38;5;241m.\u001b[39mNEED_DATA:\n\u001b[0;32m--> 224\u001b[0m     data \u001b[38;5;241m=\u001b[39m \u001b[38;5;28;43mself\u001b[39;49m\u001b[38;5;241;43m.\u001b[39;49m\u001b[43m_network_stream\u001b[49m\u001b[38;5;241;43m.\u001b[39;49m\u001b[43mread\u001b[49m\u001b[43m(\u001b[49m\n\u001b[1;32m    225\u001b[0m \u001b[43m        \u001b[49m\u001b[38;5;28;43mself\u001b[39;49m\u001b[38;5;241;43m.\u001b[39;49m\u001b[43mREAD_NUM_BYTES\u001b[49m\u001b[43m,\u001b[49m\u001b[43m \u001b[49m\u001b[43mtimeout\u001b[49m\u001b[38;5;241;43m=\u001b[39;49m\u001b[43mtimeout\u001b[49m\n\u001b[1;32m    226\u001b[0m \u001b[43m    \u001b[49m\u001b[43m)\u001b[49m\n\u001b[1;32m    228\u001b[0m     \u001b[38;5;66;03m# If we feed this case through h11 we'll raise an exception like:\u001b[39;00m\n\u001b[1;32m    229\u001b[0m     \u001b[38;5;66;03m#\u001b[39;00m\n\u001b[1;32m    230\u001b[0m     \u001b[38;5;66;03m#     httpcore.RemoteProtocolError: can't handle event type\u001b[39;00m\n\u001b[0;32m   (...)\u001b[0m\n\u001b[1;32m    234\u001b[0m     \u001b[38;5;66;03m# perspective. Instead we handle this case distinctly and treat\u001b[39;00m\n\u001b[1;32m    235\u001b[0m     \u001b[38;5;66;03m# it as a ConnectError.\u001b[39;00m\n\u001b[1;32m    236\u001b[0m     \u001b[38;5;28;01mif\u001b[39;00m data \u001b[38;5;241m==\u001b[39m \u001b[38;5;124mb\u001b[39m\u001b[38;5;124m\"\u001b[39m\u001b[38;5;124m\"\u001b[39m \u001b[38;5;129;01mand\u001b[39;00m \u001b[38;5;28mself\u001b[39m\u001b[38;5;241m.\u001b[39m_h11_state\u001b[38;5;241m.\u001b[39mtheir_state \u001b[38;5;241m==\u001b[39m h11\u001b[38;5;241m.\u001b[39mSEND_RESPONSE:\n",
      "File \u001b[0;32m~/anaconda3/envs/scar/lib/python3.12/site-packages/httpcore/_backends/sync.py:126\u001b[0m, in \u001b[0;36mSyncStream.read\u001b[0;34m(self, max_bytes, timeout)\u001b[0m\n\u001b[1;32m    124\u001b[0m \u001b[38;5;28;01mwith\u001b[39;00m map_exceptions(exc_map):\n\u001b[1;32m    125\u001b[0m     \u001b[38;5;28mself\u001b[39m\u001b[38;5;241m.\u001b[39m_sock\u001b[38;5;241m.\u001b[39msettimeout(timeout)\n\u001b[0;32m--> 126\u001b[0m     \u001b[38;5;28;01mreturn\u001b[39;00m \u001b[38;5;28;43mself\u001b[39;49m\u001b[38;5;241;43m.\u001b[39;49m\u001b[43m_sock\u001b[49m\u001b[38;5;241;43m.\u001b[39;49m\u001b[43mrecv\u001b[49m\u001b[43m(\u001b[49m\u001b[43mmax_bytes\u001b[49m\u001b[43m)\u001b[49m\n",
      "File \u001b[0;32m~/anaconda3/envs/scar/lib/python3.12/ssl.py:1233\u001b[0m, in \u001b[0;36mSSLSocket.recv\u001b[0;34m(self, buflen, flags)\u001b[0m\n\u001b[1;32m   1229\u001b[0m     \u001b[38;5;28;01mif\u001b[39;00m flags \u001b[38;5;241m!=\u001b[39m \u001b[38;5;241m0\u001b[39m:\n\u001b[1;32m   1230\u001b[0m         \u001b[38;5;28;01mraise\u001b[39;00m \u001b[38;5;167;01mValueError\u001b[39;00m(\n\u001b[1;32m   1231\u001b[0m             \u001b[38;5;124m\"\u001b[39m\u001b[38;5;124mnon-zero flags not allowed in calls to recv() on \u001b[39m\u001b[38;5;132;01m%s\u001b[39;00m\u001b[38;5;124m\"\u001b[39m \u001b[38;5;241m%\u001b[39m\n\u001b[1;32m   1232\u001b[0m             \u001b[38;5;28mself\u001b[39m\u001b[38;5;241m.\u001b[39m\u001b[38;5;18m__class__\u001b[39m)\n\u001b[0;32m-> 1233\u001b[0m     \u001b[38;5;28;01mreturn\u001b[39;00m \u001b[38;5;28;43mself\u001b[39;49m\u001b[38;5;241;43m.\u001b[39;49m\u001b[43mread\u001b[49m\u001b[43m(\u001b[49m\u001b[43mbuflen\u001b[49m\u001b[43m)\u001b[49m\n\u001b[1;32m   1234\u001b[0m \u001b[38;5;28;01melse\u001b[39;00m:\n\u001b[1;32m   1235\u001b[0m     \u001b[38;5;28;01mreturn\u001b[39;00m \u001b[38;5;28msuper\u001b[39m()\u001b[38;5;241m.\u001b[39mrecv(buflen, flags)\n",
      "File \u001b[0;32m~/anaconda3/envs/scar/lib/python3.12/ssl.py:1106\u001b[0m, in \u001b[0;36mSSLSocket.read\u001b[0;34m(self, len, buffer)\u001b[0m\n\u001b[1;32m   1104\u001b[0m         \u001b[38;5;28;01mreturn\u001b[39;00m \u001b[38;5;28mself\u001b[39m\u001b[38;5;241m.\u001b[39m_sslobj\u001b[38;5;241m.\u001b[39mread(\u001b[38;5;28mlen\u001b[39m, buffer)\n\u001b[1;32m   1105\u001b[0m     \u001b[38;5;28;01melse\u001b[39;00m:\n\u001b[0;32m-> 1106\u001b[0m         \u001b[38;5;28;01mreturn\u001b[39;00m \u001b[38;5;28;43mself\u001b[39;49m\u001b[38;5;241;43m.\u001b[39;49m\u001b[43m_sslobj\u001b[49m\u001b[38;5;241;43m.\u001b[39;49m\u001b[43mread\u001b[49m\u001b[43m(\u001b[49m\u001b[38;5;28;43mlen\u001b[39;49m\u001b[43m)\u001b[49m\n\u001b[1;32m   1107\u001b[0m \u001b[38;5;28;01mexcept\u001b[39;00m SSLError \u001b[38;5;28;01mas\u001b[39;00m x:\n\u001b[1;32m   1108\u001b[0m     \u001b[38;5;28;01mif\u001b[39;00m x\u001b[38;5;241m.\u001b[39margs[\u001b[38;5;241m0\u001b[39m] \u001b[38;5;241m==\u001b[39m SSL_ERROR_EOF \u001b[38;5;129;01mand\u001b[39;00m \u001b[38;5;28mself\u001b[39m\u001b[38;5;241m.\u001b[39msuppress_ragged_eofs:\n",
      "\u001b[0;31mKeyboardInterrupt\u001b[0m: "
     ]
    }
   ],
   "source": [
    "response = agent.run(\"Compare and contrast the revenue and expenses of Uber and Lyft for 2023 and provide an in depth analysis\")\n",
    "print (response)"
   ]
  },
  {
   "cell_type": "markdown",
   "id": "8c2c43bb-df6b-4ad2-8893-d5599b8aade1",
   "metadata": {},
   "source": [
    "#### Setting Up RouterQueryEngine for Executing Complex Financial Queries"
   ]
  },
  {
   "cell_type": "markdown",
   "id": "f6336072-f83f-4f39-9a9a-20d7f4367b8f",
   "metadata": {},
   "source": [
    "1. **Objective**: \n",
    "   - To configure a `RouterQueryEngine` that intelligently selects and uses appropriate tools (`LlamaIndexTool` instances) based on incoming queries related to 10k filings.\n",
    "\n",
    "2. **Function Overview**:\n",
    "   - **`setup_router_query_engine(llama_tools)`**:\n",
    "     - This function sets up a `RouterQueryEngine` that routes queries to the most relevant tools (`LlamaIndexTool` instances).\n",
    "     - It uses `LLMSingleSelector` to select the best tool for the given query.\n",
    "     - Returns the configured `RouterQueryEngine`.\n",
    "\n",
    "3. **Correct Usage**:\n",
    "   - The function should receive a list of `LlamaIndexTool` instances (`llama_tools`) and configure a `RouterQueryEngine` using these tools.\n",
    "   - It correctly returns a `RouterQueryEngine` object instead of a tool configuration."
   ]
  },
  {
   "cell_type": "code",
   "execution_count": 528,
   "id": "0265b48e-0563-4bcb-a3a9-eacc48e49d27",
   "metadata": {},
   "outputs": [],
   "source": [
    "def setup_router_query_engine(tenk_engine):\n",
    "    \"\"\"\n",
    "    Set up a RouterQueryEngine to select the appropriate tool based on the query.\n",
    "\n",
    "    :param llama_tools: List of LlamaIndexTool instances.\n",
    "    :return: RouterQueryEngine object.\n",
    "    \"\"\"\n",
    "    filing_10k_tool_config = IndexToolConfig(\n",
    "                      query_engine=tenk_engine,\n",
    "                      name=\"Filing_10k\",\n",
    "                      description=\"Selects the appropriate company filing query engine based on the query and executes it\",\n",
    "                      #tool_kwargs={\"return_direct\": True}\n",
    "                     )\n",
    "    print(\"RouterQueryEngine for 10k filings set up successfully.\")\n",
    "    return filing_10k_tool_config"
   ]
  },
  {
   "cell_type": "code",
   "execution_count": 554,
   "id": "017cbc88-64b0-410b-b4b8-0e295027ffc7",
   "metadata": {},
   "outputs": [
    {
     "name": "stdout",
     "output_type": "stream",
     "text": [
      "RouterQueryEngine for 10k filings set up successfully.\n"
     ]
    }
   ],
   "source": [
    "router_engine = setup_router_query_engine(tenk_engine)"
   ]
  },
  {
   "cell_type": "code",
   "execution_count": 555,
   "id": "1e245ac8-662b-44f9-a613-ec0e78c2d387",
   "metadata": {},
   "outputs": [
    {
     "name": "stdout",
     "output_type": "stream",
     "text": [
      "LlamaIndexTool instance created successfully with one configuration.\n"
     ]
    }
   ],
   "source": [
    "llama_tools_for_router  = create_llama_index_tools(router_engine)"
   ]
  },
  {
   "cell_type": "code",
   "execution_count": 558,
   "id": "a113d76b-abd5-4a77-8afb-81737f6189fc",
   "metadata": {},
   "outputs": [
    {
     "name": "stdout",
     "output_type": "stream",
     "text": [
      "Plan and Execute agent set up successfully.\n"
     ]
    }
   ],
   "source": [
    "agent = setup_plan_and_execute_agent(llama_tools_for_router, model)"
   ]
  },
  {
   "cell_type": "code",
   "execution_count": 559,
   "id": "6d19a030-1b6c-48ed-a4de-edf4ea32de00",
   "metadata": {
    "scrolled": true
   },
   "outputs": [
    {
     "name": "stdout",
     "output_type": "stream",
     "text": [
      "\n",
      "\n",
      "\u001b[1m> Entering new PlanAndExecute chain...\u001b[0m\n",
      "steps=[Step(value='Research the latest financial reports or earnings releases from Expedia and Booking Holdings for the fiscal year 2023 to gather data on their revenue and expenses.'), Step(value='Compare the revenue figures for both companies, analyzing growth rates, primary revenue sources, and any notable trends or factors influencing these numbers.'), Step(value='Contrast the expense structures of both companies, looking at major areas of spending, efficiency measures, and any significant changes or investments made during the year.'), Step(value='Analyze the impact of external factors such as economic conditions, travel industry trends, and regulatory changes on the financial performance of both companies.'), Step(value='Synthesize the findings to provide an in-depth analysis of the financial health and operational efficiency of Expedia and Booking Holdings, highlighting key differences and similarities.'), Step(value=\"Given the above steps taken, respond to the user's original question by comparing and contrasting the revenue and expenses of Expedia and Booking Holdings for 2023 and providing an in-depth analysis.\\n\\n\")]\n",
      "\n",
      "\u001b[1m> Entering new AgentExecutor chain...\u001b[0m\n",
      "\u001b[32;1m\u001b[1;3mAction:\n",
      "```\n",
      "{\n",
      "  \"action\": \"Filing_10k\",\n",
      "  \"action_input\": {\n",
      "    \"input\": \"Expedia financial report 2023\"\n",
      "  }\n",
      "}\n",
      "```\u001b[0m\n",
      "Observation: \u001b[36;1m\u001b[1;3mThe financial report for Expedia Group, Inc. for the year ended December 31, 2023, shows the following key figures (in millions, except for per share data):\n",
      "\n",
      "- **Revenue**: $12,839\n",
      "- **Operating Income**: $1,033\n",
      "- **Net Income**: $688\n",
      "- **Net Income Attributable to Expedia Group, Inc.**: $797\n",
      "- **Earnings per Share (Basic)**: $5.50\n",
      "- **Earnings per Share (Diluted)**: $5.31\n",
      "\n",
      "The report also details costs and expenses, including:\n",
      "- **Cost of Revenue**: $1,573\n",
      "- **Selling and Marketing (Direct)**: $6,107\n",
      "- **Technology and Content**: $1,358\n",
      "- **General and Administrative**: $771\n",
      "\n",
      "Additionally, the report indicates an impairment of goodwill amounting to $297 million and other long-term asset impairments totaling $129 million. The provision for income taxes was $330 million. \n",
      "\n",
      "Overall, the financial performance reflects significant growth compared to previous years, with notable increases in revenue and net income.\u001b[0m\n",
      "Thought:\u001b[32;1m\u001b[1;3mAction:\n",
      "```\n",
      "{\n",
      "  \"action\": \"Filing_10k\",\n",
      "  \"action_input\": {\n",
      "    \"input\": \"Booking Holdings financial report 2023\"\n",
      "  }\n",
      "}\n",
      "```\u001b[0m\n",
      "Observation: \u001b[36;1m\u001b[1;3mThe financial report for Booking Holdings Inc. for the year ended December 31, 2023, indicates total revenues of $21,365 million, which includes merchant revenues of $10,936 million, agency revenues of $9,414 million, and advertising and other revenues of $1,015 million. The operating expenses totaled $15,530 million, leading to an operating income of $5,835 million. After accounting for interest expense of $897 million and other income of $543 million, the income before income taxes was $5,481 million. The income tax expense was $1,192 million, resulting in a net income of $4,289 million. \n",
      "\n",
      "In terms of comprehensive income, after considering other comprehensive loss adjustments, the total comprehensive income for the year was $4,233 million. The net income applicable to common stockholders per basic share was $118.67, with a weighted-average number of basic common shares outstanding of 36,140,000.\u001b[0m\n",
      "Thought:\u001b[32;1m\u001b[1;3mAction:\n",
      "```\n",
      "{\n",
      "  \"action\": \"Final Answer\",\n",
      "  \"action_input\": \"For the fiscal year 2023, Expedia Group, Inc. reported a revenue of $12,839 million, operating income of $1,033 million, and net income of $688 million. The earnings per share (diluted) were $5.31. Key expenses included cost of revenue at $1,573 million, selling and marketing at $6,107 million, technology and content at $1,358 million, and general and administrative expenses at $771 million. Booking Holdings Inc. reported a total revenue of $21,365 million, with an operating income of $5,835 million and a net income of $4,289 million. The earnings per share for basic common shares were $118.67. Operating expenses totaled $15,530 million, with significant contributions from merchant and agency revenues.\"\n",
      "}\n",
      "```\u001b[0m\n",
      "\n",
      "\u001b[1m> Finished chain.\u001b[0m\n",
      "*****\n",
      "\n",
      "Step: Research the latest financial reports or earnings releases from Expedia and Booking Holdings for the fiscal year 2023 to gather data on their revenue and expenses.\n",
      "\n",
      "Response: For the fiscal year 2023, Expedia Group, Inc. reported a revenue of $12,839 million, operating income of $1,033 million, and net income of $688 million. The earnings per share (diluted) were $5.31. Key expenses included cost of revenue at $1,573 million, selling and marketing at $6,107 million, technology and content at $1,358 million, and general and administrative expenses at $771 million. Booking Holdings Inc. reported a total revenue of $21,365 million, with an operating income of $5,835 million and a net income of $4,289 million. The earnings per share for basic common shares were $118.67. Operating expenses totaled $15,530 million, with significant contributions from merchant and agency revenues.\n",
      "\n",
      "\u001b[1m> Entering new AgentExecutor chain...\u001b[0m\n",
      "\u001b[32;1m\u001b[1;3mTo compare the revenue figures for Expedia Group, Inc. and Booking Holdings Inc. for the fiscal year 2023, we'll analyze the growth rates, primary revenue sources, and any notable trends or factors influencing these numbers based on the provided data.\n",
      "\n",
      "**Revenue Figures:**\n",
      "- Expedia Group, Inc. reported a revenue of $12,839 million.\n",
      "- Booking Holdings Inc. reported a revenue of $21,365 million.\n",
      "\n",
      "**Growth Rates:**\n",
      "To analyze the growth rates, we would need the previous year's revenue figures for both companies to calculate the year-over-year growth. However, based on the provided data alone, we can't calculate the growth rates without the fiscal year 2022 figures.\n",
      "\n",
      "**Primary Revenue Sources:**\n",
      "The provided data does not explicitly detail the primary revenue sources for each company. Typically, for companies like Expedia and Booking Holdings, major revenue sources include commissions from hotel bookings, airline ticket sales, and other travel services. The detailed breakdown of revenue sources was not provided, but significant expenses were mentioned, which indirectly hint at their operational focuses. For instance, high selling and marketing expenses suggest a heavy investment in acquiring customers and driving bookings.\n",
      "\n",
      "**Notable Trends or Factors Influencing These Numbers:**\n",
      "- The travel industry is highly susceptible to global economic conditions, consumer travel trends, and geopolitical events. Any fluctuations in these areas can significantly impact revenue.\n",
      "- Technological advancements and platform enhancements can also influence revenue, as they improve user experience and potentially increase bookings.\n",
      "- Competition between these companies and with other travel platforms is fierce, impacting how much they spend on marketing and the deals they offer to customers.\n",
      "\n",
      "Without more detailed financial data or the previous year's figures, a deeper analysis of growth rates and specific revenue sources is limited. However, the substantial difference in total revenue suggests that Booking Holdings has a larger market share or a more diversified revenue stream compared to Expedia Group, Inc. This could be due to a variety of factors, including but not limited to, a broader global presence, a more diverse portfolio of travel services, or more aggressive or effective marketing strategies.\u001b[0m\n",
      "\n",
      "\u001b[1m> Finished chain.\u001b[0m\n",
      "*****\n",
      "\n",
      "Step: Compare the revenue figures for both companies, analyzing growth rates, primary revenue sources, and any notable trends or factors influencing these numbers.\n",
      "\n",
      "Response: To compare the revenue figures for Expedia Group, Inc. and Booking Holdings Inc. for the fiscal year 2023, we'll analyze the growth rates, primary revenue sources, and any notable trends or factors influencing these numbers based on the provided data.\n",
      "\n",
      "**Revenue Figures:**\n",
      "- Expedia Group, Inc. reported a revenue of $12,839 million.\n",
      "- Booking Holdings Inc. reported a revenue of $21,365 million.\n",
      "\n",
      "**Growth Rates:**\n",
      "To analyze the growth rates, we would need the previous year's revenue figures for both companies to calculate the year-over-year growth. However, based on the provided data alone, we can't calculate the growth rates without the fiscal year 2022 figures.\n",
      "\n",
      "**Primary Revenue Sources:**\n",
      "The provided data does not explicitly detail the primary revenue sources for each company. Typically, for companies like Expedia and Booking Holdings, major revenue sources include commissions from hotel bookings, airline ticket sales, and other travel services. The detailed breakdown of revenue sources was not provided, but significant expenses were mentioned, which indirectly hint at their operational focuses. For instance, high selling and marketing expenses suggest a heavy investment in acquiring customers and driving bookings.\n",
      "\n",
      "**Notable Trends or Factors Influencing These Numbers:**\n",
      "- The travel industry is highly susceptible to global economic conditions, consumer travel trends, and geopolitical events. Any fluctuations in these areas can significantly impact revenue.\n",
      "- Technological advancements and platform enhancements can also influence revenue, as they improve user experience and potentially increase bookings.\n",
      "- Competition between these companies and with other travel platforms is fierce, impacting how much they spend on marketing and the deals they offer to customers.\n",
      "\n",
      "Without more detailed financial data or the previous year's figures, a deeper analysis of growth rates and specific revenue sources is limited. However, the substantial difference in total revenue suggests that Booking Holdings has a larger market share or a more diversified revenue stream compared to Expedia Group, Inc. This could be due to a variety of factors, including but not limited to, a broader global presence, a more diverse portfolio of travel services, or more aggressive or effective marketing strategies.\n",
      "\n",
      "\u001b[1m> Entering new AgentExecutor chain...\u001b[0m\n",
      "\u001b[32;1m\u001b[1;3mTo contrast the expense structures of Expedia Group, Inc. and Booking Holdings Inc. for the fiscal year 2023, we'll focus on the major areas of spending, efficiency measures, and any significant changes or investments made during the year based on the provided data.\n",
      "\n",
      "**Major Areas of Spending:**\n",
      "- **Expedia Group, Inc.:** The key expenses were cost of revenue at $1,573 million, selling and marketing at $6,107 million, technology and content at $1,358 million, and general and administrative expenses at $771 million.\n",
      "- **Booking Holdings Inc.:** Operating expenses totaled $15,530 million, but the specific breakdown into categories like selling and marketing, technology and content, and general and administrative expenses was not provided in the initial response. However, it's noted that significant contributions came from merchant and agency revenues, which suggests a focus on these areas for revenue generation.\n",
      "\n",
      "**Efficiency Measures:**\n",
      "- To assess efficiency, we typically look at the ratio of expenses to revenue, operating margin, and net income margin among other metrics. For Expedia, the operating income of $1,033 million from a revenue of $12,839 million suggests an operating margin of approximately 8.0%, and a net income of $688 million indicates a net margin of approximately 5.4%. For Booking Holdings, with an operating income of $5,835 million from a revenue of $21,365 million, the operating margin is approximately 27.3%, and a net income of $4,289 million suggests a net margin of approximately 20.1%.\n",
      "- These figures indicate that Booking Holdings operates more efficiently, with higher margins reflecting potentially more effective control over expenses or a more profitable revenue structure.\n",
      "\n",
      "**Significant Changes or Investments:**\n",
      "- The provided data does not detail specific changes or investments made during the year, such as acquisitions, divestitures, or significant capital expenditures. Such information would be crucial to understanding shifts in expense structures or strategic focuses.\n",
      "\n",
      "**Conclusion:**\n",
      "- Booking Holdings appears to have a more efficient expense structure compared to Expedia, as evidenced by higher operating and net income margins. This could be due to a variety of factors, including more effective marketing, a more profitable mix of services, or more stringent cost control measures.\n",
      "- The high selling and marketing expenses for Expedia highlight a significant investment in customer acquisition and market share expansion. Without specific details on Booking Holdings' expense categories, it's challenging to make a direct comparison, but the overall efficiency metrics suggest Booking Holdings manages its expenses more effectively to generate higher margins.\n",
      "- For a more detailed analysis, specific breakdowns of Booking Holdings' expenses and information on significant changes or investments for both companies would be necessary.\u001b[0m\n",
      "\n",
      "\u001b[1m> Finished chain.\u001b[0m\n",
      "*****\n",
      "\n",
      "Step: Contrast the expense structures of both companies, looking at major areas of spending, efficiency measures, and any significant changes or investments made during the year.\n",
      "\n",
      "Response: To contrast the expense structures of Expedia Group, Inc. and Booking Holdings Inc. for the fiscal year 2023, we'll focus on the major areas of spending, efficiency measures, and any significant changes or investments made during the year based on the provided data.\n",
      "\n",
      "**Major Areas of Spending:**\n",
      "- **Expedia Group, Inc.:** The key expenses were cost of revenue at $1,573 million, selling and marketing at $6,107 million, technology and content at $1,358 million, and general and administrative expenses at $771 million.\n",
      "- **Booking Holdings Inc.:** Operating expenses totaled $15,530 million, but the specific breakdown into categories like selling and marketing, technology and content, and general and administrative expenses was not provided in the initial response. However, it's noted that significant contributions came from merchant and agency revenues, which suggests a focus on these areas for revenue generation.\n",
      "\n",
      "**Efficiency Measures:**\n",
      "- To assess efficiency, we typically look at the ratio of expenses to revenue, operating margin, and net income margin among other metrics. For Expedia, the operating income of $1,033 million from a revenue of $12,839 million suggests an operating margin of approximately 8.0%, and a net income of $688 million indicates a net margin of approximately 5.4%. For Booking Holdings, with an operating income of $5,835 million from a revenue of $21,365 million, the operating margin is approximately 27.3%, and a net income of $4,289 million suggests a net margin of approximately 20.1%.\n",
      "- These figures indicate that Booking Holdings operates more efficiently, with higher margins reflecting potentially more effective control over expenses or a more profitable revenue structure.\n",
      "\n",
      "**Significant Changes or Investments:**\n",
      "- The provided data does not detail specific changes or investments made during the year, such as acquisitions, divestitures, or significant capital expenditures. Such information would be crucial to understanding shifts in expense structures or strategic focuses.\n",
      "\n",
      "**Conclusion:**\n",
      "- Booking Holdings appears to have a more efficient expense structure compared to Expedia, as evidenced by higher operating and net income margins. This could be due to a variety of factors, including more effective marketing, a more profitable mix of services, or more stringent cost control measures.\n",
      "- The high selling and marketing expenses for Expedia highlight a significant investment in customer acquisition and market share expansion. Without specific details on Booking Holdings' expense categories, it's challenging to make a direct comparison, but the overall efficiency metrics suggest Booking Holdings manages its expenses more effectively to generate higher margins.\n",
      "- For a more detailed analysis, specific breakdowns of Booking Holdings' expenses and information on significant changes or investments for both companies would be necessary.\n",
      "\n",
      "\u001b[1m> Entering new AgentExecutor chain...\u001b[0m\n",
      "\u001b[32;1m\u001b[1;3mTo analyze the impact of external factors such as economic conditions, travel industry trends, and regulatory changes on the financial performance of Expedia Group, Inc. and Booking Holdings Inc. for the fiscal year 2023, we need to consider various sources of information. These external factors can significantly influence the revenue and expenses of companies operating within the travel industry. Economic conditions, including inflation rates, employment levels, and consumer spending power, can affect travel demand. Travel industry trends, such as the shift towards online bookings, the popularity of alternative accommodations, and changes in consumer travel preferences, also play a crucial role. Additionally, regulatory changes, including travel restrictions, visa policies, and health and safety regulations, especially in the context of the COVID-19 pandemic, can have a profound impact.\n",
      "\n",
      "Given the complexity of these factors and their potential impact on the financial performance of Expedia and Booking Holdings, it would be beneficial to review any discussions or analyses provided by the companies themselves in their annual reports or earnings releases. These documents often include management's discussion and analysis of financial condition and results of operations (MD&A), where companies detail the impact of external factors on their performance.\n",
      "\n",
      "Let's start by querying the latest 10-K filings for both Expedia Group, Inc. and Booking Holdings Inc. to find relevant discussions on the impact of external factors on their financial performance for the fiscal year 2023.\n",
      "\n",
      "First, I will query the 10-K filing for Expedia Group, Inc. to find relevant information on how external factors have impacted their financial performance in 2023. \n",
      "\n",
      "Action:\n",
      "```\n",
      "{\n",
      "  \"action\": \"Filing_10k\",\n",
      "  \"action_input\": {\n",
      "    \"input\": \"Expedia Group, Inc. 2023 10-K external factors impact\"\n",
      "  }\n",
      "}\n",
      "```\u001b[0m\n",
      "Observation: \u001b[36;1m\u001b[1;3mIn 2023, Expedia Group, Inc. faced several external factors that impacted its business environment. The COVID-19 pandemic had a significant effect on the global travel industry, although by 2023, the lingering impacts were not expected to significantly affect operations. The overall recovery of travel demand was strong, driven by pent-up demand and a consumer preference for spending on travel experiences.\n",
      "\n",
      "However, the company also contended with inflation and macroeconomic pressures, including rising interest rates, currency fluctuations, and energy price volatility. These factors contributed to a complex business environment, leading to potential volatility in operational results, particularly in the short term. The risk of credit losses and disruptions in service levels was heightened due to the strain on suppliers and partners.\n",
      "\n",
      "Additionally, other potential negative influences included health-related events, political instability, geopolitical conflicts, acts of terrorism, fluctuations in currency values, sustained inflation, sovereign debt issues, and natural disasters. Despite these challenges, the company noted a healthy recovery in travel demand, indicating resilience in the face of external pressures.\u001b[0m\n",
      "Thought:\u001b[32;1m\u001b[1;3mNow, I will query the 10-K filing for Booking Holdings Inc. to find relevant information on how external factors have impacted their financial performance in 2023.\n",
      "\n",
      "Action:\n",
      "```\n",
      "{\n",
      "  \"action\": \"Filing_10k\",\n",
      "  \"action_input\": {\n",
      "    \"input\": \"Booking Holdings Inc. 2023 10-K external factors impact\"\n",
      "  }\n",
      "}\n",
      "```\u001b[0m\n",
      "Observation: \u001b[36;1m\u001b[1;3mThe 2023 10-K report for Booking Holdings Inc. includes a section on risk factors that may impact the company's performance. While specific external factors are not detailed in the provided information, typical external influences could include economic conditions, regulatory changes, competitive pressures, and market dynamics. These factors can affect revenues, operating expenses, and overall financial performance. For a comprehensive understanding, one would need to refer to the specific risk factors outlined in the report.\u001b[0m\n",
      "Thought:\u001b[32;1m\u001b[1;3mBased on the information gathered from the 10-K filings for both Expedia Group, Inc. and Booking Holdings Inc., we can analyze the impact of external factors on their financial performance for the fiscal year 2023.\n",
      "\n",
      "For Expedia Group, Inc., the report highlighted several external factors that influenced its business environment in 2023. The COVID-19 pandemic, although less of a direct impact by 2023, continued to shape the travel industry's landscape. The company faced macroeconomic pressures such as inflation, rising interest rates, currency fluctuations, and energy price volatility. These factors contributed to a complex and potentially volatile operational environment. Additionally, risks related to health events, political instability, geopolitical conflicts, and natural disasters were noted as potential negative influences on the company's performance. Despite these challenges, Expedia Group, Inc. reported a strong recovery in travel demand, indicating resilience and adaptability in the face of external pressures.\n",
      "\n",
      "For Booking Holdings Inc., while the specific external factors were not detailed in the provided summary, it is understood that similar external influences, including economic conditions, regulatory changes, competitive pressures, and market dynamics, could affect the company's revenues, operating expenses, and overall financial performance. The company's risk factors section in the 10-K report would offer detailed insights into how these external factors might impact its business.\n",
      "\n",
      "Both companies operate in a highly dynamic and competitive environment, where external factors such as economic conditions, travel industry trends, and regulatory changes play a significant role in shaping financial performance. The ability to adapt to these external pressures, manage risks effectively, and capitalize on the recovery of travel demand appears to be a key determinant of their success in 2023.\n",
      "\n",
      "In conclusion, while both Expedia Group, Inc. and Booking Holdings Inc. faced challenges due to various external factors, their financial performance in 2023 reflects their strategic responses to these challenges. The resilience in travel demand recovery, despite ongoing macroeconomic pressures and other potential disruptions, underscores the underlying strength and adaptability of the travel industry.\u001b[0m\n",
      "\n",
      "\u001b[1m> Finished chain.\u001b[0m\n",
      "*****\n",
      "\n",
      "Step: Analyze the impact of external factors such as economic conditions, travel industry trends, and regulatory changes on the financial performance of both companies.\n",
      "\n",
      "Response: Based on the information gathered from the 10-K filings for both Expedia Group, Inc. and Booking Holdings Inc., we can analyze the impact of external factors on their financial performance for the fiscal year 2023.\n",
      "\n",
      "For Expedia Group, Inc., the report highlighted several external factors that influenced its business environment in 2023. The COVID-19 pandemic, although less of a direct impact by 2023, continued to shape the travel industry's landscape. The company faced macroeconomic pressures such as inflation, rising interest rates, currency fluctuations, and energy price volatility. These factors contributed to a complex and potentially volatile operational environment. Additionally, risks related to health events, political instability, geopolitical conflicts, and natural disasters were noted as potential negative influences on the company's performance. Despite these challenges, Expedia Group, Inc. reported a strong recovery in travel demand, indicating resilience and adaptability in the face of external pressures.\n",
      "\n",
      "For Booking Holdings Inc., while the specific external factors were not detailed in the provided summary, it is understood that similar external influences, including economic conditions, regulatory changes, competitive pressures, and market dynamics, could affect the company's revenues, operating expenses, and overall financial performance. The company's risk factors section in the 10-K report would offer detailed insights into how these external factors might impact its business.\n",
      "\n",
      "Both companies operate in a highly dynamic and competitive environment, where external factors such as economic conditions, travel industry trends, and regulatory changes play a significant role in shaping financial performance. The ability to adapt to these external pressures, manage risks effectively, and capitalize on the recovery of travel demand appears to be a key determinant of their success in 2023.\n",
      "\n",
      "In conclusion, while both Expedia Group, Inc. and Booking Holdings Inc. faced challenges due to various external factors, their financial performance in 2023 reflects their strategic responses to these challenges. The resilience in travel demand recovery, despite ongoing macroeconomic pressures and other potential disruptions, underscores the underlying strength and adaptability of the travel industry.\n",
      "\n",
      "\u001b[1m> Entering new AgentExecutor chain...\u001b[0m\n",
      "\u001b[32;1m\u001b[1;3mTo synthesize the findings from the analysis of Expedia Group, Inc. and Booking Holdings Inc. for the fiscal year 2023, we'll focus on their financial health, operational efficiency, and how external factors have influenced their performance. This comprehensive analysis will highlight key differences and similarities between the two companies.\n",
      "\n",
      "**Financial Health:**\n",
      "- **Revenue:** Booking Holdings Inc. reported a significantly higher revenue of $21,365 million compared to Expedia Group, Inc.'s $12,839 million. This suggests that Booking Holdings has a larger market share or a more diversified revenue stream.\n",
      "- **Net Income:** Booking Holdings also reported a higher net income of $4,289 million compared to Expedia's $688 million, indicating stronger profitability.\n",
      "- **Earnings Per Share (EPS):** Booking Holdings had a substantially higher EPS ($118.67 for basic common shares) than Expedia ($5.31 diluted), reflecting its greater profitability and possibly a more favorable market perception.\n",
      "\n",
      "**Operational Efficiency:**\n",
      "- **Expense Structure:** Expedia's key expenses were spread across cost of revenue, selling and marketing, technology and content, and general and administrative expenses. Booking Holdings, while not providing a detailed breakdown, showed a total operating expense of $15,530 million, with significant contributions from merchant and agency revenues. The operating margin for Booking Holdings was significantly higher (27.3%) compared to Expedia (8.0%), indicating more efficient operations.\n",
      "- **Efficiency Measures:** Booking Holdings' higher operating and net income margins suggest it manages its expenses more effectively, possibly through more effective marketing, a more profitable mix of services, or more stringent cost control measures.\n",
      "\n",
      "**Impact of External Factors:**\n",
      "- Both companies operate in a highly dynamic environment, with external factors such as economic conditions, travel industry trends, and regulatory changes significantly impacting their performance. Despite these challenges, both companies showed resilience, with Expedia noting a strong recovery in travel demand.\n",
      "- The COVID-19 pandemic, while having a lesser direct impact by 2023, continued to influence the travel industry's landscape, alongside macroeconomic pressures like inflation, rising interest rates, currency fluctuations, and energy price volatility.\n",
      "\n",
      "**Key Differences and Similarities:**\n",
      "- **Market Position and Revenue:** A key difference lies in their market position and revenue, with Booking Holdings leading in both aspects. This could be attributed to a broader global presence, a more diverse portfolio of travel services, or more aggressive marketing strategies.\n",
      "- **Operational Efficiency:** Booking Holdings demonstrates higher operational efficiency, as evidenced by its higher margins. This suggests that Booking Holdings may have a more effective control over its expenses or a more profitable revenue structure.\n",
      "- **Resilience to External Factors:** Both companies showed adaptability to external pressures, indicating a strong strategic focus on managing risks and capitalizing on the recovery of travel demand.\n",
      "\n",
      "In conclusion, while both Expedia Group, Inc. and Booking Holdings Inc. are key players in the travel industry, Booking Holdings appears to be in a stronger financial position and operates more efficiently than Expedia. However, both companies have demonstrated resilience and adaptability in facing external challenges, underlining the competitive and dynamic nature of the travel industry.\u001b[0m\n",
      "\n",
      "\u001b[1m> Finished chain.\u001b[0m\n",
      "*****\n",
      "\n",
      "Step: Synthesize the findings to provide an in-depth analysis of the financial health and operational efficiency of Expedia and Booking Holdings, highlighting key differences and similarities.\n",
      "\n",
      "Response: To synthesize the findings from the analysis of Expedia Group, Inc. and Booking Holdings Inc. for the fiscal year 2023, we'll focus on their financial health, operational efficiency, and how external factors have influenced their performance. This comprehensive analysis will highlight key differences and similarities between the two companies.\n",
      "\n",
      "**Financial Health:**\n",
      "- **Revenue:** Booking Holdings Inc. reported a significantly higher revenue of $21,365 million compared to Expedia Group, Inc.'s $12,839 million. This suggests that Booking Holdings has a larger market share or a more diversified revenue stream.\n",
      "- **Net Income:** Booking Holdings also reported a higher net income of $4,289 million compared to Expedia's $688 million, indicating stronger profitability.\n",
      "- **Earnings Per Share (EPS):** Booking Holdings had a substantially higher EPS ($118.67 for basic common shares) than Expedia ($5.31 diluted), reflecting its greater profitability and possibly a more favorable market perception.\n",
      "\n",
      "**Operational Efficiency:**\n",
      "- **Expense Structure:** Expedia's key expenses were spread across cost of revenue, selling and marketing, technology and content, and general and administrative expenses. Booking Holdings, while not providing a detailed breakdown, showed a total operating expense of $15,530 million, with significant contributions from merchant and agency revenues. The operating margin for Booking Holdings was significantly higher (27.3%) compared to Expedia (8.0%), indicating more efficient operations.\n",
      "- **Efficiency Measures:** Booking Holdings' higher operating and net income margins suggest it manages its expenses more effectively, possibly through more effective marketing, a more profitable mix of services, or more stringent cost control measures.\n",
      "\n",
      "**Impact of External Factors:**\n",
      "- Both companies operate in a highly dynamic environment, with external factors such as economic conditions, travel industry trends, and regulatory changes significantly impacting their performance. Despite these challenges, both companies showed resilience, with Expedia noting a strong recovery in travel demand.\n",
      "- The COVID-19 pandemic, while having a lesser direct impact by 2023, continued to influence the travel industry's landscape, alongside macroeconomic pressures like inflation, rising interest rates, currency fluctuations, and energy price volatility.\n",
      "\n",
      "**Key Differences and Similarities:**\n",
      "- **Market Position and Revenue:** A key difference lies in their market position and revenue, with Booking Holdings leading in both aspects. This could be attributed to a broader global presence, a more diverse portfolio of travel services, or more aggressive marketing strategies.\n",
      "- **Operational Efficiency:** Booking Holdings demonstrates higher operational efficiency, as evidenced by its higher margins. This suggests that Booking Holdings may have a more effective control over its expenses or a more profitable revenue structure.\n",
      "- **Resilience to External Factors:** Both companies showed adaptability to external pressures, indicating a strong strategic focus on managing risks and capitalizing on the recovery of travel demand.\n",
      "\n",
      "In conclusion, while both Expedia Group, Inc. and Booking Holdings Inc. are key players in the travel industry, Booking Holdings appears to be in a stronger financial position and operates more efficiently than Expedia. However, both companies have demonstrated resilience and adaptability in facing external challenges, underlining the competitive and dynamic nature of the travel industry.\n",
      "\n",
      "\u001b[1m> Entering new AgentExecutor chain...\u001b[0m\n",
      "\u001b[32;1m\u001b[1;3mGiven the analysis conducted through the previous steps, we can compare and contrast the revenue and expenses of Expedia and Booking Holdings for the fiscal year 2023, providing an in-depth analysis of their financial health and operational efficiency.\n",
      "\n",
      "**Revenue Comparison:**\n",
      "- **Booking Holdings** reported a significantly higher revenue of $21,365 million compared to **Expedia's** $12,839 million. This substantial difference suggests that Booking Holdings has a larger market share or a more diversified revenue stream, possibly due to a broader global presence or a wider range of travel services offered.\n",
      "\n",
      "**Expenses and Operational Efficiency:**\n",
      "- **Expedia** incurred key expenses across cost of revenue, selling and marketing, technology and content, and general and administrative expenses, with notable figures being $6,107 million in selling and marketing and $1,358 million in technology and content.\n",
      "- **Booking Holdings** did not provide a detailed breakdown of expenses in the provided data, but its total operating expenses were $15,530 million. Despite the lack of detailed categorization, it's clear that Booking Holdings operates with higher efficiency, as evidenced by its higher operating margin (27.3% compared to Expedia's 8.0%) and net income margin (20.1% compared to Expedia's 5.4%).\n",
      "\n",
      "**Impact of External Factors:**\n",
      "- Both companies operate in a highly dynamic environment where external factors such as economic conditions, travel industry trends, and regulatory changes significantly impact their performance. Despite these challenges, both companies showed resilience, with Expedia noting a strong recovery in travel demand. This resilience indicates a strategic focus on managing risks and capitalizing on the recovery of travel demand.\n",
      "\n",
      "**Key Differences and Similarities:**\n",
      "- **Market Position and Revenue:** The primary difference lies in their market position and revenue, with Booking Holdings leading significantly. This could be attributed to a more aggressive or effective marketing strategy, a broader global presence, or a more diverse portfolio of travel services.\n",
      "- **Operational Efficiency:** Booking Holdings demonstrates higher operational efficiency, as evidenced by its higher margins. This suggests that Booking Holdings may have a more effective control over its expenses or a more profitable revenue structure.\n",
      "- **Resilience to External Factors:** Both companies have shown adaptability to external pressures, indicating a strong strategic focus on managing risks and capitalizing on the recovery of travel demand.\n",
      "\n",
      "In conclusion, while both Expedia Group, Inc. and Booking Holdings Inc. are key players in the travel industry, Booking Holdings appears to be in a stronger financial position and operates more efficiently than Expedia. However, both companies have demonstrated resilience and adaptability in facing external challenges, underlining the competitive and dynamic nature of the travel industry.\u001b[0m\n",
      "\n",
      "\u001b[1m> Finished chain.\u001b[0m\n",
      "*****\n",
      "\n",
      "Step: Given the above steps taken, respond to the user's original question by comparing and contrasting the revenue and expenses of Expedia and Booking Holdings for 2023 and providing an in-depth analysis.\n",
      "\n",
      "\n",
      "\n",
      "Response: Given the analysis conducted through the previous steps, we can compare and contrast the revenue and expenses of Expedia and Booking Holdings for the fiscal year 2023, providing an in-depth analysis of their financial health and operational efficiency.\n",
      "\n",
      "**Revenue Comparison:**\n",
      "- **Booking Holdings** reported a significantly higher revenue of $21,365 million compared to **Expedia's** $12,839 million. This substantial difference suggests that Booking Holdings has a larger market share or a more diversified revenue stream, possibly due to a broader global presence or a wider range of travel services offered.\n",
      "\n",
      "**Expenses and Operational Efficiency:**\n",
      "- **Expedia** incurred key expenses across cost of revenue, selling and marketing, technology and content, and general and administrative expenses, with notable figures being $6,107 million in selling and marketing and $1,358 million in technology and content.\n",
      "- **Booking Holdings** did not provide a detailed breakdown of expenses in the provided data, but its total operating expenses were $15,530 million. Despite the lack of detailed categorization, it's clear that Booking Holdings operates with higher efficiency, as evidenced by its higher operating margin (27.3% compared to Expedia's 8.0%) and net income margin (20.1% compared to Expedia's 5.4%).\n",
      "\n",
      "**Impact of External Factors:**\n",
      "- Both companies operate in a highly dynamic environment where external factors such as economic conditions, travel industry trends, and regulatory changes significantly impact their performance. Despite these challenges, both companies showed resilience, with Expedia noting a strong recovery in travel demand. This resilience indicates a strategic focus on managing risks and capitalizing on the recovery of travel demand.\n",
      "\n",
      "**Key Differences and Similarities:**\n",
      "- **Market Position and Revenue:** The primary difference lies in their market position and revenue, with Booking Holdings leading significantly. This could be attributed to a more aggressive or effective marketing strategy, a broader global presence, or a more diverse portfolio of travel services.\n",
      "- **Operational Efficiency:** Booking Holdings demonstrates higher operational efficiency, as evidenced by its higher margins. This suggests that Booking Holdings may have a more effective control over its expenses or a more profitable revenue structure.\n",
      "- **Resilience to External Factors:** Both companies have shown adaptability to external pressures, indicating a strong strategic focus on managing risks and capitalizing on the recovery of travel demand.\n",
      "\n",
      "In conclusion, while both Expedia Group, Inc. and Booking Holdings Inc. are key players in the travel industry, Booking Holdings appears to be in a stronger financial position and operates more efficiently than Expedia. However, both companies have demonstrated resilience and adaptability in facing external challenges, underlining the competitive and dynamic nature of the travel industry.\n",
      "\u001b[1m> Finished chain.\u001b[0m\n",
      "Given the analysis conducted through the previous steps, we can compare and contrast the revenue and expenses of Expedia and Booking Holdings for the fiscal year 2023, providing an in-depth analysis of their financial health and operational efficiency.\n",
      "\n",
      "**Revenue Comparison:**\n",
      "- **Booking Holdings** reported a significantly higher revenue of $21,365 million compared to **Expedia's** $12,839 million. This substantial difference suggests that Booking Holdings has a larger market share or a more diversified revenue stream, possibly due to a broader global presence or a wider range of travel services offered.\n",
      "\n",
      "**Expenses and Operational Efficiency:**\n",
      "- **Expedia** incurred key expenses across cost of revenue, selling and marketing, technology and content, and general and administrative expenses, with notable figures being $6,107 million in selling and marketing and $1,358 million in technology and content.\n",
      "- **Booking Holdings** did not provide a detailed breakdown of expenses in the provided data, but its total operating expenses were $15,530 million. Despite the lack of detailed categorization, it's clear that Booking Holdings operates with higher efficiency, as evidenced by its higher operating margin (27.3% compared to Expedia's 8.0%) and net income margin (20.1% compared to Expedia's 5.4%).\n",
      "\n",
      "**Impact of External Factors:**\n",
      "- Both companies operate in a highly dynamic environment where external factors such as economic conditions, travel industry trends, and regulatory changes significantly impact their performance. Despite these challenges, both companies showed resilience, with Expedia noting a strong recovery in travel demand. This resilience indicates a strategic focus on managing risks and capitalizing on the recovery of travel demand.\n",
      "\n",
      "**Key Differences and Similarities:**\n",
      "- **Market Position and Revenue:** The primary difference lies in their market position and revenue, with Booking Holdings leading significantly. This could be attributed to a more aggressive or effective marketing strategy, a broader global presence, or a more diverse portfolio of travel services.\n",
      "- **Operational Efficiency:** Booking Holdings demonstrates higher operational efficiency, as evidenced by its higher margins. This suggests that Booking Holdings may have a more effective control over its expenses or a more profitable revenue structure.\n",
      "- **Resilience to External Factors:** Both companies have shown adaptability to external pressures, indicating a strong strategic focus on managing risks and capitalizing on the recovery of travel demand.\n",
      "\n",
      "In conclusion, while both Expedia Group, Inc. and Booking Holdings Inc. are key players in the travel industry, Booking Holdings appears to be in a stronger financial position and operates more efficiently than Expedia. However, both companies have demonstrated resilience and adaptability in facing external challenges, underlining the competitive and dynamic nature of the travel industry.\n"
     ]
    }
   ],
   "source": [
    "response = agent.run(\"Compare and contrast the revenue and expenses of Expedia and booking holdings for 2023 and provide an in depth analysis\")\n",
    "print (response)"
   ]
  },
  {
   "cell_type": "markdown",
   "id": "8cd137c9-694d-45ff-b8f0-ac40ceffdd15",
   "metadata": {
    "jp-MarkdownHeadingCollapsed": true
   },
   "source": [
    "### LLMCompiler"
   ]
  },
  {
   "cell_type": "markdown",
   "id": "535b408c-78f6-4b2b-ba35-44aa8481856a",
   "metadata": {},
   "source": [
    "1. **Components Used**:\n",
    "   - **`LLMCompilerAgentWorker`**: This component is used to create an agent worker that leverages the large language model (GPT-4) and a list of tools to compile and respond to queries.\n",
    "   - **`AgentRunner`**: The agent runner is initialized with the agent worker, enabling it to process queries and execute actions based on the worker's capabilities.\n",
    "\n",
    "2. **Model Setup**:\n",
    "   - The code sets up the GPT-4 model (`gpt-4-0125-preview`) with zero temperature, meaning the model will produce consistent and deterministic outputs, which is ideal for factual and analytical responses.\n",
    "\n",
    "3. **Agent Worker Creation**:\n",
    "   - **`LLMCompilerAgentWorker.from_tools`**: This method initializes the agent worker using the provided tools (`tools_tenk2`), which are responsible for handling specific queries related to 10k filings.\n",
    "   - The `verbose` flag is set to `True`, which ensures that detailed logs of the agent's operations are printed, aiding in debugging and understanding the flow.\n",
    "\n",
    "4. **Agent Runner Initialization**:\n",
    "   - **`AgentRunner`**: The agent runner is responsible for managing the agent worker and orchestrating the entire query execution process."
   ]
  },
  {
   "cell_type": "code",
   "execution_count": 210,
   "id": "988a2e17-3f56-4c14-8d93-9215ee6e8030",
   "metadata": {},
   "outputs": [],
   "source": [
    "from llama_index.packs.agents_llm_compiler.step import LLMCompilerAgentWorker\n",
    "from llama_index.core.agent import AgentRunner"
   ]
  },
  {
   "cell_type": "code",
   "execution_count": 244,
   "id": "db461c37-f40a-46d1-a154-edbf5bc49028",
   "metadata": {},
   "outputs": [],
   "source": [
    "model = Settings.llm = OpenAI(model='gpt-4-0125-preview', temperature=0)"
   ]
  },
  {
   "cell_type": "code",
   "execution_count": 255,
   "id": "78521566-25af-41ef-b8ab-55823f88f551",
   "metadata": {},
   "outputs": [
    {
     "name": "stdout",
     "output_type": "stream",
     "text": [
      "Agent Worker created successfully.\n"
     ]
    }
   ],
   "source": [
    "filing_10k_agent_worker = LLMCompilerAgentWorker.from_tools(\n",
    "    tools= [tools_tenk2],\n",
    "    verbose=True,\n",
    "    llm=model\n",
    "    )\n",
    "print(\"Agent Worker created successfully.\")"
   ]
  },
  {
   "cell_type": "code",
   "execution_count": 246,
   "id": "b5c6c4e0-602a-4976-a085-33e38eb5b24e",
   "metadata": {},
   "outputs": [
    {
     "name": "stdout",
     "output_type": "stream",
     "text": [
      "Agent Runner initialized successfully.\n"
     ]
    }
   ],
   "source": [
    "filing_10k_agent = AgentRunner(agent_worker=filing_10k_agent_worker)\n",
    "print(\"Agent Runner initialized successfully.\")"
   ]
  },
  {
   "cell_type": "code",
   "execution_count": 247,
   "id": "3e87bfcf-e37b-4c51-822f-1211b5c97cab",
   "metadata": {},
   "outputs": [],
   "source": [
    "query = \"\"\"\n",
    "Compare and contrast the revenue and expenses\n",
    "of Expedia and Booking Holdings for 2023 and provide an in-depth analysis.\n",
    "\"\"\""
   ]
  },
  {
   "cell_type": "code",
   "execution_count": 248,
   "id": "1430cde6-b9c7-4b08-a258-8863dd2fc0f2",
   "metadata": {
    "scrolled": true
   },
   "outputs": [
    {
     "name": "stdout",
     "output_type": "stream",
     "text": [
      "> Running step 38456728-873a-4a6d-a282-6044d5eeed3d for task 6d9112c0-4c2c-4384-a7f0-fdf63bc8b57f.\n",
      "> Step count: 0\n",
      "\u001b[1;3;38;5;200m> Plan: 1. Filing_10k_query_planner(\"Expedia 2023 revenue and expenses\")\n",
      "2. Filing_10k_query_planner(\"Booking Holdings 2023 revenue and expenses\")\n",
      "3. join()<END_OF_PLAN>\n",
      "\u001b[0mGenerated 4 sub questions.\n",
      "Generated 4 sub questions.\n",
      "\u001b[1;3;38;2;237;90;200m[booking_10k_2023] Q: What was the total revenue reported by Booking Holdings in their 2023 10-K filing?\n",
      "\u001b[0m\u001b[1;3;38;2;90;149;237m[booking_10k_2023] Q: What were the total expenses reported by Booking Holdings in their 2023 10-K filing?\n",
      "\u001b[0m\u001b[1;3;38;2;11;159;203m[booking_10k_2023] Q: What are the key components of Booking Holdings' revenue in 2023?\n",
      "\u001b[0m\u001b[1;3;38;2;155;135;227m[booking_10k_2023] Q: What are the major categories of expenses for Booking Holdings in 2023?\n",
      "\u001b[0m\u001b[1;3;38;2;237;90;200m[expedia_10k_2023] Q: What was Expedia's total revenue for the year 2023?\n",
      "\u001b[0m\u001b[1;3;38;2;90;149;237m[expedia_10k_2023] Q: What were Expedia's total expenses for the year 2023?\n",
      "\u001b[0m\u001b[1;3;38;2;11;159;203m[expedia_10k_2023] Q: What are the key components of Expedia's revenue in 2023?\n",
      "\u001b[0m\u001b[1;3;38;2;155;135;227m[expedia_10k_2023] Q: What are the major categories of expenses reported by Expedia in 2023?\n",
      "\u001b[0m\u001b[1;3;38;2;237;90;200m[booking_10k_2023] A: The total revenue reported by Booking Holdings in their 2023 10-K filing was $21,365 million.\n",
      "\u001b[0m\u001b[1;3;38;2;237;90;200m[expedia_10k_2023] A: Expedia's total revenue for the year 2023 was $12,839 million.\n",
      "\u001b[0m\u001b[1;3;38;2;90;149;237m[booking_10k_2023] A: The total expenses reported by Booking Holdings in their 2023 10-K filing were $15,530 million.\n",
      "\u001b[0m\u001b[1;3;38;2;90;149;237m[expedia_10k_2023] A: Expedia's total expenses for the year 2023 amounted to $11,806 million. This includes costs and expenses such as cost of revenue, selling and marketing, technology and content, general and administrative expenses, depreciation and amortization, and impairment charges.\n",
      "\u001b[0m\u001b[1;3;38;2;155;135;227m[expedia_10k_2023] A: The major categories of expenses reported by Expedia in 2023 include direct costs, which encompass customer operations support, fees to air ticket fulfillment vendors, credit card processing, and other operational costs. Additionally, personnel and overhead costs are included, which cover employee-related expenses and other administrative costs. The total cost of revenue reflects these expenses as a percentage of revenue, indicating the overall financial performance in relation to operational costs.\n",
      "\u001b[0m\u001b[1;3;38;2;11;159;203m[booking_10k_2023] A: The key components of Booking Holdings' revenue in 2023 include:\n",
      "\n",
      "1. **Merchant Revenues**: These are derived from transactions where payments are facilitated from travelers for services provided, primarily from accommodation reservations. This category includes travel reservation commissions, transaction net revenues, credit card processing rebates, customer processing fees, and ancillary fees like travel-related insurance revenues.\n",
      "\n",
      "2. **Agency Revenues**: This revenue comes from travel-related transactions where payments are not facilitated by the company, consisting mainly of travel reservation commissions, predominantly from accommodation reservations.\n",
      "\n",
      "3. **Advertising and Other Revenues**: This includes revenues earned by KAYAK for referrals to online travel companies and advertising placements, as well as revenues from OpenTable for restaurant reservation services and subscription fees for restaurant management services.\n",
      "\n",
      "In total, the company reported revenues of $21.4 billion for the year ended December 31, 2023.\n",
      "\u001b[0m\u001b[1;3;38;2;155;135;227m[booking_10k_2023] A: The major categories of expenses for Booking Holdings in 2023 include:\n",
      "\n",
      "1. **Marketing Expenses**: These consist primarily of costs related to search engine keyword purchases, affiliate programs, referrals from meta-search websites, online and offline brand marketing, and other performance-based marketing. In 2023, marketing expenses were $6.8 billion.\n",
      "\n",
      "2. **Sales and Other Expenses**: This category includes credit card and other payment processing fees associated with merchant transactions, fees paid to third parties for customer services, digital services taxes, chargeback provisions, provisions for expected credit losses, and customer relations costs. Sales and other expenses amounted to $2.7 billion in 2023.\n",
      "\n",
      "3. **Personnel Expenses**: These encompass costs related to staff and operational support necessary for the company's functions, although specific figures for personnel expenses are not detailed in the provided information.\n",
      "\n",
      "These expenses are recorded in the Consolidated Statements of Operations and are substantially variable in nature, reflecting the company's operational dynamics and market conditions.\n",
      "\u001b[0m\u001b[1;3;38;2;11;159;203m[expedia_10k_2023] A: In 2023, Expedia's revenue was primarily derived from four key components: lodging, air, advertising and media, and other services. Lodging accounted for the largest share at 80% of total revenue, generating $10,264 million, which represented a 15% increase from 2022. Air revenue was $410 million, up 13% year-over-year. Advertising and media revenue reached $821 million, a 6% increase from the previous year. Other revenue, which includes various services such as car rentals and travel insurance, totaled $1,344 million, reflecting a 17% decrease from 2022. Overall, total revenue for Expedia in 2023 was $12,839 million, marking a 10% increase compared to 2022.\n",
      "\u001b[0m\u001b[1;3;34mRan task: Filing_10k_query_planner. Observation: In 2023, Booking Holdings reported total revenue of $21,365 million and total expenses of $15,530 million.\n",
      "\u001b[0m\u001b[1;3;34mRan task: Filing_10k_query_planner. Observation: In 2023, Expedia's total revenue was $12,839 million, while its total expenses amounted to $11,806 million.\n",
      "\u001b[0m\u001b[1;3;34mRan task: join. Observation: None\n",
      "\u001b[0m\u001b[1;3;38;5;200m> Thought: Expedia had a revenue of $12,839 million and expenses of $11,806 million, resulting in a profit of $1,033 million. Booking Holdings had a revenue of $21,365 million and expenses of $15,530 million, leading to a profit of $5,835 million. Booking Holdings not only generated more revenue but also maintained a higher profit margin compared to Expedia in 2023.\n",
      "\u001b[0m\u001b[1;3;38;5;200m> Answer: Booking Holdings not only generated more revenue but also maintained a higher profit margin compared to Expedia in 2023.\n",
      "\u001b[0mQuery executed successfully.\n",
      "Response:\n",
      "Booking Holdings not only generated more revenue but also maintained a higher profit margin compared to Expedia in 2023.\n"
     ]
    }
   ],
   "source": [
    "response = filing_10k_agent.chat(query)\n",
    "print(\"Query executed successfully.\")\n",
    "print(f\"Response:\\n{response}\")"
   ]
  },
  {
   "cell_type": "markdown",
   "id": "c5a25a7b-7163-47bb-ae96-f99af9649700",
   "metadata": {
    "jp-MarkdownHeadingCollapsed": true
   },
   "source": [
    "### Agent instend agent"
   ]
  },
  {
   "cell_type": "code",
   "execution_count": 6,
   "id": "09520392-d707-4e3a-8761-bcadd982842f",
   "metadata": {},
   "outputs": [],
   "source": [
    "import nest_asyncio\n",
    "from llama_index.core import StorageContext, load_index_from_storage\n",
    "from llama_index.packs.agents_llm_compiler.step import LLMCompilerAgentWorker\n",
    "from llama_index.core.agent import AgentRunner\n",
    "from llama_index.core.tools import QueryEngineTool, ToolMetadata\n",
    "from llama_index.agent.openai import OpenAIAssistantAgent\n",
    "from langchain.chat_models import ChatOpenAI\n",
    "\n",
    "nest_asyncio.apply()"
   ]
  },
  {
   "cell_type": "code",
   "execution_count": 5,
   "id": "3d926575-bbaa-401c-b4a6-5f4e84253a5c",
   "metadata": {},
   "outputs": [],
   "source": [
    "model = Settings.llm = OpenAI(model='gpt-4-0125-preview', temperature=0)"
   ]
  },
  {
   "cell_type": "code",
   "execution_count": 7,
   "id": "effc23c7-1737-4a9a-9899-f164a685eefa",
   "metadata": {},
   "outputs": [],
   "source": [
    "def load_indices(storage_dir):\n",
    "    \"\"\"\n",
    "    Load 10k indices from the specified storage directory.\n",
    "\n",
    "    :param storage_dir: Directory where indices are stored.\n",
    "    :return: Dictionary of loaded indices.\n",
    "    \"\"\"\n",
    "    indices_paths = {\n",
    "        'expedia_10k_2023': f'{storage_dir}/expedia_10k_2023_index',\n",
    "        'booking_10k_2023': f'{storage_dir}/booking_10k_2023_index',\n",
    "        'uber_10k_2023': f'{storage_dir}/uber_10k_2023_index',\n",
    "        'lyft_10k_2023': f'{storage_dir}/lyft_10k_2023_index'\n",
    "    }\n",
    "    tenk_indices = {\n",
    "        name: load_index_from_storage(StorageContext.from_defaults(persist_dir=path))\n",
    "        for name, path in indices_paths.items()\n",
    "    }\n",
    "    print(\"Loaded all 10k indices from storage.\")\n",
    "    return tenk_indices"
   ]
  },
  {
   "cell_type": "code",
   "execution_count": 8,
   "id": "d832dff6-be75-4917-be99-20ea04a52b78",
   "metadata": {},
   "outputs": [],
   "source": [
    "def create_tools(tenk_indices):\n",
    "    \"\"\"\n",
    "    Create tools from loaded indices to handle queries.\n",
    "\n",
    "    :param tenk_indices: Dictionary of indices for each company's 10k filings.\n",
    "    :return: List of QueryEngineTools configured for each company.\n",
    "    \"\"\"\n",
    "    tools = [\n",
    "        QueryEngineTool(\n",
    "            query_engine=index.as_query_engine(similarity_top_k=3),\n",
    "            metadata=ToolMetadata(\n",
    "                name=name,\n",
    "                description=f\"Provides information from {name.replace('_', ' ')} 10k filing for the year 2023.\"\n",
    "            )\n",
    "        )\n",
    "        for name, index in tenk_indices.items()\n",
    "    ]\n",
    "    print(\"Tools created for all indices.\")\n",
    "    return tools"
   ]
  },
  {
   "cell_type": "code",
   "execution_count": 9,
   "id": "b1f1a5a4-45db-414b-a84c-187de717802f",
   "metadata": {},
   "outputs": [],
   "source": [
    "def setup_and_run_agent(tools, model, query):\n",
    "    \"\"\"\n",
    "    Set up the LLM Compiler Agent Worker, Agent Runner, and run a query.\n",
    "\n",
    "    :param tools: List of tools to be used by the agent.\n",
    "    :param model: Language model configuration.\n",
    "    :param query: Query to be executed by the agent.\n",
    "    :return: Response from the agent.\n",
    "    \"\"\"\n",
    "    filing_10k_agent_worker = LLMCompilerAgentWorker.from_tools(\n",
    "        tools=tools,\n",
    "        verbose=True,\n",
    "        llm=model\n",
    "    )\n",
    "    print(\"Agent Worker created successfully.\")\n",
    "\n",
    "    filing_10k_agent = AgentRunner(agent_worker=filing_10k_agent_worker)\n",
    "    print(\"Agent Runner initialized successfully.\")\n",
    "\n",
    "    response = filing_10k_agent.chat(query)\n",
    "    print(\"Query executed successfully.\")\n",
    "    return response"
   ]
  },
  {
   "cell_type": "code",
   "execution_count": 10,
   "id": "22da76e9-8407-41b8-8891-d6cc7cba762b",
   "metadata": {},
   "outputs": [],
   "source": [
    "def process_and_create_new_agent(initial_response, model):\n",
    "    \"\"\"\n",
    "    Process the initial response data and create a new agent for further analysis.\n",
    "\n",
    "    :param initial_response: Data retrieved from the first agent.\n",
    "    :param model: The language model configuration for the new agent.\n",
    "    :return: Response from the new agent.\n",
    "    \"\"\"\n",
    "    processed_data = f\"Processed result: {initial_response}\"  \n",
    "    new_agent_instructions = \"\"\"\n",
    "    You are a financial analyst with expertise in interpreting company filings.\n",
    "    Use the provided data to give an in-depth analysis of company performance.\n",
    "    \"\"\"\n",
    "\n",
    "    new_agent = OpenAIAssistantAgent.from_new(\n",
    "        name=\"Financial Analysis Agent\",\n",
    "        instructions=new_agent_instructions,\n",
    "        tools=[],  \n",
    "        verbose=True,\n",
    "        run_retrieve_sleep_time=1.0,\n",
    "    )\n",
    "\n",
    "    response = new_agent.chat(processed_data)\n",
    "    print(\"New agent executed successfully.\")\n",
    "    return response"
   ]
  },
  {
   "cell_type": "code",
   "execution_count": 12,
   "id": "53da69f4-e244-4eab-8859-42010ecd6e14",
   "metadata": {},
   "outputs": [],
   "source": [
    "storage_dir = 'Data/storage'"
   ]
  },
  {
   "cell_type": "code",
   "execution_count": 13,
   "id": "1dda5360-a428-4e74-9991-f9fd21bdf9be",
   "metadata": {},
   "outputs": [
    {
     "name": "stdout",
     "output_type": "stream",
     "text": [
      "Loaded all 10k indices from storage.\n"
     ]
    }
   ],
   "source": [
    "tenk_indices = load_indices(storage_dir)"
   ]
  },
  {
   "cell_type": "code",
   "execution_count": 14,
   "id": "eda006b7-ae6c-4a13-bd1b-255a24c6a6ea",
   "metadata": {},
   "outputs": [
    {
     "name": "stdout",
     "output_type": "stream",
     "text": [
      "Tools created for all indices.\n"
     ]
    }
   ],
   "source": [
    "tools_tenk2 = create_tools(tenk_indices)"
   ]
  },
  {
   "cell_type": "code",
   "execution_count": 15,
   "id": "24d10d47-7d56-4a1e-b280-fea8afcfee95",
   "metadata": {},
   "outputs": [],
   "source": [
    "query = \"\"\"\n",
    "Compare and contrast the revenue and expenses\n",
    "of Expedia and Booking Holdings for 2023 and provide an in-depth analysis.\n",
    "\"\"\""
   ]
  },
  {
   "cell_type": "code",
   "execution_count": 16,
   "id": "b362081d-9a97-4cb3-b111-6c2336682421",
   "metadata": {
    "scrolled": true
   },
   "outputs": [
    {
     "name": "stdout",
     "output_type": "stream",
     "text": [
      "Agent Worker created successfully.\n",
      "Agent Runner initialized successfully.\n",
      "> Running step 1b7591d3-7552-4fc8-96ee-869903ce411f for task 6119a683-7f13-449b-aff2-4a52f2b2ff04.\n",
      "> Step count: 0\n",
      "\u001b[1;3;38;5;200m> Plan: 1. expedia_10k_2023({\"input\": \"revenue\"})\n",
      "2. expedia_10k_2023({\"input\": \"expenses\"})\n",
      "3. booking_10k_2023({\"input\": \"revenue\"})\n",
      "4. booking_10k_2023({\"input\": \"expenses\"})\n",
      "5. join()<END_OF_PLAN>\n",
      "\u001b[0m\u001b[1;3;34mRan task: expedia_10k_2023. Observation: The expenses that are not allocated to the reportable segments include accounting, human resources, certain information technology, and legal expenses. These are included in the Corporate and Eliminations section. Additionally, Corporate and Eliminations also encompasses unallocated corporate functions and expenses, amortization of intangible assets and any related impairment, stock-based compensation expense, restructuring and related reorganization charges, legal reserves, occupancy tax and other, and other items excluded from segment operating performance.\n",
      "\u001b[0m\u001b[1;3;34mRan task: expedia_10k_2023. Observation: Revenue is recognized upon the transfer of control of promised services in an amount that reflects the consideration expected to be entitled to in exchange for those services. The company operates primarily under the merchant, agency, and advertising models. In the merchant model, the company facilitates bookings of hotel rooms, alternative accommodations, airline seats, car rentals, and destination services, acting as the merchant of record. In the agency model, reservations are passed to the relevant travel supplier who acts as the merchant of record, with the company receiving commissions or fees. Under the advertising model, access is provided to advertisers for incremental traffic and transactions through various media offerings. Revenue is also generated from subscription-based services and other ancillary services provided to property owners and managers. Revenue figures for the years ended December 31 for 2023, 2022, and 2021 are detailed, showing growth in total revenue and across different business models and service types, including lodging, air, advertising and media, and other revenue streams.\n",
      "\u001b[0m\u001b[1;3;34mRan task: booking_10k_2023. Observation: The company generates substantially all of its revenues by providing online travel reservation services, which facilitate online travel purchases between travel service providers and travelers. These services allow travelers to book travel reservations with travel service providers through the company's platforms. The company's revenue from online travel reservation services is classified into two main categories:\n",
      "\n",
      "1. **Merchant Revenues**: These are derived from travel-related transactions where the company facilitates payments from travelers for the services provided, generally at the time of booking. Merchant revenues include travel reservation commissions and transaction net revenues, revenues from facilitating payments such as credit card processing rebates and customer processing fees, and ancillary fees, including travel-related insurance revenues.\n",
      "\n",
      "2. **Agency Revenues**: These are derived from the company's commissions on travel-related transactions where the company does not facilitate payments from travelers for the services provided. Agency revenues consist almost entirely of travel reservation commissions from accommodation, rental car, and airline reservation services.\n",
      "\n",
      "Additionally, the company earns advertising and other revenues primarily through KAYAK and OpenTable. KAYAK generates advertising revenue by sending referrals to online travel companies and travel service providers and from advertising placements on its platforms. OpenTable generates revenue through reservation fees when diners are seated through its online restaurant reservation service and subscription fees for restaurant management services.\n",
      "\u001b[0m\u001b[1;3;34mRan task: booking_10k_2023. Observation: The document outlines various categories of expenses incurred by the company, including:\n",
      "\n",
      "1. **General and Administrative Expenses**: These are primarily composed of fees for outside professionals, occupancy and office expenses, certain travel transaction taxes, and personnel-related expenses such as travel, relocation, recruiting, and training expenses.\n",
      "\n",
      "2. **Information Technology Expenses**: These expenses mainly include software license and system maintenance fees, cloud computing costs and outsourced data center costs, payments to contractors, and data communications and other expenses associated with operating the company's services.\n",
      "\n",
      "3. **Marketing Expenses**: The marketing expenses are primarily related to search engine keyword purchases, affiliate programs, referrals from meta-search websites, online and offline brand marketing, and other performance-based marketing. The document notes a year-over-year increase in marketing expenses to drive additional gross bookings and revenues, with a specific focus on the efficiency of marketing spend and the return on investment from performance marketing.\n",
      "\n",
      "4. **Sales and Other Expenses**: These expenses consist of credit card and other payment processing fees associated with merchant transactions, fees paid to third parties for call center and other customer services, digital services taxes and other similar taxes, chargeback provisions and fraud prevention expenses, provisions for expected credit losses, and customer relations costs. There was a noted increase in these expenses year-over-year, primarily due to an increase in merchant transaction costs and third-party call center costs.\n",
      "\n",
      "5. **Income Taxes**: The company accounts for income taxes under the asset and liability method, recording deferred tax assets and liabilities based on estimated future tax effects of temporary differences between the tax bases of assets and liabilities and their reported amounts in the Consolidated Balance Sheets. The document also mentions the accounting for taxes on global intangible low-taxed income (\"GILTI\") as period costs.\n",
      "\n",
      "6. **Government Grants and Other Assistance**: The company recognizes government grants in the financial statements when it is probable that the grant will be received and the company will comply with the conditions of the grant. It notes that government grants received during the COVID-19 pandemic were principally to defray personnel costs and were subsequently returned to the respective governments.\n",
      "\n",
      "7. **Benefit Plans**: The company maintains a defined contribution 401(k) savings plan for certain U.S. employees and participates in certain defined contribution plans outside of the United States, providing contributions for eligible employees.\n",
      "\n",
      "8. **Reclassification of Certain Expenses**: The document mentions the reclassification of certain indirect taxes, primarily digital services taxes, between \"General and administrative\" expenses and \"Sales and other expenses,\" which did not affect the previously reported financial outcomes but altered the presentation of these expenses in the financial statements.\n",
      "\u001b[0m\u001b[1;3;34mRan task: join. Observation: None\n",
      "\u001b[0m\u001b[1;3;38;5;200m> Thought: \n",
      "\u001b[0m\u001b[1;3;38;5;200m> Answer: While both Expedia and Booking Holdings have robust revenue models, Booking Holdings' focus on efficiency and marketing ROI contrasts with Expedia's broader service offerings and significant corporate expenses, indicating different strategic priorities in managing their financials.\n",
      "\u001b[0mQuery executed successfully.\n",
      "Initial Agent Response:\n",
      "While both Expedia and Booking Holdings have robust revenue models, Booking Holdings' focus on efficiency and marketing ROI contrasts with Expedia's broader service offerings and significant corporate expenses, indicating different strategic priorities in managing their financials.\n",
      "\n"
     ]
    }
   ],
   "source": [
    "initial_response = setup_and_run_agent(tools_tenk2, model, query)\n",
    "print(f\"Initial Agent Response:\\n{initial_response}\\n\")"
   ]
  },
  {
   "cell_type": "code",
   "execution_count": 17,
   "id": "e4627022-561f-4f35-99a9-d0d1d1134b8c",
   "metadata": {},
   "outputs": [
    {
     "name": "stdout",
     "output_type": "stream",
     "text": [
      "New agent executed successfully.\n",
      "Final Agent Response:\n",
      "Based on your summary, let's delve into an analysis of the financial performance and strategic focus of both Expedia and Booking Holdings.\n",
      "\n",
      "**Revenue Generation and Diversification:**\n",
      "Expedia's broader service offerings may suggest a diversification strategy that aims to capture various segments of the travel industry market. This could include different brands under its umbrella that cater to various travel services such as hotel booking, car rentals, cruises, and flights. Although this approach might potentially increase revenue streams, it can also lead to higher operational costs and complexity in managing the disparate elements of the business.\n",
      "\n",
      "Booking Holdings, by focusing more directly on the efficiency of its core offerings and perhaps minimizing ancillary services, may streamline operations to maximize revenues from its primary business model. By emphasizing marketing ROI, Booking Holdings is likely concentrating resources on activities that directly contribute to the bottom line, reducing unnecessary expenditures and increasing the impact of each marketing dollar spent.\n",
      "\n",
      "**Expenses and Profitability:**\n",
      "Expenses associated with broader service offerings at Expedia could include investments in technology to support each service line, personnel costs for managing various business units, and marketing costs to promote each service independently. This could lead to high corporate overhead and capital expenditure, which might compress margins even if revenues are robust.\n",
      "\n",
      "Comparatively, Booking Holdings' focus on marketing ROI indicates a scrutinized approach to expenditure, where the effectiveness of each cost is measured against the revenue it generates. By optimizing marketing spend, Booking Holdings likely seeks to maintain or increase its profitability margins. It is also plausible that Booking Holdings has been successful in creating efficient operational processes, which could further reduce its overall expenses.\n",
      "\n",
      "**Strategic Priorities:**\n",
      "The strategic priorities evident from this analysis indicate that Expedia may prioritize market capture and service breadth, offering customers a one-stop-shop for travel needs at the expense of higher operational costs. This can be advantageous if it leads to increased customer loyalty and a larger share of the total travel spending per customer.\n",
      "\n",
      "In contrast, Booking Holdings seems to place a premium on financial efficiency and effective marketing, potentially leading to higher profitability. This might attract investors who favor companies with lean operations and strong profit margins. However, Booking Holdings’ narrower focus could also make it more susceptible to disruptions within its core market segments or missed opportunities in areas where Expedia operates.\n",
      "\n",
      "**Conclusion:**\n",
      "Although both companies operate within the same industry, their financial strategies and priorities reflect different approaches to growth and profitability. Investors considering these companies would need to assess which strategy aligns with their investment philosophy and risk appetite. A company like Expedia might appeal to those who are bullish on comprehensive travel solutions and are willing to accept potentially lower margins due to higher costs. On the other hand, Booking Holdings might be more appealing for those who prefer a company with an efficiency-driven model and potentially higher profitability metrics.\n"
     ]
    }
   ],
   "source": [
    "final_response = process_and_create_new_agent(initial_response, model)\n",
    "print(f\"Final Agent Response:\\n{final_response}\")"
   ]
  },
  {
   "cell_type": "code",
   "execution_count": 18,
   "id": "3a5f2056-7267-45cb-befc-555de2957bea",
   "metadata": {},
   "outputs": [],
   "source": [
    "def setup_and_run_agent(company_tools, language_model, analysis_query):\n",
    "    \"\"\"\n",
    "    Set up the LLM Compiler Agent Worker, initialize the Agent Runner, and execute a financial analysis query.\n",
    "\n",
    "    :param company_tools: List of QueryEngineTool instances representing each company's financial data.\n",
    "    :param language_model: Configuration of the language model used for the agent.\n",
    "    :param analysis_query: The query string for the financial analysis to be executed.\n",
    "    :return: Response object from the agent containing the analysis results.\n",
    "    \"\"\"\n",
    "    filing_10k_agent_worker = LLMCompilerAgentWorker.from_tools(\n",
    "        tools=company_tools,\n",
    "        verbose=True,\n",
    "        llm=language_model\n",
    "    )\n",
    "    print(\"LLM Compiler Agent Worker created successfully with company-specific tools.\")\n",
    "\n",
    "    filing_10k_agent = AgentRunner(agent_worker=filing_10k_agent_worker)\n",
    "    print(\"Agent Runner initialized and ready to execute queries.\")\n",
    "\n",
    "    print(f\"Executing query: {analysis_query}\")\n",
    "    response = filing_10k_agent.chat(analysis_query)\n",
    "    print(\"Query execution completed.\")\n",
    "\n",
    "    print(f\"Initial Response from Agent:\\n{response}\\n\")\n",
    "    return response"
   ]
  },
  {
   "cell_type": "code",
   "execution_count": 23,
   "id": "4b988218-6b61-400a-abfa-041219311d80",
   "metadata": {},
   "outputs": [],
   "source": [
    "def process_and_create_new_agent(initial_response, language_model):\n",
    "    \"\"\"\n",
    "    Process the initial response data to find the most relevant results and create a new agent for deeper analysis.\n",
    "\n",
    "    :param initial_response: The initial analysis response from the first agent.\n",
    "    :param language_model: The language model configuration for the new financial analysis agent.\n",
    "    :return: Response from the new agent with a detailed, high-quality analysis.\n",
    "    \"\"\"\n",
    "    refined_data = f\"Processed data focusing on key financial metrics and insights: {initial_response}\"  # Customize based on actual extraction needs\n",
    "\n",
    "    new_agent_instructions = \"\"\"\n",
    "    You are a highly skilled financial analyst with expertise in interpreting complex financial statements.\n",
    "    Your task is to use the refined data provided to deliver a comprehensive and clear analysis, focusing on\n",
    "    the most significant financial insights, trends, and implications for each company.\n",
    "    Use your expertise to highlight key findings and draw actionable conclusions based on the data.\n",
    "    \"\"\"\n",
    "\n",
    "    new_agent = OpenAIAssistantAgent.from_new(\n",
    "        name=\"Refined Financial Analysis Agent\",\n",
    "        instructions=new_agent_instructions,\n",
    "        tools=[],  \n",
    "        verbose=True,\n",
    "        run_retrieve_sleep_time=1.0,\n",
    "    )\n",
    "    print(\"Refined Financial Analysis Agent created\")\n",
    "\n",
    "    response = new_agent.chat(refined_data)\n",
    "    print(\"Refined analysis executed successfully.\")\n",
    "\n",
    "    print(f\"Final Analysis Response:\\n{response}\\n\")\n",
    "    return response"
   ]
  },
  {
   "cell_type": "code",
   "execution_count": 20,
   "id": "e753f2e3-87c7-4c72-9eb1-be1944543007",
   "metadata": {},
   "outputs": [
    {
     "name": "stdout",
     "output_type": "stream",
     "text": [
      "Loaded all 10k indices from storage.\n",
      "Tools created for all indices.\n"
     ]
    }
   ],
   "source": [
    "tenk_indices = load_indices(storage_dir)\n",
    "company_tools = create_tools(tenk_indices)"
   ]
  },
  {
   "cell_type": "code",
   "execution_count": 21,
   "id": "1ee48411-8f6e-4522-9918-510c3741138e",
   "metadata": {
    "scrolled": true
   },
   "outputs": [
    {
     "name": "stdout",
     "output_type": "stream",
     "text": [
      "LLM Compiler Agent Worker created successfully with company-specific tools.\n",
      "Agent Runner initialized and ready to execute queries.\n",
      "Executing query: \n",
      "Compare and contrast the revenue and expenses\n",
      "of Expedia and Booking Holdings for 2023 and provide an in-depth analysis.\n",
      "\n",
      "> Running step ffb503dc-876c-4104-8d8d-d603f3c0a032 for task bd5df6ea-b7fa-427d-8651-75f49fb926b5.\n",
      "> Step count: 0\n",
      "\u001b[1;3;38;5;200m> Plan: 1. expedia_10k_2023({\"input\": \"revenue\"})\n",
      "2. expedia_10k_2023({\"input\": \"expenses\"})\n",
      "3. booking_10k_2023({\"input\": \"revenue\"})\n",
      "4. booking_10k_2023({\"input\": \"expenses\"})\n",
      "5. join()<END_OF_PLAN>\n",
      "\u001b[0m\u001b[1;3;34mRan task: expedia_10k_2023. Observation: The expenses that are not allocated to the reportable segments include accounting, human resources, certain information technology, and legal expenses. These are included in the Corporate and Eliminations category. Additionally, Corporate and Eliminations encompasses unallocated corporate functions and expenses, amortization of intangible assets and any related impairment, stock-based compensation expense, restructuring and related reorganization charges, legal reserves, occupancy tax and other, and other items excluded from segment operating performance.\n",
      "\u001b[0m\u001b[1;3;34mRan task: booking_10k_2023. Observation: Revenue is generated primarily through online travel reservation services, facilitating transactions between travel service providers and travelers. These services include booking accommodations, rental car reservations, airline tickets, and other travel-related services. Revenue is classified into two main categories: merchant and agency. Merchant revenue comes from transactions where payments from travelers are facilitated at the time of booking, including commissions from travel reservations, transaction net revenues, credit card processing rebates, customer processing fees, and ancillary fees like travel-related insurance. Agency revenue is derived from commissions on travel-related transactions where payments from travelers are not facilitated by the company. Additionally, advertising and other revenues are recognized, primarily from KAYAK and OpenTable, through referrals, advertising placements, restaurant reservation services, and subscription fees for restaurant management services.\n",
      "\u001b[0m\u001b[1;3;34mRan task: expedia_10k_2023. Observation: Revenue is recognized upon the transfer of control of promised services in an amount that reflects the consideration expected to be entitled to in exchange for those services. The company operates primarily under the merchant, agency, and advertising models. In the merchant model, the company facilitates bookings of hotel rooms, alternative accommodations, airline seats, car rentals, and destination services, acting as the merchant of record. In the agency model, reservations are passed to the relevant travel supplier who acts as the merchant of record, with the company receiving commissions or fees. Under the advertising model, access is provided to advertisers for traffic and transactions through various media offerings. Revenue is also generated from subscription-based services and other ancillary services. Revenue figures for the years ended December 31 for 2023, 2022, and 2021 are detailed, showing growth in total revenue and across different business models and service types, including lodging, air, and advertising and media. Revenue by geographic area is also presented, distinguishing between the United States and all other countries.\n",
      "\u001b[0m\u001b[1;3;34mRan task: booking_10k_2023. Observation: The document details various categories of expenses incurred by the company, including:\n",
      "\n",
      "1. **General and Administrative Expenses**: These are primarily composed of fees for outside professionals, occupancy and office expenses, certain travel transaction taxes, and personnel-related expenses such as travel, relocation, recruiting, and training expenses.\n",
      "\n",
      "2. **Information Technology Expenses**: These expenses mainly include software license and system maintenance fees, cloud computing costs and outsourced data center costs, payments to contractors, and data communications and other expenses associated with operating the company's services.\n",
      "\n",
      "3. **Marketing Expenses**: The costs in this category primarily consist of search engine keyword purchases, affiliate programs, referrals from meta-search websites, online and offline brand marketing, and other performance-based marketing. The document notes a year-over-year increase in marketing expenses to drive additional gross bookings and revenues, with a specific focus on improving the efficiency of marketing spend and adjusting marketing strategies based on growth, profitability objectives, and travel demand.\n",
      "\n",
      "4. **Sales and Other Expenses**: These expenses include credit card and other payment processing fees associated with merchant transactions, fees paid to third parties for call center and other customer services, digital services taxes and other similar taxes, chargeback provisions and fraud prevention expenses, provisions for expected credit losses, and customer relations costs. There was a noted increase in these expenses year-over-year, primarily due to an increase in merchant transaction costs and third-party call center costs.\n",
      "\n",
      "5. **Benefit Plans**: The company maintains a defined contribution 401(k) savings plan for certain U.S. employees and participates in defined contribution plans outside of the United States, providing contributions for eligible employees. There is also mention of an accrual related to the Netherlands pension fund matter.\n",
      "\n",
      "6. **Accrued Expenses and Other Current Liabilities**: This includes accrued liabilities related to marketing and personnel expenses, with a specific mention of an accrual related to the Netherlands pension fund matter.\n",
      "\n",
      "Additionally, the document mentions the reclassification of certain indirect taxes between \"General and administrative\" expenses and \"Sales and other expenses,\" which did not affect the previously reported financial outcomes but altered the presentation of these expenses in financial statements.\n",
      "\u001b[0m\u001b[1;3;34mRan task: join. Observation: None\n",
      "\u001b[0m\u001b[1;3;38;5;200m> Thought: \n",
      "\u001b[0m\u001b[1;3;38;5;200m> Answer: While both Expedia and Booking Holdings are focused on expanding their market share and revenue in the online travel booking industry, their strategies differ significantly in terms of operational focus and expense allocation, reflecting their unique positions and strategies within the travel industry.\n",
      "\u001b[0mQuery execution completed.\n",
      "Initial Response from Agent:\n",
      "While both Expedia and Booking Holdings are focused on expanding their market share and revenue in the online travel booking industry, their strategies differ significantly in terms of operational focus and expense allocation, reflecting their unique positions and strategies within the travel industry.\n",
      "\n"
     ]
    }
   ],
   "source": [
    "initial_response = setup_and_run_agent(company_tools, model, query)"
   ]
  },
  {
   "cell_type": "code",
   "execution_count": 24,
   "id": "47f28e66-4e0c-4504-b943-67f5c5c4e745",
   "metadata": {},
   "outputs": [
    {
     "name": "stdout",
     "output_type": "stream",
     "text": [
      "Refined Financial Analysis Agent created\n",
      "Refined analysis executed successfully.\n",
      "Final Analysis Response:\n",
      "Financial analysis of Expedia and Booking Holdings typically involves digging into key metrics such as revenue growth, profit margins, operating expenses, capital expenditure, cash flow, and market share trends. To deliver a comprehensive and clear analysis, I will consider these metrics using the processed data with a focus on how these two companies are expanding their market share and revenue, as well as their operational focus and expense allocation.\n",
      "\n",
      "**Revenue Growth and Market Share:**\n",
      "A fundamental measure of success in the online travel industry is how quickly a company is growing its top-line revenue and capturing market share from competitors. An analysis of year-over-year revenue growth can reveal which company is gaining traction more quickly. If Expedia, for instance, is showing faster revenue growth, that might suggest successful marketing initiatives or an effective expansion into new markets. On the other hand, slower growth at Booking Holdings may point to market saturation or stronger competition.\n",
      "\n",
      "**Profit Margins:**\n",
      "Profit margins, both gross and net, are critical to understanding how much money these companies actually keep from their revenues. High gross margins can imply that a company has a strong value proposition and pricing power. Net margins delve further into efficiency by showing what percentage of revenue translates into profit after all expenses are paid. If Booking Holdings has higher net margins compared to Expedia, it might be due to a more efficient operation or a more profitable mix of services.\n",
      "\n",
      "**Operating Expenses:**\n",
      "The operational focus of each company can be derived from how they allocate their operating expenses. For example, higher research and development (R&D) spending could indicate a company investing in technology for a competitive edge, whereas higher marketing expenses might signify efforts to grow market share or enter new markets. Comparing Expedia’s and Booking Holdings’ expenses may enlighten us on their strategic priorities—does one seem to be investing more heavily in customer acquisition, while the other focuses on platform improvements?\n",
      "\n",
      "**Capital Expenditures (CapEx):**\n",
      "CapEx reveals how much each company is investing in its long-term capabilities. A higher CapEx could point to Expedia or Booking Holdings investing in new technologies, acquisitions, or other strategic initiatives that could pay off in the long run. Lower CapEx may indicate a focus on maintaining current operations and profitability.\n",
      "\n",
      "**Cash Flow:**\n",
      "Healthy cash flow is essential for both company stability and the ability to make strategic investments. Analyzing operating cash flow can give insights into the efficiency of the company's core business while looking at free cash flow can help understand the amount of cash available for dividends, share buybacks, or further investments.\n",
      "\n",
      "Based on the provided processed data, my analysis might lead to the following conclusions and actionable insights:\n",
      "\n",
      "1. If Expedia is outpacing Booking Holdings in revenue growth, they might be making inroads into Booking Holdings' market share. Stakeholders could consider investing further in the strategies leading to this growth.\n",
      "\n",
      "2. Suppose Booking Holdings has higher profit margins. In that case, this could indicate a more profitable business model or higher operational efficiency, which could be a sign for Expedia to streamline its operations or revise its pricing strategies.\n",
      "\n",
      "3. A deep dive into the companies' expense allocation could reveal which one is investing in sustainable, long-term growth. If one is spending significantly on marketing while the other is focused on R&D, stakeholders in the former might push for a more balanced approach to secure future growth.\n",
      "\n",
      "4. If either company demonstrates significant CapEx without a corresponding revenue increase, it may be essential to scrutinize the effectiveness of these investments or to possibly reconsider their strategic direction.\n",
      "\n",
      "5. Strong cash flow positions in either company may point to financial health and potential for shareholder returns or reinvestment into growth strategies. Companies with stronger cash flow might also be better positioned to weather economic downturns.\n",
      "\n",
      "Ultimately, underlying trends in these financial metrics can point to broader strategic implications and help guide both companies in optimizing their financial and operational strategies within the competitive online travel booking industry.\n",
      "\n"
     ]
    }
   ],
   "source": [
    "final_response = process_and_create_new_agent(initial_response, model)"
   ]
  },
  {
   "cell_type": "code",
   "execution_count": null,
   "id": "1d5e2653-79f7-419c-a9a5-4ded7ae35489",
   "metadata": {},
   "outputs": [],
   "source": []
  }
 ],
 "metadata": {
  "kernelspec": {
   "display_name": "Semantic Chunking & Agentic RAG",
   "language": "python",
   "name": "scar"
  },
  "language_info": {
   "codemirror_mode": {
    "name": "ipython",
    "version": 3
   },
   "file_extension": ".py",
   "mimetype": "text/x-python",
   "name": "python",
   "nbconvert_exporter": "python",
   "pygments_lexer": "ipython3",
   "version": "3.12.4"
  }
 },
 "nbformat": 4,
 "nbformat_minor": 5
}
